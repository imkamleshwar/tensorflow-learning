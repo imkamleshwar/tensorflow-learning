{
 "cells": [
  {
   "cell_type": "markdown",
   "id": "6d821d65-455f-4c9c-803e-6365c0042f2c",
   "metadata": {},
   "source": [
    "## Transfer Learning with TensorFlow Part 1: Feature Extraction"
   ]
  },
  {
   "cell_type": "markdown",
   "id": "ce973ecf-4709-476b-a3d0-18ee11419825",
   "metadata": {},
   "source": [
    "### downloading the data and unzipping the data"
   ]
  },
  {
   "cell_type": "code",
   "execution_count": 1,
   "id": "855859d7-1221-41d3-8d04-5729e0b38164",
   "metadata": {},
   "outputs": [],
   "source": [
    "# !wget https://storage.googleapis.com/ztm_tf_course/food_vision/10_food_classes_10_percent.zip"
   ]
  },
  {
   "cell_type": "code",
   "execution_count": 2,
   "id": "d718410d-7558-464b-825c-0df783cbc2be",
   "metadata": {},
   "outputs": [],
   "source": [
    "# import zipfile\n",
    "\n",
    "# zip_ref = zipfile.ZipFile(\"10_food_classes_10_percent.zip\")\n",
    "# zip_ref.extractall()\n",
    "# zip_ref.close()"
   ]
  },
  {
   "cell_type": "code",
   "execution_count": 3,
   "id": "138a09cd-17fd-4b5a-a956-45ee0c53518b",
   "metadata": {},
   "outputs": [
    {
     "name": "stdout",
     "output_type": "stream",
     "text": [
      "There are 2 directories and 0 images in '10_food_classes_10_percent'.\n",
      "There are 10 directories and 0 images in '10_food_classes_10_percent/train'.\n",
      "There are 0 directories and 75 images in '10_food_classes_10_percent/train/chicken_wings'.\n",
      "There are 0 directories and 75 images in '10_food_classes_10_percent/train/sushi'.\n",
      "There are 0 directories and 75 images in '10_food_classes_10_percent/train/pizza'.\n",
      "There are 0 directories and 75 images in '10_food_classes_10_percent/train/grilled_salmon'.\n",
      "There are 0 directories and 75 images in '10_food_classes_10_percent/train/hamburger'.\n",
      "There are 0 directories and 75 images in '10_food_classes_10_percent/train/ramen'.\n",
      "There are 0 directories and 75 images in '10_food_classes_10_percent/train/steak'.\n",
      "There are 0 directories and 75 images in '10_food_classes_10_percent/train/fried_rice'.\n",
      "There are 0 directories and 75 images in '10_food_classes_10_percent/train/chicken_curry'.\n",
      "There are 0 directories and 75 images in '10_food_classes_10_percent/train/ice_cream'.\n",
      "There are 10 directories and 0 images in '10_food_classes_10_percent/test'.\n",
      "There are 0 directories and 250 images in '10_food_classes_10_percent/test/chicken_wings'.\n",
      "There are 0 directories and 250 images in '10_food_classes_10_percent/test/sushi'.\n",
      "There are 0 directories and 250 images in '10_food_classes_10_percent/test/pizza'.\n",
      "There are 0 directories and 250 images in '10_food_classes_10_percent/test/grilled_salmon'.\n",
      "There are 0 directories and 250 images in '10_food_classes_10_percent/test/hamburger'.\n",
      "There are 0 directories and 250 images in '10_food_classes_10_percent/test/ramen'.\n",
      "There are 0 directories and 250 images in '10_food_classes_10_percent/test/steak'.\n",
      "There are 0 directories and 250 images in '10_food_classes_10_percent/test/fried_rice'.\n",
      "There are 0 directories and 250 images in '10_food_classes_10_percent/test/chicken_curry'.\n",
      "There are 0 directories and 250 images in '10_food_classes_10_percent/test/ice_cream'.\n"
     ]
    }
   ],
   "source": [
    "# files in each folder\n",
    "import os\n",
    "for dirpath, dirnames, filenames in os.walk(\"10_food_classes_10_percent\"):\n",
    "    print(f\"There are {len(dirnames)} directories and {len(filenames)} images in '{dirpath}'.\")"
   ]
  },
  {
   "cell_type": "markdown",
   "id": "81eddfbd-f60e-451d-abc3-4042ebec1209",
   "metadata": {},
   "source": [
    "### data preparation"
   ]
  },
  {
   "cell_type": "code",
   "execution_count": 4,
   "id": "de3c4f24-eada-40bf-adf7-cb0e27a9a749",
   "metadata": {},
   "outputs": [
    {
     "name": "stdout",
     "output_type": "stream",
     "text": [
      "Training images:\n",
      "Found 750 images belonging to 10 classes.\n",
      "Testing images:\n",
      "Found 2500 images belonging to 10 classes.\n"
     ]
    }
   ],
   "source": [
    "from tensorflow.keras.preprocessing.image import ImageDataGenerator\n",
    "\n",
    "train_dir = \"10_food_classes_10_percent/train/\"\n",
    "test_dir = \"10_food_classes_10_percent/test/\"\n",
    "\n",
    "IMAGE_SHAPE = (224, 224)\n",
    "BATCH_SIZE = 32\n",
    "\n",
    "train_datagen = ImageDataGenerator(rescale=1/255.)\n",
    "test_datagen = ImageDataGenerator(rescale=1/255.)\n",
    "\n",
    "print(\"Training images:\")\n",
    "train_data_10_percent = train_datagen.flow_from_directory(train_dir,\n",
    "                                              target_size=IMAGE_SHAPE,\n",
    "                                              batch_size=BATCH_SIZE,\n",
    "                                              class_mode=\"categorical\")\n",
    "\n",
    "print(\"Testing images:\")\n",
    "test_data = test_datagen.flow_from_directory(test_dir,\n",
    "                                            target_size=IMAGE_SHAPE,\n",
    "                                            batch_size=BATCH_SIZE,\n",
    "                                            class_mode=\"categorical\")"
   ]
  },
  {
   "cell_type": "markdown",
   "id": "00bf154a-c76b-46fe-952b-bc8a59764a5d",
   "metadata": {},
   "source": [
    "### Setting up callbacks (things to run whilst our model trains)\n",
    "   Callbacks are extra functionality you can add to your models to be performed during or after training. Some of the most popular callbacks:\n",
    "\n",
    "   * Tracking experiments with the TensorBoard callback\n",
    "   * Model checkpoint with the ModelCheckpoint callback\n",
    "   * Stopping a model from training (before it trains too long and overfits) with the EarlyStopping callback"
   ]
  },
  {
   "cell_type": "code",
   "execution_count": 5,
   "id": "d902fd8e-2502-4aa2-9a9e-c1e57d3ec1b7",
   "metadata": {},
   "outputs": [],
   "source": [
    "# creating tensflow callback\n",
    "import datetime\n",
    "from tensorflow.keras.callbacks import TensorBoard\n",
    "\n",
    "def create_tensorboard_callback(dir_name, experiment_name):\n",
    "    log_dir = dir_name + \"/\" + experiment_name + \"/\" + datetime.datetime.now().strftime(\"%Y%m%d-%H%M%S\")\n",
    "    tb = TensorBoard(log_dir=log_dir)\n",
    "    print(f\"Saving TensorBoard log files to: {log_dir}\")\n",
    "    return tb"
   ]
  },
  {
   "cell_type": "markdown",
   "id": "fd47b4ac-3a3f-47cd-b687-78b14f2e9aac",
   "metadata": {},
   "source": [
    "### Creating models using TensorFlow Hub"
   ]
  },
  {
   "cell_type": "code",
   "execution_count": 6,
   "id": "1dec408a-24f0-400e-a180-d3dd7e291ba9",
   "metadata": {},
   "outputs": [],
   "source": [
    "# Let's compare the following two models\n",
    "resnet_url = \"https://tfhub.dev/google/imagenet/resnet_v2_50/feature_vector/4\"\n",
    "\n",
    "efficientnet_url = \"https://tfhub.dev/tensorflow/efficientnet/b0/feature-vector/1\""
   ]
  },
  {
   "cell_type": "code",
   "execution_count": 7,
   "id": "a5141326-6506-4dfd-8f4f-6300d4f67628",
   "metadata": {},
   "outputs": [],
   "source": [
    "# import dependencies\n",
    "import tensorflow as tf\n",
    "import tensorflow_hub as tfhub\n",
    "from tensorflow.keras.models import Sequential\n",
    "from tensorflow.keras.layers import Dense"
   ]
  },
  {
   "cell_type": "code",
   "execution_count": 8,
   "id": "e5727f54-f0e7-43b2-8239-f0375c620c47",
   "metadata": {},
   "outputs": [],
   "source": [
    "# Let's make a create_model() function to create a model from a URL\n",
    "def create_model(model_url, num_classes=10):\n",
    "    \"\"\"\n",
    "    Takes a TensorFlow Hub URL and creates a Keras Sequential model with it.\n",
    "\n",
    "    Args:\n",
    "        model_url (str): A TensorFlow Hub feature extraction URL.\n",
    "        num_classes (int): Number of output neurons in the output layer,\n",
    "          should be equal to number of target classes, default 10.\n",
    "  \n",
    "    Returns:\n",
    "        An uncompiled Keras Sequential model with model_url as feature extractor\n",
    "        layer and Dense output layer with num_classes output neurons.\n",
    "    \"\"\"\n",
    "    \n",
    "    # Download the pretrained model and save it as a Keras layer\n",
    "    feature_extractor_layer = tfhub.KerasLayer(model_url,\n",
    "                                              trainable=False, # freeze the already learned patterns\n",
    "                                              name=\"feature_extraction_layer\",\n",
    "                                              input_shape=IMAGE_SHAPE+(3,))\n",
    "    \n",
    "    # Create our own model\n",
    "    model = Sequential([\n",
    "        feature_extractor_layer,\n",
    "        Dense(num_classes, activation=\"softmax\", name=\"output_layer\")\n",
    "    ])\n",
    "    \n",
    "    return model"
   ]
  },
  {
   "cell_type": "markdown",
   "id": "fe4c73e0-ba9e-4242-948c-05fcd63e2f0b",
   "metadata": {},
   "source": [
    "### Creating and testing ResNet TensorFlow Hub Feature Extraction model"
   ]
  },
  {
   "cell_type": "code",
   "execution_count": 24,
   "id": "89dc02ee-508b-4cab-a415-a1d67bc90f6f",
   "metadata": {},
   "outputs": [],
   "source": [
    "# creating resnet model\n",
    "resnet_model = create_model(resnet_url, num_classes=train_data_10_percent.num_classes)"
   ]
  },
  {
   "cell_type": "code",
   "execution_count": 10,
   "id": "72995117-9faf-496b-8b91-797291927703",
   "metadata": {},
   "outputs": [],
   "source": [
    "# compile resnet model\n",
    "from tensorflow.keras.losses import categorical_crossentropy\n",
    "from tensorflow.keras.optimizers import Adam\n",
    "from tensorflow.keras.metrics import Accuracy\n",
    "\n",
    "resnet_model.compile(loss=categorical_crossentropy,\n",
    "                    optimizer=Adam(),\n",
    "                    metrics=[\"accuracy\"]\n",
    "                    )"
   ]
  },
  {
   "cell_type": "code",
   "execution_count": 11,
   "id": "aea454e9-c474-4bc6-b824-bfdd1dedebb1",
   "metadata": {},
   "outputs": [
    {
     "name": "stdout",
     "output_type": "stream",
     "text": [
      "Saving TensorBoard log files to: tensorflow_hub/resnet50V2/20220121-211904\n",
      "Epoch 1/5\n",
      "24/24 [==============================] - 108s 5s/step - loss: 1.9209 - accuracy: 0.3507 - val_loss: 1.1992 - val_accuracy: 0.6276\n",
      "Epoch 2/5\n",
      "24/24 [==============================] - 105s 4s/step - loss: 0.9286 - accuracy: 0.7320 - val_loss: 0.8481 - val_accuracy: 0.7348\n",
      "Epoch 3/5\n",
      "24/24 [==============================] - 103s 4s/step - loss: 0.6338 - accuracy: 0.8293 - val_loss: 0.7679 - val_accuracy: 0.7524\n",
      "Epoch 4/5\n",
      "24/24 [==============================] - 102s 4s/step - loss: 0.5021 - accuracy: 0.8747 - val_loss: 0.7069 - val_accuracy: 0.7712\n",
      "Epoch 5/5\n",
      "24/24 [==============================] - 102s 4s/step - loss: 0.3959 - accuracy: 0.9187 - val_loss: 0.6749 - val_accuracy: 0.7820\n"
     ]
    }
   ],
   "source": [
    "# fit our ResNet model to the data (10 percent of 10 classes)\n",
    "resnet_history = resnet_model.fit(train_data_10_percent,\n",
    "                epochs=5,\n",
    "                steps_per_epoch=len(train_data_10_percent),\n",
    "                validation_data=test_data,\n",
    "                validation_steps=len(test_data),\n",
    "                callbacks=[create_tensorboard_callback(dir_name=\"tensorflow_hub\",\n",
    "                                                      experiment_name=\"resnet50V2\"\n",
    "                                                      )])"
   ]
  },
  {
   "cell_type": "code",
   "execution_count": 15,
   "id": "10cc8876-ae06-4f7c-8cda-fe0398b3caca",
   "metadata": {},
   "outputs": [],
   "source": [
    "# Let's create a function to plot our loss curves...\n",
    "import matplotlib.pyplot as plt\n",
    "\n",
    "# Plot the validation and training curves\n",
    "def plot_loss_curves(history):\n",
    "  \"\"\"\n",
    "  Returns separate loss curves for training and validation metrics.\n",
    "\n",
    "  Args:\n",
    "    history: TensorFlow History object.\n",
    "\n",
    "  Returns:\n",
    "    Plots of training/validation loss and accuracy metrics.\n",
    "  \"\"\"\n",
    "  loss = history.history[\"loss\"]\n",
    "  val_loss = history.history[\"val_loss\"]\n",
    "\n",
    "  accuracy = history.history[\"accuracy\"]\n",
    "  val_accuracy = history.history[\"val_accuracy\"]\n",
    "\n",
    "  epochs = range(len(history.history[\"loss\"]))\n",
    "\n",
    "  # Plot loss\n",
    "  plt.plot(epochs, loss, label=\"training_loss\")\n",
    "  plt.plot(epochs, val_loss, label=\"val_loss\")\n",
    "  plt.title(\"Loss\")\n",
    "  plt.xlabel(\"Epochs\")\n",
    "  plt.legend()\n",
    "\n",
    "  # Plot accuracy\n",
    "  plt.figure()\n",
    "  plt.plot(epochs, accuracy, label=\"training_accuracy\")\n",
    "  plt.plot(epochs, val_accuracy, label=\"val_accuracy\")\n",
    "  plt.title(\"Accuracy\")\n",
    "  plt.xlabel(\"Epochs\")\n",
    "  plt.legend();"
   ]
  },
  {
   "cell_type": "code",
   "execution_count": 17,
   "id": "862074fc-89ea-44cf-9050-4b5ce7878f70",
   "metadata": {},
   "outputs": [
    {
     "data": {
      "image/png": "[encoded data removed]",
      "text/plain": [
       "<Figure size 432x288 with 1 Axes>"
      ]
     },
     "metadata": {
      "needs_background": "light"
     },
     "output_type": "display_data"
    },
    {
     "data": {
      "image/png": "[encoded data removed]",
      "text/plain": [
       "<Figure size 432x288 with 1 Axes>"
      ]
     },
     "metadata": {
      "needs_background": "light"
     },
     "output_type": "display_data"
    }
   ],
   "source": [
    "plot_loss_curves(resnet_history)"
   ]
  },
  {
   "cell_type": "markdown",
   "id": "85db5107-46ec-4994-afb8-fd8866bfd71a",
   "metadata": {},
   "source": [
    "### Creating and testing EfficientNetB0 TensorFlow Hub Feature Extraction model"
   ]
  },
  {
   "cell_type": "code",
   "execution_count": 20,
   "id": "0b5cee28-92f3-4787-97d6-01281995765f",
   "metadata": {},
   "outputs": [
    {
     "name": "stdout",
     "output_type": "stream",
     "text": [
      "Saving TensorBoard log files to: tensorflow_hub/efficientnetb0/20220121-214304\n",
      "Epoch 1/5\n",
      "24/24 [==============================] - 71s 3s/step - loss: 1.8575 - accuracy: 0.4213 - val_loss: 1.3177 - val_accuracy: 0.7332\n",
      "Epoch 2/5\n",
      "24/24 [==============================] - 65s 3s/step - loss: 1.0694 - accuracy: 0.7773 - val_loss: 0.8734 - val_accuracy: 0.8180\n",
      "Epoch 3/5\n",
      "24/24 [==============================] - 66s 3s/step - loss: 0.7633 - accuracy: 0.8307 - val_loss: 0.6999 - val_accuracy: 0.8500\n",
      "Epoch 4/5\n",
      "24/24 [==============================] - 67s 3s/step - loss: 0.6132 - accuracy: 0.8667 - val_loss: 0.6090 - val_accuracy: 0.8616\n",
      "Epoch 5/5\n",
      "24/24 [==============================] - 67s 3s/step - loss: 0.5152 - accuracy: 0.8933 - val_loss: 0.5583 - val_accuracy: 0.8616\n"
     ]
    }
   ],
   "source": [
    "# create train_data_10_percent model\n",
    "efficientnet_model = create_model(efficientnet_url, num_classes=train_data_10_percent.num_classes)\n",
    "\n",
    "# compile the model\n",
    "efficientnet_model.compile(loss=\"categorical_crossentropy\",\n",
    "                          optimizer=\"adam\",\n",
    "                          metrics=[\"accuracy\"])\n",
    "\n",
    "# fit the model\n",
    "efficientnet_history = efficientnet_model.fit(train_data_10_percent,\n",
    "                                              epochs=5,\n",
    "                                              steps_per_epoch=len(train_data_10_percent),\n",
    "                                              validation_data=test_data,\n",
    "                                              validation_steps=len(test_data),\n",
    "                                              callbacks=[create_tensorboard_callback(dir_name=\"tensorflow_hub\",\n",
    "                                                                                     experiment_name=\"efficientnetb0\")])\n"
   ]
  },
  {
   "cell_type": "code",
   "execution_count": 21,
   "id": "6d80119a-3e0a-4385-8e5c-fe7e4a6c2b9c",
   "metadata": {},
   "outputs": [
    {
     "data": {
      "image/png": "[encoded data removed]",
      "text/plain": [
       "<Figure size 432x288 with 1 Axes>"
      ]
     },
     "metadata": {
      "needs_background": "light"
     },
     "output_type": "display_data"
    },
    {
     "data": {
      "image/png": "[encoded data removed]",
      "text/plain": [
       "<Figure size 432x288 with 1 Axes>"
      ]
     },
     "metadata": {
      "needs_background": "light"
     },
     "output_type": "display_data"
    }
   ],
   "source": [
    "plot_loss_curves(efficientnet_history)"
   ]
  },
  {
   "cell_type": "code",
   "execution_count": 22,
   "id": "0d7d0f44-1ccf-4f62-99f1-e8a60505ae77",
   "metadata": {},
   "outputs": [
    {
     "name": "stdout",
     "output_type": "stream",
     "text": [
      "Model: \"sequential_3\"\n",
      "_________________________________________________________________\n",
      " Layer (type)                Output Shape              Param #   \n",
      "=================================================================\n",
      " feature_extraction_layer (K  (None, 1280)             4049564   \n",
      " erasLayer)                                                      \n",
      "                                                                 \n",
      " output_layer (Dense)        (None, 10)                12810     \n",
      "                                                                 \n",
      "=================================================================\n",
      "Total params: 4,062,374\n",
      "Trainable params: 12,810\n",
      "Non-trainable params: 4,049,564\n",
      "_________________________________________________________________\n"
     ]
    }
   ],
   "source": [
    "efficientnet_model.summary()"
   ]
  },
  {
   "cell_type": "code",
   "execution_count": 23,
   "id": "7d85f8b8-b039-4fb4-80e3-ad5f89b30200",
   "metadata": {},
   "outputs": [
    {
     "name": "stdout",
     "output_type": "stream",
     "text": [
      "Model: \"sequential\"\n",
      "_________________________________________________________________\n",
      " Layer (type)                Output Shape              Param #   \n",
      "=================================================================\n",
      " feature_extraction_layer (K  (None, 2048)             23564800  \n",
      " erasLayer)                                                      \n",
      "                                                                 \n",
      " output_layer (Dense)        (None, 10)                20490     \n",
      "                                                                 \n",
      "=================================================================\n",
      "Total params: 23,585,290\n",
      "Trainable params: 20,490\n",
      "Non-trainable params: 23,564,800\n",
      "_________________________________________________________________\n"
     ]
    }
   ],
   "source": [
    "resnet_model.summary()"
   ]
  },
  {
   "cell_type": "code",
   "execution_count": null,
   "id": "f4a13993-28c3-43ab-935d-12087d2c0aba",
   "metadata": {},
   "outputs": [],
   "source": []
  }
 ],
 "metadata": {
  "kernelspec": {
   "display_name": "Python 3",
   "language": "python",
   "name": "python3"
  },
  "language_info": {
   "codemirror_mode": {
    "name": "ipython",
    "version": 3
   },
   "file_extension": ".py",
   "mimetype": "text/x-python",
   "name": "python",
   "nbconvert_exporter": "python",
   "pygments_lexer": "ipython3",
   "version": "3.8.10"
  }
 },
 "nbformat": 4,
 "nbformat_minor": 5
}
