{
 "cells": [
  {
   "cell_type": "markdown",
   "id": "837b03a4-0903-47b6-9436-d240204d0248",
   "metadata": {},
   "source": [
    "## FOOD101: feature extraction transfer learning model with 10% of data and data augmentation"
   ]
  },
  {
   "cell_type": "code",
   "execution_count": 1,
   "id": "f6040b9c-4be9-42b6-b8ea-a7a455f471ef",
   "metadata": {},
   "outputs": [],
   "source": [
    "# Get the helper function\n",
    "#!wget https://raw.githubusercontent.com/mrdbourke/tensorflow-deep-learning/main/extras/helper_functions.py"
   ]
  },
  {
   "cell_type": "code",
   "execution_count": 2,
   "id": "58a77b4b-7ce8-49d1-bb57-de3fe6649a82",
   "metadata": {},
   "outputs": [],
   "source": [
    "# Download the 10% of the data FOOD101\n",
    "# uncomment if required\n",
    "#!wget https://storage.googleapis.com/ztm_tf_course/food_vision/10_food_classes_10_percent.zip"
   ]
  },
  {
   "cell_type": "code",
   "execution_count": 3,
   "id": "2dd9a133-b2f7-4ed3-b0ee-54bccb8a00cc",
   "metadata": {},
   "outputs": [],
   "source": [
    "# import the required fuctions from helper script\n",
    "from helper_functions import create_tensorboard_callback, plot_loss_curves, unzip_data, walk_through_dir"
   ]
  },
  {
   "cell_type": "code",
   "execution_count": 4,
   "id": "de1fbe0b-b246-47de-837a-093af0e02189",
   "metadata": {},
   "outputs": [],
   "source": [
    "# unzip the data using function present in the helper script\n",
    "#unzip_data(\"10_food_classes_10_percent.zip\")"
   ]
  },
  {
   "cell_type": "code",
   "execution_count": 5,
   "id": "5e3592db-88a5-4995-952c-026c5b7b73e7",
   "metadata": {},
   "outputs": [],
   "source": [
    "# 1. define the training train and test dir\n",
    "train_dir_10_percent_1 = \"10_food_classes_10_percent/train/\"\n",
    "test_dir_1 = \"10_food_classes_10_percent/test/\""
   ]
  },
  {
   "cell_type": "code",
   "execution_count": 6,
   "id": "74658d51-dd74-40b2-a6ee-3bfbb02b60af",
   "metadata": {},
   "outputs": [
    {
     "name": "stdout",
     "output_type": "stream",
     "text": [
      "There are 2 directories and 0 images in '10_food_classes_10_percent'.\n",
      "There are 10 directories and 0 images in '10_food_classes_10_percent/train'.\n",
      "There are 0 directories and 75 images in '10_food_classes_10_percent/train/chicken_wings'.\n",
      "There are 0 directories and 75 images in '10_food_classes_10_percent/train/sushi'.\n",
      "There are 0 directories and 75 images in '10_food_classes_10_percent/train/pizza'.\n",
      "There are 0 directories and 75 images in '10_food_classes_10_percent/train/grilled_salmon'.\n",
      "There are 0 directories and 75 images in '10_food_classes_10_percent/train/hamburger'.\n",
      "There are 0 directories and 75 images in '10_food_classes_10_percent/train/ramen'.\n",
      "There are 0 directories and 75 images in '10_food_classes_10_percent/train/steak'.\n",
      "There are 0 directories and 75 images in '10_food_classes_10_percent/train/fried_rice'.\n",
      "There are 0 directories and 75 images in '10_food_classes_10_percent/train/chicken_curry'.\n",
      "There are 0 directories and 75 images in '10_food_classes_10_percent/train/ice_cream'.\n",
      "There are 10 directories and 0 images in '10_food_classes_10_percent/test'.\n",
      "There are 0 directories and 250 images in '10_food_classes_10_percent/test/chicken_wings'.\n",
      "There are 0 directories and 250 images in '10_food_classes_10_percent/test/sushi'.\n",
      "There are 0 directories and 250 images in '10_food_classes_10_percent/test/pizza'.\n",
      "There are 0 directories and 250 images in '10_food_classes_10_percent/test/grilled_salmon'.\n",
      "There are 0 directories and 250 images in '10_food_classes_10_percent/test/hamburger'.\n",
      "There are 0 directories and 250 images in '10_food_classes_10_percent/test/ramen'.\n",
      "There are 0 directories and 250 images in '10_food_classes_10_percent/test/steak'.\n",
      "There are 0 directories and 250 images in '10_food_classes_10_percent/test/fried_rice'.\n",
      "There are 0 directories and 250 images in '10_food_classes_10_percent/test/chicken_curry'.\n",
      "There are 0 directories and 250 images in '10_food_classes_10_percent/test/ice_cream'.\n"
     ]
    }
   ],
   "source": [
    "# 2. check the files count using the walk_through_dir from helper script\n",
    "walk_through_dir(\"10_food_classes_10_percent\")"
   ]
  },
  {
   "cell_type": "code",
   "execution_count": 25,
   "id": "5431ef65-753e-408d-a203-5f28caf4294b",
   "metadata": {},
   "outputs": [
    {
     "name": "stdout",
     "output_type": "stream",
     "text": [
      "Found 750 files belonging to 10 classes.\n",
      "Found 2500 files belonging to 10 classes.\n"
     ]
    }
   ],
   "source": [
    "# 3. create the train data using the image_dataset_from_directory\n",
    "from tensorflow.keras.utils import image_dataset_from_directory\n",
    "\n",
    "IMG_SIZE = (224, 224)\n",
    "train_data_10_percent_1 = image_dataset_from_directory(directory=train_dir_10_percent_1,\n",
    "                                                    image_size=IMG_SIZE,\n",
    "                                                    label_mode=\"categorical\")\n",
    "\n",
    "test_data_1 = image_dataset_from_directory(directory=test_dir_1,\n",
    "                                        image_size=IMG_SIZE,\n",
    "                                        label_mode=\"categorical\")"
   ]
  },
  {
   "cell_type": "code",
   "execution_count": 8,
   "id": "5b493c94-42e4-45ab-8d19-748c31e6a2bf",
   "metadata": {},
   "outputs": [],
   "source": [
    "# 4. create data augmentation in the layer built in\n",
    "import tensorflow as tf\n",
    "from tensorflow.keras.models import Sequential\n",
    "from tensorflow.keras.layers import RandomFlip, RandomHeight, RandomWidth, RandomZoom, RandomRotation, Rescaling\n",
    "\n",
    "augmentation_layer_1 = Sequential([\n",
    "    RandomFlip(\"horizontal\"),\n",
    "    RandomHeight(0.2),\n",
    "    RandomWidth(0.2),\n",
    "    RandomZoom(0.2),\n",
    "    RandomRotation(0.2)\n",
    "    # Rescaling(1/255.) since efficientnet does have Rescaling build in base layer, therefore it is not need. Other model might this\n",
    "])"
   ]
  },
  {
   "cell_type": "code",
   "execution_count": 9,
   "id": "26abda49-9fc6-45ae-be4b-18b264ac0360",
   "metadata": {},
   "outputs": [],
   "source": [
    "# 5. set the fronzen base model\n",
    "from tensorflow.keras.applications import EfficientNetB0\n",
    "base_model_1 = EfficientNetB0(include_top=False)\n",
    "base_model_1.trainable = False"
   ]
  },
  {
   "cell_type": "code",
   "execution_count": 10,
   "id": "e82d8c02-4440-4837-acaf-b191bc21e7a6",
   "metadata": {},
   "outputs": [],
   "source": [
    "# 6. create layers (input, hidden, output)\n",
    "from tensorflow.keras.layers import Input, GlobalAveragePooling2D, Dense\n",
    "\n",
    "input_shape = (224, 224, 3)\n",
    "\n",
    "input_layer_1 = Input(shape=input_shape, name=\"input_layer\")\n",
    "data_augmentation_layer_1 = augmentation_layer_1(input_layer_1)\n",
    "base_layer_1 = base_model_1(data_augmentation_layer_1, training=False)\n",
    "gap_layer_1 = GlobalAveragePooling2D(name=\"global_average_pooling_2d_layer\")(base_layer_1)\n",
    "output_layer_1 = Dense(len(train_data_10_percent_1.class_names), activation=\"softmax\", name=\"output_layer_1\")(gap_layer_1)\n",
    "\n",
    "model_1 = tf.keras.Model(input_layer_1, output_layer_1)"
   ]
  },
  {
   "cell_type": "code",
   "execution_count": 11,
   "id": "a6d6afc1-b79b-4d81-9679-26e628cdb921",
   "metadata": {},
   "outputs": [
    {
     "name": "stdout",
     "output_type": "stream",
     "text": [
      "Model: \"model\"\n",
      "_________________________________________________________________\n",
      " Layer (type)                Output Shape              Param #   \n",
      "=================================================================\n",
      " input_layer (InputLayer)    [(None, 224, 224, 3)]     0         \n",
      "                                                                 \n",
      " sequential (Sequential)     (None, None, None, 3)     0         \n",
      "                                                                 \n",
      " efficientnetb0 (Functional)  (None, None, None, 1280)  4049571  \n",
      "                                                                 \n",
      " global_average_pooling_2d_l  (None, 1280)             0         \n",
      " ayer (GlobalAveragePooling2                                     \n",
      " D)                                                              \n",
      "                                                                 \n",
      " output_layer_1 (Dense)      (None, 10)                12810     \n",
      "                                                                 \n",
      "=================================================================\n",
      "Total params: 4,062,381\n",
      "Trainable params: 12,810\n",
      "Non-trainable params: 4,049,571\n",
      "_________________________________________________________________\n"
     ]
    }
   ],
   "source": [
    "# 7. compile the model\n",
    "model_1.compile(loss=tf.keras.losses.categorical_crossentropy,\n",
    "                optimizer=tf.keras.optimizers.Adam(),\n",
    "                metrics=[\"accuracy\"])\n",
    "\n",
    "model_1.summary()"
   ]
  },
  {
   "cell_type": "code",
   "execution_count": 12,
   "id": "9e8cc643-cc88-49f3-a758-d13ffbaf0eaa",
   "metadata": {},
   "outputs": [],
   "source": [
    "# 8. create the model checkpoint callback\n",
    "checkpoint_path = \"ten_percent_model_checkpoints_weights/checkpoint.ckpt\"\n",
    "checkpoint_callback = tf.keras.callbacks.ModelCheckpoint(filepath=checkpoint_path,\n",
    "                                                        save_best_only=True,\n",
    "                                                        save_weights_only=True,\n",
    "                                                        verbose=1)"
   ]
  },
  {
   "cell_type": "code",
   "execution_count": 13,
   "id": "0ea51885-409e-4569-95b9-7bfff2906611",
   "metadata": {},
   "outputs": [
    {
     "name": "stdout",
     "output_type": "stream",
     "text": [
      "Saving TensorBoard log files to: tensorflow_hub/10_percent_data_aug/20220125-011625\n",
      "Epoch 1/5\n"
     ]
    },
    {
     "name": "stderr",
     "output_type": "stream",
     "text": [
      "/home/jason/git_repo/tensorflow-learning/venv/lib/python3.8/site-packages/keras/engine/functional.py:1410: CustomMaskWarning: Custom mask layers require a config and must override get_config. When loading, the custom mask layer must be passed to the custom_objects argument.\n",
      "  layer_config = serialize_layer_fn(layer)\n",
      "2022-01-25 01:16:29.578385: I tensorflow/stream_executor/cuda/cuda_dnn.cc:366] Loaded cuDNN version 8302\n",
      "2022-01-25 01:16:30.053998: I tensorflow/core/platform/default/subprocess.cc:304] Start cannot spawn child process: No such file or directory\n",
      "2022-01-25 01:16:30.055069: W tensorflow/stream_executor/gpu/asm_compiler.cc:111] *** WARNING *** You are using ptxas 11.0.221, which is older than 11.1. ptxas before 11.1 is known to miscompile XLA code, leading to incorrect results or invalid-address errors.\n",
      "\n",
      "You may not need to update to CUDA 11.1; cherry-picking the ptxas binary is often sufficient.\n"
     ]
    },
    {
     "name": "stdout",
     "output_type": "stream",
     "text": [
      "24/24 [==============================] - ETA: 0s - loss: 2.0258 - accuracy: 0.3200\n",
      "Epoch 00001: val_loss improved from inf to 1.50850, saving model to ten_percent_model_checkpoints_weights/checkpoint.ckpt\n",
      "24/24 [==============================] - 18s 546ms/step - loss: 2.0258 - accuracy: 0.3200 - val_loss: 1.5085 - val_accuracy: 0.6036\n",
      "Epoch 2/5\n",
      "24/24 [==============================] - ETA: 0s - loss: 1.3874 - accuracy: 0.6333\n",
      "Epoch 00002: val_loss improved from 1.50850 to 1.08887, saving model to ten_percent_model_checkpoints_weights/checkpoint.ckpt\n",
      "24/24 [==============================] - 9s 362ms/step - loss: 1.3874 - accuracy: 0.6333 - val_loss: 1.0889 - val_accuracy: 0.7336\n",
      "Epoch 3/5\n",
      "24/24 [==============================] - ETA: 0s - loss: 1.0863 - accuracy: 0.7187\n",
      "Epoch 00003: val_loss improved from 1.08887 to 0.87283, saving model to ten_percent_model_checkpoints_weights/checkpoint.ckpt\n",
      "24/24 [==============================] - 8s 348ms/step - loss: 1.0863 - accuracy: 0.7187 - val_loss: 0.8728 - val_accuracy: 0.7944\n",
      "Epoch 4/5\n",
      "24/24 [==============================] - ETA: 0s - loss: 0.9256 - accuracy: 0.7667\n",
      "Epoch 00004: val_loss improved from 0.87283 to 0.75315, saving model to ten_percent_model_checkpoints_weights/checkpoint.ckpt\n",
      "24/24 [==============================] - 8s 309ms/step - loss: 0.9256 - accuracy: 0.7667 - val_loss: 0.7532 - val_accuracy: 0.8191\n",
      "Epoch 5/5\n",
      "24/24 [==============================] - ETA: 0s - loss: 0.8047 - accuracy: 0.7960\n",
      "Epoch 00005: val_loss improved from 0.75315 to 0.68267, saving model to ten_percent_model_checkpoints_weights/checkpoint.ckpt\n",
      "24/24 [==============================] - 8s 317ms/step - loss: 0.8047 - accuracy: 0.7960 - val_loss: 0.6827 - val_accuracy: 0.8306\n"
     ]
    }
   ],
   "source": [
    "# 9. fit the model\n",
    "initial_epochs = 5\n",
    "history_model_1 = model_1.fit(train_data_10_percent_1,\n",
    "                             epochs=initial_epochs,\n",
    "                             validation_data=test_data_1,\n",
    "                             validation_steps=int(0.25 * len(test_data_1)),\n",
    "                             callbacks=[create_tensorboard_callback(dir_name=\"tensorflow_hub\", experiment_name=\"10_percent_data_aug\"),\n",
    "                                       checkpoint_callback])\n"
   ]
  },
  {
   "cell_type": "code",
   "execution_count": 14,
   "id": "2ace598b-1ab2-43b6-802e-dbb9b063d8a2",
   "metadata": {},
   "outputs": [
    {
     "name": "stdout",
     "output_type": "stream",
     "text": [
      "79/79 [==============================] - 6s 72ms/step - loss: 0.7154 - accuracy: 0.8040\n"
     ]
    },
    {
     "data": {
      "text/plain": [
       "[0.715400218963623, 0.8040000200271606]"
      ]
     },
     "execution_count": 14,
     "metadata": {},
     "output_type": "execute_result"
    }
   ],
   "source": [
    "# 10. evaluate the the model\n",
    "results_10_percent_data_aug = model_1.evaluate(test_data_1)\n",
    "results_10_percent_data_aug"
   ]
  },
  {
   "cell_type": "code",
   "execution_count": 15,
   "id": "e52154b2-439f-4e64-bbc8-291910991114",
   "metadata": {},
   "outputs": [
    {
     "data": {
      "image/png": "[encoded data removed]",
      "text/plain": [
       "<Figure size 432x288 with 1 Axes>"
      ]
     },
     "metadata": {
      "needs_background": "light"
     },
     "output_type": "display_data"
    },
    {
     "data": {
      "image/png": "[encoded data removed]",
      "text/plain": [
       "<Figure size 432x288 with 1 Axes>"
      ]
     },
     "metadata": {
      "needs_background": "light"
     },
     "output_type": "display_data"
    }
   ],
   "source": [
    "# 11. plot the loss curves\n",
    "plot_loss_curves(history_model_1)"
   ]
  },
  {
   "cell_type": "markdown",
   "id": "60265313-a3e6-4aa1-b520-ecd338e1c963",
   "metadata": {},
   "source": [
    "## Fine Tuning with data agumentation, 10 classes and 10% of data"
   ]
  },
  {
   "cell_type": "code",
   "execution_count": 16,
   "id": "628a611d-aa6d-4fea-826c-7b2918f2b9eb",
   "metadata": {},
   "outputs": [
    {
     "data": {
      "text/plain": [
       "[<keras.engine.input_layer.InputLayer at 0x7fda7447a790>,\n",
       " <keras.engine.sequential.Sequential at 0x7fda761827c0>,\n",
       " <keras.engine.functional.Functional at 0x7fda745af3a0>,\n",
       " <keras.layers.pooling.GlobalAveragePooling2D at 0x7fda744285e0>,\n",
       " <keras.layers.core.dense.Dense at 0x7fda744789a0>]"
      ]
     },
     "execution_count": 16,
     "metadata": {},
     "output_type": "execute_result"
    }
   ],
   "source": [
    "# layer in the model 1\n",
    "model_1.layers"
   ]
  },
  {
   "cell_type": "code",
   "execution_count": 17,
   "id": "1fd351ed-faae-4eef-9f63-cc41e9ab7ded",
   "metadata": {},
   "outputs": [
    {
     "name": "stdout",
     "output_type": "stream",
     "text": [
      "input_layer True\n",
      "sequential True\n",
      "efficientnetb0 False\n",
      "global_average_pooling_2d_layer True\n",
      "output_layer_1 True\n"
     ]
    }
   ],
   "source": [
    "# are layers trainable\n",
    "for layer in model_1.layers:\n",
    "    print(layer.name, layer.trainable)"
   ]
  },
  {
   "cell_type": "code",
   "execution_count": 18,
   "id": "9d8f8da0-e63d-4b52-bd3b-2a0943b72c8d",
   "metadata": {},
   "outputs": [
    {
     "name": "stdout",
     "output_type": "stream",
     "text": [
      "0 input_1 False\n",
      "1 rescaling False\n",
      "2 normalization False\n",
      "3 stem_conv_pad False\n",
      "4 stem_conv False\n",
      "5 stem_bn False\n",
      "6 stem_activation False\n",
      "7 block1a_dwconv False\n",
      "8 block1a_bn False\n",
      "9 block1a_activation False\n",
      "10 block1a_se_squeeze False\n",
      "11 block1a_se_reshape False\n",
      "12 block1a_se_reduce False\n",
      "13 block1a_se_expand False\n",
      "14 block1a_se_excite False\n",
      "15 block1a_project_conv False\n",
      "16 block1a_project_bn False\n",
      "17 block2a_expand_conv False\n",
      "18 block2a_expand_bn False\n",
      "19 block2a_expand_activation False\n",
      "20 block2a_dwconv_pad False\n",
      "21 block2a_dwconv False\n",
      "22 block2a_bn False\n",
      "23 block2a_activation False\n",
      "24 block2a_se_squeeze False\n",
      "25 block2a_se_reshape False\n",
      "26 block2a_se_reduce False\n",
      "27 block2a_se_expand False\n",
      "28 block2a_se_excite False\n",
      "29 block2a_project_conv False\n",
      "30 block2a_project_bn False\n",
      "31 block2b_expand_conv False\n",
      "32 block2b_expand_bn False\n",
      "33 block2b_expand_activation False\n",
      "34 block2b_dwconv False\n",
      "35 block2b_bn False\n",
      "36 block2b_activation False\n",
      "37 block2b_se_squeeze False\n",
      "38 block2b_se_reshape False\n",
      "39 block2b_se_reduce False\n",
      "40 block2b_se_expand False\n",
      "41 block2b_se_excite False\n",
      "42 block2b_project_conv False\n",
      "43 block2b_project_bn False\n",
      "44 block2b_drop False\n",
      "45 block2b_add False\n",
      "46 block3a_expand_conv False\n",
      "47 block3a_expand_bn False\n",
      "48 block3a_expand_activation False\n",
      "49 block3a_dwconv_pad False\n",
      "50 block3a_dwconv False\n",
      "51 block3a_bn False\n",
      "52 block3a_activation False\n",
      "53 block3a_se_squeeze False\n",
      "54 block3a_se_reshape False\n",
      "55 block3a_se_reduce False\n",
      "56 block3a_se_expand False\n",
      "57 block3a_se_excite False\n",
      "58 block3a_project_conv False\n",
      "59 block3a_project_bn False\n",
      "60 block3b_expand_conv False\n",
      "61 block3b_expand_bn False\n",
      "62 block3b_expand_activation False\n",
      "63 block3b_dwconv False\n",
      "64 block3b_bn False\n",
      "65 block3b_activation False\n",
      "66 block3b_se_squeeze False\n",
      "67 block3b_se_reshape False\n",
      "68 block3b_se_reduce False\n",
      "69 block3b_se_expand False\n",
      "70 block3b_se_excite False\n",
      "71 block3b_project_conv False\n",
      "72 block3b_project_bn False\n",
      "73 block3b_drop False\n",
      "74 block3b_add False\n",
      "75 block4a_expand_conv False\n",
      "76 block4a_expand_bn False\n",
      "77 block4a_expand_activation False\n",
      "78 block4a_dwconv_pad False\n",
      "79 block4a_dwconv False\n",
      "80 block4a_bn False\n",
      "81 block4a_activation False\n",
      "82 block4a_se_squeeze False\n",
      "83 block4a_se_reshape False\n",
      "84 block4a_se_reduce False\n",
      "85 block4a_se_expand False\n",
      "86 block4a_se_excite False\n",
      "87 block4a_project_conv False\n",
      "88 block4a_project_bn False\n",
      "89 block4b_expand_conv False\n",
      "90 block4b_expand_bn False\n",
      "91 block4b_expand_activation False\n",
      "92 block4b_dwconv False\n",
      "93 block4b_bn False\n",
      "94 block4b_activation False\n",
      "95 block4b_se_squeeze False\n",
      "96 block4b_se_reshape False\n",
      "97 block4b_se_reduce False\n",
      "98 block4b_se_expand False\n",
      "99 block4b_se_excite False\n",
      "100 block4b_project_conv False\n",
      "101 block4b_project_bn False\n",
      "102 block4b_drop False\n",
      "103 block4b_add False\n",
      "104 block4c_expand_conv False\n",
      "105 block4c_expand_bn False\n",
      "106 block4c_expand_activation False\n",
      "107 block4c_dwconv False\n",
      "108 block4c_bn False\n",
      "109 block4c_activation False\n",
      "110 block4c_se_squeeze False\n",
      "111 block4c_se_reshape False\n",
      "112 block4c_se_reduce False\n",
      "113 block4c_se_expand False\n",
      "114 block4c_se_excite False\n",
      "115 block4c_project_conv False\n",
      "116 block4c_project_bn False\n",
      "117 block4c_drop False\n",
      "118 block4c_add False\n",
      "119 block5a_expand_conv False\n",
      "120 block5a_expand_bn False\n",
      "121 block5a_expand_activation False\n",
      "122 block5a_dwconv False\n",
      "123 block5a_bn False\n",
      "124 block5a_activation False\n",
      "125 block5a_se_squeeze False\n",
      "126 block5a_se_reshape False\n",
      "127 block5a_se_reduce False\n",
      "128 block5a_se_expand False\n",
      "129 block5a_se_excite False\n",
      "130 block5a_project_conv False\n",
      "131 block5a_project_bn False\n",
      "132 block5b_expand_conv False\n",
      "133 block5b_expand_bn False\n",
      "134 block5b_expand_activation False\n",
      "135 block5b_dwconv False\n",
      "136 block5b_bn False\n",
      "137 block5b_activation False\n",
      "138 block5b_se_squeeze False\n",
      "139 block5b_se_reshape False\n",
      "140 block5b_se_reduce False\n",
      "141 block5b_se_expand False\n",
      "142 block5b_se_excite False\n",
      "143 block5b_project_conv False\n",
      "144 block5b_project_bn False\n",
      "145 block5b_drop False\n",
      "146 block5b_add False\n",
      "147 block5c_expand_conv False\n",
      "148 block5c_expand_bn False\n",
      "149 block5c_expand_activation False\n",
      "150 block5c_dwconv False\n",
      "151 block5c_bn False\n",
      "152 block5c_activation False\n",
      "153 block5c_se_squeeze False\n",
      "154 block5c_se_reshape False\n",
      "155 block5c_se_reduce False\n",
      "156 block5c_se_expand False\n",
      "157 block5c_se_excite False\n",
      "158 block5c_project_conv False\n",
      "159 block5c_project_bn False\n",
      "160 block5c_drop False\n",
      "161 block5c_add False\n",
      "162 block6a_expand_conv False\n",
      "163 block6a_expand_bn False\n",
      "164 block6a_expand_activation False\n",
      "165 block6a_dwconv_pad False\n",
      "166 block6a_dwconv False\n",
      "167 block6a_bn False\n",
      "168 block6a_activation False\n",
      "169 block6a_se_squeeze False\n",
      "170 block6a_se_reshape False\n",
      "171 block6a_se_reduce False\n",
      "172 block6a_se_expand False\n",
      "173 block6a_se_excite False\n",
      "174 block6a_project_conv False\n",
      "175 block6a_project_bn False\n",
      "176 block6b_expand_conv False\n",
      "177 block6b_expand_bn False\n",
      "178 block6b_expand_activation False\n",
      "179 block6b_dwconv False\n",
      "180 block6b_bn False\n",
      "181 block6b_activation False\n",
      "182 block6b_se_squeeze False\n",
      "183 block6b_se_reshape False\n",
      "184 block6b_se_reduce False\n",
      "185 block6b_se_expand False\n",
      "186 block6b_se_excite False\n",
      "187 block6b_project_conv False\n",
      "188 block6b_project_bn False\n",
      "189 block6b_drop False\n",
      "190 block6b_add False\n",
      "191 block6c_expand_conv False\n",
      "192 block6c_expand_bn False\n",
      "193 block6c_expand_activation False\n",
      "194 block6c_dwconv False\n",
      "195 block6c_bn False\n",
      "196 block6c_activation False\n",
      "197 block6c_se_squeeze False\n",
      "198 block6c_se_reshape False\n",
      "199 block6c_se_reduce False\n",
      "200 block6c_se_expand False\n",
      "201 block6c_se_excite False\n",
      "202 block6c_project_conv False\n",
      "203 block6c_project_bn False\n",
      "204 block6c_drop False\n",
      "205 block6c_add False\n",
      "206 block6d_expand_conv False\n",
      "207 block6d_expand_bn False\n",
      "208 block6d_expand_activation False\n",
      "209 block6d_dwconv False\n",
      "210 block6d_bn False\n",
      "211 block6d_activation False\n",
      "212 block6d_se_squeeze False\n",
      "213 block6d_se_reshape False\n",
      "214 block6d_se_reduce False\n",
      "215 block6d_se_expand False\n",
      "216 block6d_se_excite False\n",
      "217 block6d_project_conv False\n",
      "218 block6d_project_bn False\n",
      "219 block6d_drop False\n",
      "220 block6d_add False\n",
      "221 block7a_expand_conv False\n",
      "222 block7a_expand_bn False\n",
      "223 block7a_expand_activation False\n",
      "224 block7a_dwconv False\n",
      "225 block7a_bn False\n",
      "226 block7a_activation False\n",
      "227 block7a_se_squeeze False\n",
      "228 block7a_se_reshape False\n",
      "229 block7a_se_reduce False\n",
      "230 block7a_se_expand False\n",
      "231 block7a_se_excite False\n",
      "232 block7a_project_conv False\n",
      "233 block7a_project_bn False\n",
      "234 top_conv False\n",
      "235 top_bn False\n",
      "236 top_activation False\n"
     ]
    }
   ],
   "source": [
    "# all layers of efficientnetb0\n",
    "for i, layer in enumerate(model_1.layers[2].layers):\n",
    "    print(i, layer.name, layer.trainable)"
   ]
  },
  {
   "cell_type": "code",
   "execution_count": 19,
   "id": "94a21030-0789-40c9-8389-c54da75b5604",
   "metadata": {},
   "outputs": [],
   "source": [
    "# # all layers of efficientnetb0\n",
    "# for i, layer in enumerate(base_model_1.layers):\n",
    "#     print(i, layer.name, layer.trainable)"
   ]
  },
  {
   "cell_type": "code",
   "execution_count": 20,
   "id": "9695a65f-be5a-42fc-87d5-9ae9dbdc06dd",
   "metadata": {},
   "outputs": [],
   "source": [
    "# update last 10 layers of efficientnetb0 to True\n",
    "base_model_1.trainable = False\n",
    "\n",
    "for layer in base_model_1.layers[-10:]:\n",
    "    layer.trainable = True\n",
    "\n",
    "# Recompile (we have to recompile our models every time we make a change)\n",
    "# when fine-tuning you typically want to lower the learning rate by 10x*\n",
    "model_1.compile(loss=tf.keras.losses.categorical_crossentropy,\n",
    "               optimizer=tf.keras.optimizers.Adam(learning_rate=0.0001),\n",
    "               metrics=[\"accuracy\"])"
   ]
  },
  {
   "cell_type": "code",
   "execution_count": 21,
   "id": "3346659f-82f9-48ee-85bc-d63cee9429cb",
   "metadata": {},
   "outputs": [
    {
     "name": "stdout",
     "output_type": "stream",
     "text": [
      "0 input_1 False\n",
      "1 rescaling False\n",
      "2 normalization False\n",
      "3 stem_conv_pad False\n",
      "4 stem_conv False\n",
      "5 stem_bn False\n",
      "6 stem_activation False\n",
      "7 block1a_dwconv False\n",
      "8 block1a_bn False\n",
      "9 block1a_activation False\n",
      "10 block1a_se_squeeze False\n",
      "11 block1a_se_reshape False\n",
      "12 block1a_se_reduce False\n",
      "13 block1a_se_expand False\n",
      "14 block1a_se_excite False\n",
      "15 block1a_project_conv False\n",
      "16 block1a_project_bn False\n",
      "17 block2a_expand_conv False\n",
      "18 block2a_expand_bn False\n",
      "19 block2a_expand_activation False\n",
      "20 block2a_dwconv_pad False\n",
      "21 block2a_dwconv False\n",
      "22 block2a_bn False\n",
      "23 block2a_activation False\n",
      "24 block2a_se_squeeze False\n",
      "25 block2a_se_reshape False\n",
      "26 block2a_se_reduce False\n",
      "27 block2a_se_expand False\n",
      "28 block2a_se_excite False\n",
      "29 block2a_project_conv False\n",
      "30 block2a_project_bn False\n",
      "31 block2b_expand_conv False\n",
      "32 block2b_expand_bn False\n",
      "33 block2b_expand_activation False\n",
      "34 block2b_dwconv False\n",
      "35 block2b_bn False\n",
      "36 block2b_activation False\n",
      "37 block2b_se_squeeze False\n",
      "38 block2b_se_reshape False\n",
      "39 block2b_se_reduce False\n",
      "40 block2b_se_expand False\n",
      "41 block2b_se_excite False\n",
      "42 block2b_project_conv False\n",
      "43 block2b_project_bn False\n",
      "44 block2b_drop False\n",
      "45 block2b_add False\n",
      "46 block3a_expand_conv False\n",
      "47 block3a_expand_bn False\n",
      "48 block3a_expand_activation False\n",
      "49 block3a_dwconv_pad False\n",
      "50 block3a_dwconv False\n",
      "51 block3a_bn False\n",
      "52 block3a_activation False\n",
      "53 block3a_se_squeeze False\n",
      "54 block3a_se_reshape False\n",
      "55 block3a_se_reduce False\n",
      "56 block3a_se_expand False\n",
      "57 block3a_se_excite False\n",
      "58 block3a_project_conv False\n",
      "59 block3a_project_bn False\n",
      "60 block3b_expand_conv False\n",
      "61 block3b_expand_bn False\n",
      "62 block3b_expand_activation False\n",
      "63 block3b_dwconv False\n",
      "64 block3b_bn False\n",
      "65 block3b_activation False\n",
      "66 block3b_se_squeeze False\n",
      "67 block3b_se_reshape False\n",
      "68 block3b_se_reduce False\n",
      "69 block3b_se_expand False\n",
      "70 block3b_se_excite False\n",
      "71 block3b_project_conv False\n",
      "72 block3b_project_bn False\n",
      "73 block3b_drop False\n",
      "74 block3b_add False\n",
      "75 block4a_expand_conv False\n",
      "76 block4a_expand_bn False\n",
      "77 block4a_expand_activation False\n",
      "78 block4a_dwconv_pad False\n",
      "79 block4a_dwconv False\n",
      "80 block4a_bn False\n",
      "81 block4a_activation False\n",
      "82 block4a_se_squeeze False\n",
      "83 block4a_se_reshape False\n",
      "84 block4a_se_reduce False\n",
      "85 block4a_se_expand False\n",
      "86 block4a_se_excite False\n",
      "87 block4a_project_conv False\n",
      "88 block4a_project_bn False\n",
      "89 block4b_expand_conv False\n",
      "90 block4b_expand_bn False\n",
      "91 block4b_expand_activation False\n",
      "92 block4b_dwconv False\n",
      "93 block4b_bn False\n",
      "94 block4b_activation False\n",
      "95 block4b_se_squeeze False\n",
      "96 block4b_se_reshape False\n",
      "97 block4b_se_reduce False\n",
      "98 block4b_se_expand False\n",
      "99 block4b_se_excite False\n",
      "100 block4b_project_conv False\n",
      "101 block4b_project_bn False\n",
      "102 block4b_drop False\n",
      "103 block4b_add False\n",
      "104 block4c_expand_conv False\n",
      "105 block4c_expand_bn False\n",
      "106 block4c_expand_activation False\n",
      "107 block4c_dwconv False\n",
      "108 block4c_bn False\n",
      "109 block4c_activation False\n",
      "110 block4c_se_squeeze False\n",
      "111 block4c_se_reshape False\n",
      "112 block4c_se_reduce False\n",
      "113 block4c_se_expand False\n",
      "114 block4c_se_excite False\n",
      "115 block4c_project_conv False\n",
      "116 block4c_project_bn False\n",
      "117 block4c_drop False\n",
      "118 block4c_add False\n",
      "119 block5a_expand_conv False\n",
      "120 block5a_expand_bn False\n",
      "121 block5a_expand_activation False\n",
      "122 block5a_dwconv False\n",
      "123 block5a_bn False\n",
      "124 block5a_activation False\n",
      "125 block5a_se_squeeze False\n",
      "126 block5a_se_reshape False\n",
      "127 block5a_se_reduce False\n",
      "128 block5a_se_expand False\n",
      "129 block5a_se_excite False\n",
      "130 block5a_project_conv False\n",
      "131 block5a_project_bn False\n",
      "132 block5b_expand_conv False\n",
      "133 block5b_expand_bn False\n",
      "134 block5b_expand_activation False\n",
      "135 block5b_dwconv False\n",
      "136 block5b_bn False\n",
      "137 block5b_activation False\n",
      "138 block5b_se_squeeze False\n",
      "139 block5b_se_reshape False\n",
      "140 block5b_se_reduce False\n",
      "141 block5b_se_expand False\n",
      "142 block5b_se_excite False\n",
      "143 block5b_project_conv False\n",
      "144 block5b_project_bn False\n",
      "145 block5b_drop False\n",
      "146 block5b_add False\n",
      "147 block5c_expand_conv False\n",
      "148 block5c_expand_bn False\n",
      "149 block5c_expand_activation False\n",
      "150 block5c_dwconv False\n",
      "151 block5c_bn False\n",
      "152 block5c_activation False\n",
      "153 block5c_se_squeeze False\n",
      "154 block5c_se_reshape False\n",
      "155 block5c_se_reduce False\n",
      "156 block5c_se_expand False\n",
      "157 block5c_se_excite False\n",
      "158 block5c_project_conv False\n",
      "159 block5c_project_bn False\n",
      "160 block5c_drop False\n",
      "161 block5c_add False\n",
      "162 block6a_expand_conv False\n",
      "163 block6a_expand_bn False\n",
      "164 block6a_expand_activation False\n",
      "165 block6a_dwconv_pad False\n",
      "166 block6a_dwconv False\n",
      "167 block6a_bn False\n",
      "168 block6a_activation False\n",
      "169 block6a_se_squeeze False\n",
      "170 block6a_se_reshape False\n",
      "171 block6a_se_reduce False\n",
      "172 block6a_se_expand False\n",
      "173 block6a_se_excite False\n",
      "174 block6a_project_conv False\n",
      "175 block6a_project_bn False\n",
      "176 block6b_expand_conv False\n",
      "177 block6b_expand_bn False\n",
      "178 block6b_expand_activation False\n",
      "179 block6b_dwconv False\n",
      "180 block6b_bn False\n",
      "181 block6b_activation False\n",
      "182 block6b_se_squeeze False\n",
      "183 block6b_se_reshape False\n",
      "184 block6b_se_reduce False\n",
      "185 block6b_se_expand False\n",
      "186 block6b_se_excite False\n",
      "187 block6b_project_conv False\n",
      "188 block6b_project_bn False\n",
      "189 block6b_drop False\n",
      "190 block6b_add False\n",
      "191 block6c_expand_conv False\n",
      "192 block6c_expand_bn False\n",
      "193 block6c_expand_activation False\n",
      "194 block6c_dwconv False\n",
      "195 block6c_bn False\n",
      "196 block6c_activation False\n",
      "197 block6c_se_squeeze False\n",
      "198 block6c_se_reshape False\n",
      "199 block6c_se_reduce False\n",
      "200 block6c_se_expand False\n",
      "201 block6c_se_excite False\n",
      "202 block6c_project_conv False\n",
      "203 block6c_project_bn False\n",
      "204 block6c_drop False\n",
      "205 block6c_add False\n",
      "206 block6d_expand_conv False\n",
      "207 block6d_expand_bn False\n",
      "208 block6d_expand_activation False\n",
      "209 block6d_dwconv False\n",
      "210 block6d_bn False\n",
      "211 block6d_activation False\n",
      "212 block6d_se_squeeze False\n",
      "213 block6d_se_reshape False\n",
      "214 block6d_se_reduce False\n",
      "215 block6d_se_expand False\n",
      "216 block6d_se_excite False\n",
      "217 block6d_project_conv False\n",
      "218 block6d_project_bn False\n",
      "219 block6d_drop False\n",
      "220 block6d_add False\n",
      "221 block7a_expand_conv False\n",
      "222 block7a_expand_bn False\n",
      "223 block7a_expand_activation False\n",
      "224 block7a_dwconv False\n",
      "225 block7a_bn False\n",
      "226 block7a_activation False\n",
      "227 block7a_se_squeeze True\n",
      "228 block7a_se_reshape True\n",
      "229 block7a_se_reduce True\n",
      "230 block7a_se_expand True\n",
      "231 block7a_se_excite True\n",
      "232 block7a_project_conv True\n",
      "233 block7a_project_bn True\n",
      "234 top_conv True\n",
      "235 top_bn True\n",
      "236 top_activation True\n"
     ]
    }
   ],
   "source": [
    "# all layers of efficientnetb0\n",
    "for i, layer in enumerate(model_1.layers[2].layers):\n",
    "    print(i, layer.name, layer.trainable)"
   ]
  },
  {
   "cell_type": "code",
   "execution_count": 22,
   "id": "aa1c8296-a2af-4675-9f75-756b146a6f23",
   "metadata": {},
   "outputs": [
    {
     "name": "stdout",
     "output_type": "stream",
     "text": [
      "2\n"
     ]
    }
   ],
   "source": [
    "# trainable layers in base model\n",
    "print(len(model_1.trainable_variables))"
   ]
  },
  {
   "cell_type": "code",
   "execution_count": 23,
   "id": "91fa4e7b-52f4-48bd-b126-21734fcfda09",
   "metadata": {},
   "outputs": [
    {
     "name": "stdout",
     "output_type": "stream",
     "text": [
      "Saving TensorBoard log files to: tensorflow_hub/10_percent_fine_tune_last_10/20220125-011722\n",
      "Epoch 5/10\n",
      "24/24 [==============================] - 12s 359ms/step - loss: 0.7539 - accuracy: 0.8080 - val_loss: 0.6661 - val_accuracy: 0.8421\n",
      "Epoch 6/10\n",
      "24/24 [==============================] - 7s 274ms/step - loss: 0.7370 - accuracy: 0.8080 - val_loss: 0.6551 - val_accuracy: 0.8339\n",
      "Epoch 7/10\n",
      "24/24 [==============================] - 6s 253ms/step - loss: 0.7318 - accuracy: 0.8147 - val_loss: 0.6594 - val_accuracy: 0.8405\n",
      "Epoch 8/10\n",
      "24/24 [==============================] - 6s 264ms/step - loss: 0.6980 - accuracy: 0.8280 - val_loss: 0.6694 - val_accuracy: 0.8224\n",
      "Epoch 9/10\n",
      "24/24 [==============================] - 7s 285ms/step - loss: 0.7020 - accuracy: 0.8253 - val_loss: 0.6457 - val_accuracy: 0.8355\n",
      "Epoch 10/10\n",
      "24/24 [==============================] - 7s 277ms/step - loss: 0.7194 - accuracy: 0.8120 - val_loss: 0.6502 - val_accuracy: 0.8372\n"
     ]
    }
   ],
   "source": [
    "# Fine tune for another 5 epochs\n",
    "fine_tune_epochs = initial_epochs + 5\n",
    "\n",
    "\n",
    "history_fine_10_percent_data_aug = model_1.fit(train_data_10_percent_1,\n",
    "                                              epochs=fine_tune_epochs,\n",
    "                                              validation_data=test_data_1,\n",
    "                                              validation_steps=int(0.25 * len(test_data_1)),\n",
    "                                              initial_epoch=history_model_1.epoch[-1],\n",
    "                                              callbacks=[create_tensorboard_callback(dir_name=\"tensorflow_hub\",experiment_name=\"10_percent_fine_tune_last_10\")])"
   ]
  },
  {
   "cell_type": "code",
   "execution_count": 26,
   "id": "a3d38abc-3bcf-478b-a7c2-857616419e58",
   "metadata": {},
   "outputs": [
    {
     "name": "stdout",
     "output_type": "stream",
     "text": [
      "79/79 [==============================] - 6s 71ms/step - loss: 0.6723 - accuracy: 0.8124\n"
     ]
    }
   ],
   "source": [
    "# Evaluate the fine-tuned model\n",
    "results_fine_tune_10_percent = model_1.evaluate(test_data_1)"
   ]
  },
  {
   "cell_type": "code",
   "execution_count": 27,
   "id": "1655c5e9-2233-49d5-a6a7-bec01f9bef6d",
   "metadata": {},
   "outputs": [
    {
     "data": {
      "image/png": "[encoded data removed]",
      "text/plain": [
       "<Figure size 432x288 with 1 Axes>"
      ]
     },
     "metadata": {
      "needs_background": "light"
     },
     "output_type": "display_data"
    },
    {
     "data": {
      "image/png": "[encoded data removed]",
      "text/plain": [
       "<Figure size 432x288 with 1 Axes>"
      ]
     },
     "metadata": {
      "needs_background": "light"
     },
     "output_type": "display_data"
    }
   ],
   "source": [
    "# Check out the loss curves of our fine-tuned model\n",
    "plot_loss_curves(history_fine_10_percent_data_aug)"
   ]
  },
  {
   "cell_type": "markdown",
   "id": "f831a8c6-635c-4284-b295-d3899a65a4da",
   "metadata": {},
   "source": [
    "## Model 3: Fine-tuning and existing model on all of the data"
   ]
  },
  {
   "cell_type": "code",
   "execution_count": 28,
   "id": "6f543729-bc51-426e-bd2b-2d980113b15c",
   "metadata": {},
   "outputs": [
    {
     "name": "stdout",
     "output_type": "stream",
     "text": [
      "--2022-01-25 01:21:54--  https://storage.googleapis.com/ztm_tf_course/food_vision/10_food_classes_all_data.zip\n",
      "Resolving storage.googleapis.com (storage.googleapis.com)... 2404:6800:4007:81b::2010, 2404:6800:4007:81c::2010, 2404:6800:4007:81d::2010, ...\n",
      "Connecting to storage.googleapis.com (storage.googleapis.com)|2404:6800:4007:81b::2010|:443... connected.\n",
      "HTTP request sent, awaiting response... 200 OK\n",
      "Length: 519183241 (495M) [application/zip]\n",
      "Saving to: ‘10_food_classes_all_data.zip’\n",
      "\n",
      "10_food_classes_all 100%[===================>] 495.13M  2.10MB/s    in 7m 50s  \n",
      "\n",
      "2022-01-25 01:29:45 (1.05 MB/s) - ‘10_food_classes_all_data.zip’ saved [519183241/519183241]\n",
      "\n"
     ]
    }
   ],
   "source": [
    "# Download and unzip 10 classes of Food101 data with all images\n",
    "# !wget https://storage.googleapis.com/ztm_tf_course/food_vision/10_food_classes_all_data.zip\n",
    "# unzip_data(\"10_food_classes_all_data.zip\")"
   ]
  },
  {
   "cell_type": "code",
   "execution_count": 29,
   "id": "4df460cc-60d7-41ff-a605-8615b6f1690e",
   "metadata": {},
   "outputs": [],
   "source": [
    "# Setup training and test dir\n",
    "train_dir_all_data = \"10_food_classes_all_data/train\"\n",
    "test_dir = \"10_food_classes_all_data/test\""
   ]
  },
  {
   "cell_type": "code",
   "execution_count": 30,
   "id": "c0e31aab-0a83-470a-9493-aae861e0c4e5",
   "metadata": {},
   "outputs": [
    {
     "name": "stdout",
     "output_type": "stream",
     "text": [
      "There are 2 directories and 0 images in '10_food_classes_all_data'.\n",
      "There are 10 directories and 0 images in '10_food_classes_all_data/train'.\n",
      "There are 0 directories and 750 images in '10_food_classes_all_data/train/chicken_wings'.\n",
      "There are 0 directories and 750 images in '10_food_classes_all_data/train/sushi'.\n",
      "There are 0 directories and 750 images in '10_food_classes_all_data/train/pizza'.\n",
      "There are 0 directories and 750 images in '10_food_classes_all_data/train/grilled_salmon'.\n",
      "There are 0 directories and 750 images in '10_food_classes_all_data/train/hamburger'.\n",
      "There are 0 directories and 750 images in '10_food_classes_all_data/train/ramen'.\n",
      "There are 0 directories and 750 images in '10_food_classes_all_data/train/steak'.\n",
      "There are 0 directories and 750 images in '10_food_classes_all_data/train/fried_rice'.\n",
      "There are 0 directories and 750 images in '10_food_classes_all_data/train/chicken_curry'.\n",
      "There are 0 directories and 750 images in '10_food_classes_all_data/train/ice_cream'.\n",
      "There are 10 directories and 0 images in '10_food_classes_all_data/test'.\n",
      "There are 0 directories and 250 images in '10_food_classes_all_data/test/chicken_wings'.\n",
      "There are 0 directories and 250 images in '10_food_classes_all_data/test/sushi'.\n",
      "There are 0 directories and 250 images in '10_food_classes_all_data/test/pizza'.\n",
      "There are 0 directories and 250 images in '10_food_classes_all_data/test/grilled_salmon'.\n",
      "There are 0 directories and 250 images in '10_food_classes_all_data/test/hamburger'.\n",
      "There are 0 directories and 250 images in '10_food_classes_all_data/test/ramen'.\n",
      "There are 0 directories and 250 images in '10_food_classes_all_data/test/steak'.\n",
      "There are 0 directories and 250 images in '10_food_classes_all_data/test/fried_rice'.\n",
      "There are 0 directories and 250 images in '10_food_classes_all_data/test/chicken_curry'.\n",
      "There are 0 directories and 250 images in '10_food_classes_all_data/test/ice_cream'.\n"
     ]
    }
   ],
   "source": [
    "# How many images are we working with now?\n",
    "walk_through_dir(\"10_food_classes_all_data\")"
   ]
  },
  {
   "cell_type": "code",
   "execution_count": 31,
   "id": "560a2b24-a7eb-4b98-826c-2f0eebdac5e7",
   "metadata": {},
   "outputs": [
    {
     "name": "stdout",
     "output_type": "stream",
     "text": [
      "Found 7500 files belonging to 10 classes.\n",
      "Found 2500 files belonging to 10 classes.\n"
     ]
    }
   ],
   "source": [
    "# Setup data inputs\n",
    "import tensorflow as tf\n",
    "IMG_SIZE = (224, 224)\n",
    "train_data_10_classes_full = tf.keras.preprocessing.image_dataset_from_directory(train_dir_all_data,\n",
    "                                                                                 label_mode=\"categorical\",\n",
    "                                                                                 image_size=IMG_SIZE)\n",
    "test_data = tf.keras.preprocessing.image_dataset_from_directory(test_dir,\n",
    "                                                                label_mode=\"categorical\",\n",
    "                                                                image_size=IMG_SIZE)"
   ]
  },
  {
   "cell_type": "code",
   "execution_count": 33,
   "id": "babf435f-a910-460d-a9cf-f3e56d497162",
   "metadata": {},
   "outputs": [
    {
     "data": {
      "text/plain": [
       "<tensorflow.python.training.tracking.util.CheckpointLoadStatus at 0x7fd9ca20d730>"
      ]
     },
     "execution_count": 33,
     "metadata": {},
     "output_type": "execute_result"
    }
   ],
   "source": [
    "# Load weights from checkpoint, that way we can fine-tune from \n",
    "# the same stage the 10 percent data model was fine-tuned from\n",
    "model_1.load_weights(checkpoint_path)"
   ]
  },
  {
   "cell_type": "code",
   "execution_count": 35,
   "id": "cf421938-b695-44ca-8d0a-423e768136da",
   "metadata": {},
   "outputs": [
    {
     "name": "stdout",
     "output_type": "stream",
     "text": [
      "79/79 [==============================] - 6s 72ms/step - loss: 0.7154 - accuracy: 0.8040\n"
     ]
    },
    {
     "data": {
      "text/plain": [
       "[0.7154002785682678, 0.8040000200271606]"
      ]
     },
     "execution_count": 35,
     "metadata": {},
     "output_type": "execute_result"
    }
   ],
   "source": [
    "# Let's evaluate model_2 now\n",
    "model_1.evaluate(test_data)"
   ]
  },
  {
   "cell_type": "code",
   "execution_count": 38,
   "id": "748988f0-2971-4487-952c-3ea59563a905",
   "metadata": {},
   "outputs": [],
   "source": [
    "# Compile\n",
    "model_1.compile(loss=\"categorical_crossentropy\",\n",
    "                optimizer=tf.keras.optimizers.Adam(learning_rate=0.0001),\n",
    "                metrics=[\"accuracy\"])"
   ]
  },
  {
   "cell_type": "code",
   "execution_count": 40,
   "id": "e5fbd228-5b2a-4311-917c-33e4075bfe05",
   "metadata": {},
   "outputs": [
    {
     "name": "stdout",
     "output_type": "stream",
     "text": [
      "Saving TensorBoard log files to: transfer_learning/full_10_classes_fine_tune_last_10/20220125-013238\n",
      "Epoch 5/10\n",
      "235/235 [==============================] - 50s 198ms/step - loss: 0.8913 - accuracy: 0.7336 - val_loss: 0.6787 - val_accuracy: 0.7944\n",
      "Epoch 6/10\n",
      "235/235 [==============================] - 43s 181ms/step - loss: 0.8450 - accuracy: 0.7501 - val_loss: 0.6279 - val_accuracy: 0.8240\n",
      "Epoch 7/10\n",
      "235/235 [==============================] - 38s 159ms/step - loss: 0.8066 - accuracy: 0.7572 - val_loss: 0.5964 - val_accuracy: 0.8388\n",
      "Epoch 8/10\n",
      "235/235 [==============================] - 37s 159ms/step - loss: 0.7720 - accuracy: 0.7668 - val_loss: 0.5801 - val_accuracy: 0.8405\n",
      "Epoch 9/10\n",
      "235/235 [==============================] - 35s 147ms/step - loss: 0.7447 - accuracy: 0.7756 - val_loss: 0.5427 - val_accuracy: 0.8487\n",
      "Epoch 10/10\n",
      "235/235 [==============================] - 35s 147ms/step - loss: 0.7266 - accuracy: 0.7763 - val_loss: 0.5145 - val_accuracy: 0.8553\n"
     ]
    }
   ],
   "source": [
    "# Continue to train and fine-tune the model to our data (100% of training data)\n",
    "fine_tune_epochs = initial_epochs + 5\n",
    "\n",
    "history_fine_10_classes_full = model_1.fit(train_data_10_classes_full,\n",
    "                                           epochs=fine_tune_epochs,\n",
    "                                           validation_data=test_data,\n",
    "                                           validation_steps=int(0.25 * len(test_data)),\n",
    "                                           initial_epoch=history_model_1.epoch[-1],\n",
    "                                           callbacks=[create_tensorboard_callback(dir_name=\"transfer_learning\",\n",
    "                                                                                  experiment_name=\"full_10_classes_fine_tune_last_10\")])"
   ]
  },
  {
   "cell_type": "code",
   "execution_count": 42,
   "id": "57b6791b-6334-41f4-819e-4b00b2519f9d",
   "metadata": {},
   "outputs": [
    {
     "name": "stdout",
     "output_type": "stream",
     "text": [
      "79/79 [==============================] - 5s 68ms/step - loss: 0.4900 - accuracy: 0.8584\n"
     ]
    },
    {
     "data": {
      "text/plain": [
       "[0.4899701178073883, 0.8583999872207642]"
      ]
     },
     "execution_count": 42,
     "metadata": {},
     "output_type": "execute_result"
    }
   ],
   "source": [
    "# Let's evaluate on all of the test data\n",
    "results_fine_tune_full_data = model_1.evaluate(test_data)\n",
    "results_fine_tune_full_data"
   ]
  },
  {
   "cell_type": "code",
   "execution_count": null,
   "id": "834fdb31-67c2-4695-9ad3-686a6547e9fe",
   "metadata": {},
   "outputs": [],
   "source": []
  }
 ],
 "metadata": {
  "kernelspec": {
   "display_name": "Python 3",
   "language": "python",
   "name": "python3"
  },
  "language_info": {
   "codemirror_mode": {
    "name": "ipython",
    "version": 3
   },
   "file_extension": ".py",
   "mimetype": "text/x-python",
   "name": "python",
   "nbconvert_exporter": "python",
   "pygments_lexer": "ipython3",
   "version": "3.8.10"
  }
 },
 "nbformat": 4,
 "nbformat_minor": 5
}
