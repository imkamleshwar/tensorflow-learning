{
 "cells": [
  {
   "cell_type": "markdown",
   "id": "28c2136f-cc73-4536-9a22-a38be5594611",
   "metadata": {},
   "source": [
    "## Time series Forecasting"
   ]
  },
  {
   "cell_type": "code",
   "execution_count": 32,
   "id": "81fb6838-c3ff-4871-9aaa-19388c4a8092",
   "metadata": {},
   "outputs": [],
   "source": [
    "#!wget https://raw.githubusercontent.com/mrdbourke/tensorflow-deep-learning/main/extras/BTC_USD_2013-10-01_2021-05-18-CoinDesk.csv"
   ]
  },
  {
   "cell_type": "code",
   "execution_count": 33,
   "id": "93e31999-55e1-48ad-a39c-e21516d1ebb0",
   "metadata": {},
   "outputs": [
    {
     "data": {
      "text/html": [
       "<div>\n",
       "<style scoped>\n",
       "    .dataframe tbody tr th:only-of-type {\n",
       "        vertical-align: middle;\n",
       "    }\n",
       "\n",
       "    .dataframe tbody tr th {\n",
       "        vertical-align: top;\n",
       "    }\n",
       "\n",
       "    .dataframe thead th {\n",
       "        text-align: right;\n",
       "    }\n",
       "</style>\n",
       "<table border=\"1\" class=\"dataframe\">\n",
       "  <thead>\n",
       "    <tr style=\"text-align: right;\">\n",
       "      <th></th>\n",
       "      <th>Currency</th>\n",
       "      <th>Closing Price (USD)</th>\n",
       "      <th>24h Open (USD)</th>\n",
       "      <th>24h High (USD)</th>\n",
       "      <th>24h Low (USD)</th>\n",
       "    </tr>\n",
       "    <tr>\n",
       "      <th>Date</th>\n",
       "      <th></th>\n",
       "      <th></th>\n",
       "      <th></th>\n",
       "      <th></th>\n",
       "      <th></th>\n",
       "    </tr>\n",
       "  </thead>\n",
       "  <tbody>\n",
       "    <tr>\n",
       "      <th>2013-10-01</th>\n",
       "      <td>BTC</td>\n",
       "      <td>123.65499</td>\n",
       "      <td>124.30466</td>\n",
       "      <td>124.75166</td>\n",
       "      <td>122.56349</td>\n",
       "    </tr>\n",
       "    <tr>\n",
       "      <th>2013-10-02</th>\n",
       "      <td>BTC</td>\n",
       "      <td>125.45500</td>\n",
       "      <td>123.65499</td>\n",
       "      <td>125.75850</td>\n",
       "      <td>123.63383</td>\n",
       "    </tr>\n",
       "    <tr>\n",
       "      <th>2013-10-03</th>\n",
       "      <td>BTC</td>\n",
       "      <td>108.58483</td>\n",
       "      <td>125.45500</td>\n",
       "      <td>125.66566</td>\n",
       "      <td>83.32833</td>\n",
       "    </tr>\n",
       "    <tr>\n",
       "      <th>2013-10-04</th>\n",
       "      <td>BTC</td>\n",
       "      <td>118.67466</td>\n",
       "      <td>108.58483</td>\n",
       "      <td>118.67500</td>\n",
       "      <td>107.05816</td>\n",
       "    </tr>\n",
       "    <tr>\n",
       "      <th>2013-10-05</th>\n",
       "      <td>BTC</td>\n",
       "      <td>121.33866</td>\n",
       "      <td>118.67466</td>\n",
       "      <td>121.93633</td>\n",
       "      <td>118.00566</td>\n",
       "    </tr>\n",
       "  </tbody>\n",
       "</table>\n",
       "</div>"
      ],
      "text/plain": [
       "           Currency  Closing Price (USD)  24h Open (USD)  24h High (USD)  \\\n",
       "Date                                                                       \n",
       "2013-10-01      BTC            123.65499       124.30466       124.75166   \n",
       "2013-10-02      BTC            125.45500       123.65499       125.75850   \n",
       "2013-10-03      BTC            108.58483       125.45500       125.66566   \n",
       "2013-10-04      BTC            118.67466       108.58483       118.67500   \n",
       "2013-10-05      BTC            121.33866       118.67466       121.93633   \n",
       "\n",
       "            24h Low (USD)  \n",
       "Date                       \n",
       "2013-10-01      122.56349  \n",
       "2013-10-02      123.63383  \n",
       "2013-10-03       83.32833  \n",
       "2013-10-04      107.05816  \n",
       "2013-10-05      118.00566  "
      ]
     },
     "execution_count": 33,
     "metadata": {},
     "output_type": "execute_result"
    }
   ],
   "source": [
    "import pandas as pd\n",
    "\n",
    "# df = pd.read_csv(\"BTC_USD_2014-11-04_2022-02-09-CoinDesk.csv\", parse_dates=[\"Date\"], index_col=[\"Date\"])\n",
    "df = pd.read_csv(\"BTC_USD_2013-10-01_2021-05-18-CoinDesk.csv\", parse_dates=[\"Date\"], index_col=[\"Date\"])\n",
    "df.head()"
   ]
  },
  {
   "cell_type": "code",
   "execution_count": 34,
   "id": "3a2f4793-67e0-47b2-b4b9-231e6f3a8b90",
   "metadata": {},
   "outputs": [
    {
     "name": "stdout",
     "output_type": "stream",
     "text": [
      "<class 'pandas.core.frame.DataFrame'>\n",
      "DatetimeIndex: 2787 entries, 2013-10-01 to 2021-05-18\n",
      "Data columns (total 5 columns):\n",
      " #   Column               Non-Null Count  Dtype  \n",
      "---  ------               --------------  -----  \n",
      " 0   Currency             2787 non-null   object \n",
      " 1   Closing Price (USD)  2787 non-null   float64\n",
      " 2   24h Open (USD)       2787 non-null   float64\n",
      " 3   24h High (USD)       2787 non-null   float64\n",
      " 4   24h Low (USD)        2787 non-null   float64\n",
      "dtypes: float64(4), object(1)\n",
      "memory usage: 130.6+ KB\n"
     ]
    }
   ],
   "source": [
    "df.info()"
   ]
  },
  {
   "cell_type": "code",
   "execution_count": 35,
   "id": "bdd9c172-20f8-4d77-af2b-7bcb6b714085",
   "metadata": {},
   "outputs": [
    {
     "data": {
      "text/html": [
       "<div>\n",
       "<style scoped>\n",
       "    .dataframe tbody tr th:only-of-type {\n",
       "        vertical-align: middle;\n",
       "    }\n",
       "\n",
       "    .dataframe tbody tr th {\n",
       "        vertical-align: top;\n",
       "    }\n",
       "\n",
       "    .dataframe thead th {\n",
       "        text-align: right;\n",
       "    }\n",
       "</style>\n",
       "<table border=\"1\" class=\"dataframe\">\n",
       "  <thead>\n",
       "    <tr style=\"text-align: right;\">\n",
       "      <th></th>\n",
       "      <th>price</th>\n",
       "    </tr>\n",
       "    <tr>\n",
       "      <th>Date</th>\n",
       "      <th></th>\n",
       "    </tr>\n",
       "  </thead>\n",
       "  <tbody>\n",
       "    <tr>\n",
       "      <th>2013-10-01</th>\n",
       "      <td>123.65499</td>\n",
       "    </tr>\n",
       "    <tr>\n",
       "      <th>2013-10-02</th>\n",
       "      <td>125.45500</td>\n",
       "    </tr>\n",
       "    <tr>\n",
       "      <th>2013-10-03</th>\n",
       "      <td>108.58483</td>\n",
       "    </tr>\n",
       "    <tr>\n",
       "      <th>2013-10-04</th>\n",
       "      <td>118.67466</td>\n",
       "    </tr>\n",
       "    <tr>\n",
       "      <th>2013-10-05</th>\n",
       "      <td>121.33866</td>\n",
       "    </tr>\n",
       "  </tbody>\n",
       "</table>\n",
       "</div>"
      ],
      "text/plain": [
       "                price\n",
       "Date                 \n",
       "2013-10-01  123.65499\n",
       "2013-10-02  125.45500\n",
       "2013-10-03  108.58483\n",
       "2013-10-04  118.67466\n",
       "2013-10-05  121.33866"
      ]
     },
     "execution_count": 35,
     "metadata": {},
     "output_type": "execute_result"
    }
   ],
   "source": [
    "bitcoin_prices = pd.DataFrame(df[\"Closing Price (USD)\"]).rename(columns={\"Closing Price (USD)\": \"price\"})\n",
    "bitcoin_prices.head()"
   ]
  },
  {
   "cell_type": "code",
   "execution_count": 36,
   "id": "60dfd693-2cb4-42a5-b1ce-fc0c0d4b435f",
   "metadata": {},
   "outputs": [
    {
     "data": {
      "text/plain": [
       "(2787, (2787, 1))"
      ]
     },
     "execution_count": 36,
     "metadata": {},
     "output_type": "execute_result"
    }
   ],
   "source": [
    "len(bitcoin_prices), bitcoin_prices.shape"
   ]
  },
  {
   "cell_type": "code",
   "execution_count": 37,
   "id": "8ffed54c-003c-42a2-bd2b-187ed5b0e74b",
   "metadata": {},
   "outputs": [],
   "source": [
    "from sklearn.model_selection import train_test_split\n",
    "X = bitcoin_prices.index\n",
    "y = bitcoin_prices.price\n",
    "X_train, X_test, y_train, y_test = train_test_split(X, y, test_size=0.2, shuffle=False)"
   ]
  },
  {
   "cell_type": "code",
   "execution_count": 38,
   "id": "e3a716cd-e5aa-4c64-9587-dbe80b361f1f",
   "metadata": {},
   "outputs": [
    {
     "data": {
      "text/plain": [
       "pandas.core.indexes.datetimes.DatetimeIndex"
      ]
     },
     "execution_count": 38,
     "metadata": {},
     "output_type": "execute_result"
    }
   ],
   "source": [
    "type(X_train)"
   ]
  },
  {
   "cell_type": "code",
   "execution_count": 39,
   "id": "f0be2ac8-4e5d-4d7c-8f8c-30ed5c2bbed1",
   "metadata": {},
   "outputs": [
    {
     "data": {
      "text/plain": [
       "Date\n",
       "2013-10-01      123.654990\n",
       "2013-10-02      125.455000\n",
       "2013-10-03      108.584830\n",
       "2013-10-04      118.674660\n",
       "2013-10-05      121.338660\n",
       "                  ...     \n",
       "2021-05-14    49764.132082\n",
       "2021-05-15    50032.693137\n",
       "2021-05-16    47885.625255\n",
       "2021-05-17    45604.615754\n",
       "2021-05-18    43144.471291\n",
       "Name: price, Length: 2787, dtype: float64"
      ]
     },
     "execution_count": 39,
     "metadata": {},
     "output_type": "execute_result"
    }
   ],
   "source": [
    "y"
   ]
  },
  {
   "cell_type": "code",
   "execution_count": 40,
   "id": "8665dca1-f6e9-4695-b0b6-abc61da2dfab",
   "metadata": {},
   "outputs": [
    {
     "data": {
      "image/png": "[encoded data removed]",
      "text/plain": [
       "<Figure size 720x504 with 1 Axes>"
      ]
     },
     "metadata": {
      "needs_background": "light"
     },
     "output_type": "display_data"
    }
   ],
   "source": [
    "import matplotlib.pyplot as plt\n",
    "\n",
    "plt.figure(figsize=(10, 7))\n",
    "plt.grid(color='r', linestyle='-', linewidth=.07)\n",
    "plt.scatter(X_train, y_train, s=5)\n",
    "plt.scatter(X_test, y_test, s=5)\n",
    "plt.xlabel(\"time\", fontsize=16)\n",
    "plt.ylabel(\"price\", fontsize=16)\n",
    "plt.legend((\"train data\", \"test data\"), fontsize=14)\n",
    "plt.show()"
   ]
  },
  {
   "cell_type": "code",
   "execution_count": 41,
   "id": "5b0fe42c-4077-41a8-ade4-4b9bcd20ac1f",
   "metadata": {},
   "outputs": [],
   "source": [
    "def evaluate_preds(y_true, y_pred):\n",
    "    y_true = tf.cast(y_true, dtype=tf.float32)\n",
    "    y_pred = tf.cast(y_pred, dtype=tf.float32)\n",
    "    \n",
    "    mae = tf.keras.metrics.mean_absolute_error(y_true, y_pred)\n",
    "    mse = tf.keras.metrics.mean_squared_error(y_true, y_pred) # puts and emphasis on outliers (all errors get squared)\n",
    "    rmse = tf.sqrt(mse)\n",
    "    mape = tf.keras.metrics.mean_absolute_percentage_error(y_true, y_pred)\n",
    "    \n",
    "    mae_naive_no_season = tf.reduce_mean(tf.abs(y_true[1:] - y_true[:-1])) # our seasonality is 1 day (hence the shifting of 1 day)\n",
    "    \n",
    "    mase = mae / mae_naive_no_season\n",
    "  \n",
    "    return {\"mae\": mae.numpy(),\n",
    "            \"mse\": mse.numpy(),\n",
    "            \"rmse\": rmse.numpy(),\n",
    "            \"mape\": mape.numpy(),\n",
    "            \"mase\": mase.numpy()}"
   ]
  },
  {
   "cell_type": "code",
   "execution_count": 42,
   "id": "109c94e3-2e49-4615-aa6e-e28da3810774",
   "metadata": {},
   "outputs": [
    {
     "data": {
      "text/plain": [
       "array([123.65499, 125.455  , 108.58483, 118.67466, 121.33866])"
      ]
     },
     "execution_count": 42,
     "metadata": {},
     "output_type": "execute_result"
    }
   ],
   "source": [
    "prices = bitcoin_prices[\"price\"].to_numpy()\n",
    "prices[:5]"
   ]
  },
  {
   "cell_type": "code",
   "execution_count": 43,
   "id": "ae450237-e211-4bad-8f92-31195b652f90",
   "metadata": {},
   "outputs": [
    {
     "data": {
      "text/plain": [
       "(2787, numpy.ndarray)"
      ]
     },
     "execution_count": 43,
     "metadata": {},
     "output_type": "execute_result"
    }
   ],
   "source": [
    "len(prices), type(prices)"
   ]
  },
  {
   "cell_type": "code",
   "execution_count": 44,
   "id": "de6d6a8a-dd90-4854-95bf-6d21c260ba68",
   "metadata": {},
   "outputs": [],
   "source": [
    "import numpy as np\n",
    "from sklearn.model_selection import TimeSeriesSplit\n",
    "\n",
    "def make_train_test_split(nparray: np.ndarray, window:int, horizon:int, test_size=0.2)-> tuple:\n",
    "    tscv = TimeSeriesSplit(max_train_size=7, test_size=horizon, n_splits=len(nparray) - window)\n",
    "    print(tscv)\n",
    "    \n",
    "    _train_list = []\n",
    "    _test_list = []\n",
    "    \n",
    "    for train_index, test_index in tscv.split(nparray):\n",
    "        #print(\"TRAIN:\", train_index, \"TEST:\", test_index)\n",
    "        _train_list.append(nparray[train_index])\n",
    "        _test_list.append(nparray[test_index])\n",
    "        \n",
    "    windows = np.asarray(_train_list)\n",
    "    labels = np.asarray(_test_list)\n",
    "    \n",
    "    split_size = int(len(nparray) * (1-test_size)) # this will default to 80% train/20% test\n",
    "    \n",
    "    train_windows = windows[:split_size]\n",
    "    train_labels = labels[:split_size]\n",
    "    test_windows = windows[split_size:]\n",
    "    test_labels = labels[split_size:]\n",
    "    \n",
    "    return train_windows, test_windows, train_labels, test_labels"
   ]
  },
  {
   "cell_type": "code",
   "execution_count": 45,
   "id": "5c2d3efb-d0d0-4d59-a680-94ea32bedc8d",
   "metadata": {},
   "outputs": [
    {
     "name": "stdout",
     "output_type": "stream",
     "text": [
      "TimeSeriesSplit(gap=0, max_train_size=7, n_splits=2780, test_size=1)\n"
     ]
    }
   ],
   "source": [
    "import numpy as np\n",
    "\n",
    "train_windows, test_windows, train_labels, test_labels = make_train_test_split(nparray=prices, window=7, horizon=1)"
   ]
  },
  {
   "cell_type": "code",
   "execution_count": 46,
   "id": "6b70d6c3-9fd2-4973-9cf4-e3537f8d08ff",
   "metadata": {},
   "outputs": [
    {
     "name": "stdout",
     "output_type": "stream",
     "text": [
      "input: [123.65499 125.455   108.58483 118.67466 121.33866 120.65533 121.795  ], label: [123.033]\n",
      "input: [125.455   108.58483 118.67466 121.33866 120.65533 121.795   123.033  ], label: [124.049]\n",
      "input: [108.58483 118.67466 121.33866 120.65533 121.795   123.033   124.049  ], label: [125.96116]\n",
      "input: [118.67466 121.33866 120.65533 121.795   123.033   124.049   125.96116], label: [125.27966]\n",
      "input: [121.33866 120.65533 121.795   123.033   124.049   125.96116 125.27966], label: [125.9275]\n"
     ]
    }
   ],
   "source": [
    "for i in range(0, 5):\n",
    "    print(f\"input: {train_windows[i]}, label: {train_labels[i]}\")"
   ]
  },
  {
   "cell_type": "code",
   "execution_count": 47,
   "id": "ab0f336f-d2a0-4516-9ad7-4245d60bee27",
   "metadata": {},
   "outputs": [],
   "source": [
    "import os\n",
    "import tensorflow as tf\n",
    "\n",
    "# Create a function to implement a ModelCheckpoint callback with a specific filename \n",
    "def create_model_checkpoint(model_name, save_path=\"model_experiments\"):\n",
    "    return tf.keras.callbacks.ModelCheckpoint(filepath=os.path.join(save_path, model_name),\n",
    "                                              save_best_only=True,\n",
    "                                              verbose=0)"
   ]
  },
  {
   "cell_type": "markdown",
   "id": "c20d5938-62bb-4597-8fa8-179d7726c8cb",
   "metadata": {},
   "source": [
    "### Model 1: Dense model (window = 7, horizon = 1)"
   ]
  },
  {
   "cell_type": "code",
   "execution_count": 48,
   "id": "24cf17be-573e-4d6a-9cff-6fe42d716b75",
   "metadata": {},
   "outputs": [],
   "source": [
    "import tensorflow as tf\n",
    "from tensorflow.keras import layers\n",
    "from tensorflow.keras.models import Sequential\n",
    "from tensorflow.keras.losses import mae\n",
    "from tensorflow.keras.optimizers import Adam\n",
    "\n",
    "WINDOW = 7\n",
    "HORIZON = 1\n",
    "\n",
    "tf.random.set_seed(42)\n",
    "\n",
    "model_1 = Sequential([\n",
    "    layers.Dense(128, activation=\"relu\"),\n",
    "    layers.Dense(HORIZON, activation=\"linear\") \n",
    "], name=\"model_1_dense\")\n",
    "\n",
    "model_1.compile(loss=mae,\n",
    "                optimizer=Adam(),\n",
    "                metrics=[\"mae\"])"
   ]
  },
  {
   "cell_type": "code",
   "execution_count": 49,
   "id": "5deaf68b-daf7-4e9d-8682-8a9c62620228",
   "metadata": {},
   "outputs": [
    {
     "data": {
      "text/plain": [
       "{'name': 'model_1_dense',\n",
       " 'layers': [{'class_name': 'Dense',\n",
       "   'config': {'name': 'dense_4',\n",
       "    'trainable': True,\n",
       "    'dtype': 'float32',\n",
       "    'units': 128,\n",
       "    'activation': 'relu',\n",
       "    'use_bias': True,\n",
       "    'kernel_initializer': {'class_name': 'GlorotUniform',\n",
       "     'config': {'seed': None}},\n",
       "    'bias_initializer': {'class_name': 'Zeros', 'config': {}},\n",
       "    'kernel_regularizer': None,\n",
       "    'bias_regularizer': None,\n",
       "    'activity_regularizer': None,\n",
       "    'kernel_constraint': None,\n",
       "    'bias_constraint': None}},\n",
       "  {'class_name': 'Dense',\n",
       "   'config': {'name': 'dense_5',\n",
       "    'trainable': True,\n",
       "    'dtype': 'float32',\n",
       "    'units': 1,\n",
       "    'activation': 'linear',\n",
       "    'use_bias': True,\n",
       "    'kernel_initializer': {'class_name': 'GlorotUniform',\n",
       "     'config': {'seed': None}},\n",
       "    'bias_initializer': {'class_name': 'Zeros', 'config': {}},\n",
       "    'kernel_regularizer': None,\n",
       "    'bias_regularizer': None,\n",
       "    'activity_regularizer': None,\n",
       "    'kernel_constraint': None,\n",
       "    'bias_constraint': None}}]}"
      ]
     },
     "execution_count": 49,
     "metadata": {},
     "output_type": "execute_result"
    }
   ],
   "source": [
    "model_1.get_config()"
   ]
  },
  {
   "cell_type": "code",
   "execution_count": 50,
   "id": "4d52c351-9bcc-49bc-b3e5-e263cf072dc6",
   "metadata": {},
   "outputs": [
    {
     "name": "stdout",
     "output_type": "stream",
     "text": [
      "Epoch 1/100\n",
      "69/70 [============================>.] - ETA: 0s - loss: 343.4139 - mae: 343.4139  INFO:tensorflow:Assets written to: model_experiments/model_1_dense/assets\n"
     ]
    },
    {
     "name": "stderr",
     "output_type": "stream",
     "text": [
      "INFO:tensorflow:Assets written to: model_experiments/model_1_dense/assets\n"
     ]
    },
    {
     "name": "stdout",
     "output_type": "stream",
     "text": [
      "70/70 [==============================] - 1s 6ms/step - loss: 343.7033 - mae: 343.7033 - val_loss: 922.5333 - val_mae: 922.5333\n",
      "Epoch 2/100\n",
      "70/70 [==============================] - 0s 2ms/step - loss: 161.0674 - mae: 161.0674 - val_loss: 937.6246 - val_mae: 937.6246\n",
      "Epoch 3/100\n",
      "37/70 [==============>...............] - ETA: 0s - loss: 156.0300 - mae: 156.0300INFO:tensorflow:Assets written to: model_experiments/model_1_dense/assets\n"
     ]
    },
    {
     "name": "stderr",
     "output_type": "stream",
     "text": [
      "INFO:tensorflow:Assets written to: model_experiments/model_1_dense/assets\n"
     ]
    },
    {
     "name": "stdout",
     "output_type": "stream",
     "text": [
      "70/70 [==============================] - 0s 5ms/step - loss: 148.2369 - mae: 148.2369 - val_loss: 776.7939 - val_mae: 776.7939\n",
      "Epoch 4/100\n",
      "34/70 [=============>................] - ETA: 0s - loss: 134.4023 - mae: 134.4023INFO:tensorflow:Assets written to: model_experiments/model_1_dense/assets\n"
     ]
    },
    {
     "name": "stderr",
     "output_type": "stream",
     "text": [
      "INFO:tensorflow:Assets written to: model_experiments/model_1_dense/assets\n"
     ]
    },
    {
     "name": "stdout",
     "output_type": "stream",
     "text": [
      "70/70 [==============================] - 0s 6ms/step - loss: 132.3288 - mae: 132.3288 - val_loss: 683.6370 - val_mae: 683.6370\n",
      "Epoch 5/100\n",
      "70/70 [==============================] - 0s 2ms/step - loss: 131.4117 - mae: 131.4117 - val_loss: 1012.5534 - val_mae: 1012.5534\n",
      "Epoch 6/100\n",
      "70/70 [==============================] - 0s 2ms/step - loss: 136.6220 - mae: 136.6220 - val_loss: 685.4259 - val_mae: 685.4259\n",
      "Epoch 7/100\n",
      "70/70 [==============================] - 0s 2ms/step - loss: 122.9630 - mae: 122.9630 - val_loss: 703.2964 - val_mae: 703.2964\n",
      "Epoch 8/100\n",
      "70/70 [==============================] - 0s 2ms/step - loss: 123.1799 - mae: 123.1799 - val_loss: 817.0975 - val_mae: 817.0975\n",
      "Epoch 9/100\n",
      "38/70 [===============>..............] - ETA: 0s - loss: 117.7140 - mae: 117.7140INFO:tensorflow:Assets written to: model_experiments/model_1_dense/assets\n"
     ]
    },
    {
     "name": "stderr",
     "output_type": "stream",
     "text": [
      "INFO:tensorflow:Assets written to: model_experiments/model_1_dense/assets\n"
     ]
    },
    {
     "name": "stdout",
     "output_type": "stream",
     "text": [
      "70/70 [==============================] - 0s 5ms/step - loss: 122.1537 - mae: 122.1537 - val_loss: 619.8591 - val_mae: 619.8591\n",
      "Epoch 10/100\n",
      "70/70 [==============================] - 0s 2ms/step - loss: 118.6951 - mae: 118.6951 - val_loss: 635.3211 - val_mae: 635.3211\n",
      "Epoch 11/100\n",
      "70/70 [==============================] - 0s 2ms/step - loss: 118.5260 - mae: 118.5260 - val_loss: 630.0175 - val_mae: 630.0175\n",
      "Epoch 12/100\n",
      "70/70 [==============================] - 0s 2ms/step - loss: 116.0763 - mae: 116.0763 - val_loss: 639.2427 - val_mae: 639.2427\n",
      "Epoch 13/100\n",
      "70/70 [==============================] - 0s 2ms/step - loss: 113.1648 - mae: 113.1648 - val_loss: 629.2646 - val_mae: 629.2646\n",
      "Epoch 14/100\n",
      "43/70 [=================>............] - ETA: 0s - loss: 120.8878 - mae: 120.8878INFO:tensorflow:Assets written to: model_experiments/model_1_dense/assets\n"
     ]
    },
    {
     "name": "stderr",
     "output_type": "stream",
     "text": [
      "INFO:tensorflow:Assets written to: model_experiments/model_1_dense/assets\n"
     ]
    },
    {
     "name": "stdout",
     "output_type": "stream",
     "text": [
      "70/70 [==============================] - 0s 5ms/step - loss: 118.5675 - mae: 118.5675 - val_loss: 606.6513 - val_mae: 606.6513\n",
      "Epoch 15/100\n",
      "70/70 [==============================] - 0s 2ms/step - loss: 114.3830 - mae: 114.3830 - val_loss: 656.1324 - val_mae: 656.1324\n",
      "Epoch 16/100\n",
      "70/70 [==============================] - 0s 2ms/step - loss: 129.6604 - mae: 129.6604 - val_loss: 732.4889 - val_mae: 732.4889\n",
      "Epoch 17/100\n",
      "70/70 [==============================] - 0s 2ms/step - loss: 120.1646 - mae: 120.1646 - val_loss: 609.2922 - val_mae: 609.2922\n",
      "Epoch 18/100\n",
      "70/70 [==============================] - 0s 2ms/step - loss: 120.5293 - mae: 120.5293 - val_loss: 681.2451 - val_mae: 681.2451\n",
      "Epoch 19/100\n",
      "70/70 [==============================] - 0s 2ms/step - loss: 115.0861 - mae: 115.0861 - val_loss: 698.1938 - val_mae: 698.1938\n",
      "Epoch 20/100\n",
      "70/70 [==============================] - 0s 2ms/step - loss: 131.7963 - mae: 131.7963 - val_loss: 778.7521 - val_mae: 778.7521\n",
      "Epoch 21/100\n",
      "39/70 [===============>..............] - ETA: 0s - loss: 120.3809 - mae: 120.3809INFO:tensorflow:Assets written to: model_experiments/model_1_dense/assets\n"
     ]
    },
    {
     "name": "stderr",
     "output_type": "stream",
     "text": [
      "INFO:tensorflow:Assets written to: model_experiments/model_1_dense/assets\n"
     ]
    },
    {
     "name": "stdout",
     "output_type": "stream",
     "text": [
      "70/70 [==============================] - 0s 5ms/step - loss: 117.5669 - mae: 117.5669 - val_loss: 582.2695 - val_mae: 582.2695\n",
      "Epoch 22/100\n",
      "70/70 [==============================] - 0s 2ms/step - loss: 113.7481 - mae: 113.7481 - val_loss: 655.1566 - val_mae: 655.1566\n",
      "Epoch 23/100\n",
      "70/70 [==============================] - 0s 2ms/step - loss: 116.2084 - mae: 116.2084 - val_loss: 588.9680 - val_mae: 588.9680\n",
      "Epoch 24/100\n",
      "70/70 [==============================] - 0s 2ms/step - loss: 117.0473 - mae: 117.0473 - val_loss: 601.5239 - val_mae: 601.5239\n",
      "Epoch 25/100\n",
      "70/70 [==============================] - 0s 2ms/step - loss: 117.6968 - mae: 117.6968 - val_loss: 583.7342 - val_mae: 583.7342\n",
      "Epoch 26/100\n",
      "70/70 [==============================] - 0s 2ms/step - loss: 122.0995 - mae: 122.0995 - val_loss: 718.0260 - val_mae: 718.0260\n",
      "Epoch 27/100\n",
      "70/70 [==============================] - 0s 2ms/step - loss: 122.9913 - mae: 122.9913 - val_loss: 603.4142 - val_mae: 603.4142\n",
      "Epoch 28/100\n",
      "70/70 [==============================] - 0s 2ms/step - loss: 114.1742 - mae: 114.1742 - val_loss: 593.1219 - val_mae: 593.1219\n",
      "Epoch 29/100\n",
      "70/70 [==============================] - 0s 2ms/step - loss: 118.4067 - mae: 118.4067 - val_loss: 662.7830 - val_mae: 662.7830\n",
      "Epoch 30/100\n",
      "70/70 [==============================] - 0s 2ms/step - loss: 110.9120 - mae: 110.9120 - val_loss: 596.7919 - val_mae: 596.7919\n",
      "Epoch 31/100\n",
      "70/70 [==============================] - 0s 2ms/step - loss: 112.8630 - mae: 112.8630 - val_loss: 612.8035 - val_mae: 612.8035\n",
      "Epoch 32/100\n",
      "70/70 [==============================] - 0s 2ms/step - loss: 110.0436 - mae: 110.0436 - val_loss: 660.7419 - val_mae: 660.7419\n",
      "Epoch 33/100\n",
      "70/70 [==============================] - 0s 2ms/step - loss: 113.9158 - mae: 113.9158 - val_loss: 834.8104 - val_mae: 834.8104\n",
      "Epoch 34/100\n",
      "70/70 [==============================] - 0s 2ms/step - loss: 116.9203 - mae: 116.9203 - val_loss: 590.4532 - val_mae: 590.4532\n",
      "Epoch 35/100\n",
      "70/70 [==============================] - 0s 2ms/step - loss: 115.9199 - mae: 115.9199 - val_loss: 585.5182 - val_mae: 585.5182\n",
      "Epoch 36/100\n",
      "70/70 [==============================] - 0s 2ms/step - loss: 113.2785 - mae: 113.2785 - val_loss: 698.0657 - val_mae: 698.0657\n",
      "Epoch 37/100\n",
      "70/70 [==============================] - 0s 2ms/step - loss: 109.9505 - mae: 109.9505 - val_loss: 615.6031 - val_mae: 615.6031\n",
      "Epoch 38/100\n",
      "70/70 [==============================] - 0s 2ms/step - loss: 115.3737 - mae: 115.3737 - val_loss: 593.0218 - val_mae: 593.0218\n",
      "Epoch 39/100\n",
      "70/70 [==============================] - 0s 2ms/step - loss: 111.0767 - mae: 111.0767 - val_loss: 588.1716 - val_mae: 588.1716\n",
      "Epoch 40/100\n",
      "40/70 [================>.............] - ETA: 0s - loss: 103.7607 - mae: 103.7607INFO:tensorflow:Assets written to: model_experiments/model_1_dense/assets\n"
     ]
    },
    {
     "name": "stderr",
     "output_type": "stream",
     "text": [
      "INFO:tensorflow:Assets written to: model_experiments/model_1_dense/assets\n"
     ]
    },
    {
     "name": "stdout",
     "output_type": "stream",
     "text": [
      "70/70 [==============================] - 0s 5ms/step - loss: 112.5566 - mae: 112.5566 - val_loss: 574.9615 - val_mae: 574.9615\n",
      "Epoch 41/100\n",
      "70/70 [==============================] - 0s 2ms/step - loss: 114.4254 - mae: 114.4254 - val_loss: 696.5612 - val_mae: 696.5612\n",
      "Epoch 42/100\n",
      "42/70 [=================>............] - ETA: 0s - loss: 125.6352 - mae: 125.6352INFO:tensorflow:Assets written to: model_experiments/model_1_dense/assets\n"
     ]
    },
    {
     "name": "stderr",
     "output_type": "stream",
     "text": [
      "INFO:tensorflow:Assets written to: model_experiments/model_1_dense/assets\n"
     ]
    },
    {
     "name": "stdout",
     "output_type": "stream",
     "text": [
      "70/70 [==============================] - 0s 5ms/step - loss: 120.0147 - mae: 120.0147 - val_loss: 572.2584 - val_mae: 572.2584\n",
      "Epoch 43/100\n",
      "70/70 [==============================] - 0s 2ms/step - loss: 110.9819 - mae: 110.9819 - val_loss: 585.6960 - val_mae: 585.6960\n",
      "Epoch 44/100\n",
      "70/70 [==============================] - 0s 2ms/step - loss: 112.9197 - mae: 112.9197 - val_loss: 818.9876 - val_mae: 818.9876\n",
      "Epoch 45/100\n",
      "70/70 [==============================] - 0s 2ms/step - loss: 113.4170 - mae: 113.4170 - val_loss: 653.9536 - val_mae: 653.9536\n",
      "Epoch 46/100\n",
      "70/70 [==============================] - 0s 2ms/step - loss: 113.1074 - mae: 113.1074 - val_loss: 573.8594 - val_mae: 573.8594\n",
      "Epoch 47/100\n",
      "70/70 [==============================] - 0s 2ms/step - loss: 113.4201 - mae: 113.4201 - val_loss: 836.2509 - val_mae: 836.2509\n",
      "Epoch 48/100\n",
      "70/70 [==============================] - 0s 2ms/step - loss: 126.8303 - mae: 126.8303 - val_loss: 671.5677 - val_mae: 671.5677\n",
      "Epoch 49/100\n",
      "70/70 [==============================] - 0s 2ms/step - loss: 115.0365 - mae: 115.0365 - val_loss: 600.4039 - val_mae: 600.4039\n",
      "Epoch 50/100\n",
      "70/70 [==============================] - 0s 2ms/step - loss: 114.3659 - mae: 114.3659 - val_loss: 891.3818 - val_mae: 891.3818\n",
      "Epoch 51/100\n",
      "70/70 [==============================] - 0s 2ms/step - loss: 115.1474 - mae: 115.1474 - val_loss: 585.2064 - val_mae: 585.2064\n",
      "Epoch 52/100\n",
      "70/70 [==============================] - 0s 2ms/step - loss: 109.5459 - mae: 109.5459 - val_loss: 580.2988 - val_mae: 580.2988\n",
      "Epoch 53/100\n",
      "70/70 [==============================] - 0s 2ms/step - loss: 109.4716 - mae: 109.4716 - val_loss: 637.0981 - val_mae: 637.0981\n",
      "Epoch 54/100\n",
      "43/70 [=================>............] - ETA: 0s - loss: 110.1759 - mae: 110.1759INFO:tensorflow:Assets written to: model_experiments/model_1_dense/assets\n"
     ]
    },
    {
     "name": "stderr",
     "output_type": "stream",
     "text": [
      "INFO:tensorflow:Assets written to: model_experiments/model_1_dense/assets\n"
     ]
    },
    {
     "name": "stdout",
     "output_type": "stream",
     "text": [
      "70/70 [==============================] - 0s 5ms/step - loss: 112.3857 - mae: 112.3857 - val_loss: 571.0112 - val_mae: 571.0112\n",
      "Epoch 55/100\n",
      "70/70 [==============================] - 0s 2ms/step - loss: 113.0411 - mae: 113.0411 - val_loss: 577.6389 - val_mae: 577.6389\n",
      "Epoch 56/100\n",
      "70/70 [==============================] - 0s 2ms/step - loss: 111.5038 - mae: 111.5038 - val_loss: 636.0012 - val_mae: 636.0012\n",
      "Epoch 57/100\n",
      "70/70 [==============================] - 0s 2ms/step - loss: 110.3537 - mae: 110.3537 - val_loss: 581.6431 - val_mae: 581.6431\n",
      "Epoch 58/100\n",
      "70/70 [==============================] - 0s 2ms/step - loss: 116.5816 - mae: 116.5816 - val_loss: 576.2189 - val_mae: 576.2189\n",
      "Epoch 59/100\n",
      "70/70 [==============================] - 0s 2ms/step - loss: 113.1792 - mae: 113.1792 - val_loss: 581.1438 - val_mae: 581.1438\n",
      "Epoch 60/100\n",
      "70/70 [==============================] - 0s 2ms/step - loss: 111.4110 - mae: 111.4110 - val_loss: 607.2144 - val_mae: 607.2144\n",
      "Epoch 61/100\n",
      "70/70 [==============================] - 0s 2ms/step - loss: 116.9339 - mae: 116.9339 - val_loss: 655.6294 - val_mae: 655.6294\n",
      "Epoch 62/100\n",
      "70/70 [==============================] - 0s 2ms/step - loss: 113.8608 - mae: 113.8608 - val_loss: 573.4389 - val_mae: 573.4389\n",
      "Epoch 63/100\n",
      "70/70 [==============================] - 0s 2ms/step - loss: 107.7491 - mae: 107.7491 - val_loss: 607.4783 - val_mae: 607.4783\n",
      "Epoch 64/100\n",
      "38/70 [===============>..............] - ETA: 0s - loss: 104.3901 - mae: 104.3901INFO:tensorflow:Assets written to: model_experiments/model_1_dense/assets\n"
     ]
    },
    {
     "name": "stderr",
     "output_type": "stream",
     "text": [
      "INFO:tensorflow:Assets written to: model_experiments/model_1_dense/assets\n"
     ]
    },
    {
     "name": "stdout",
     "output_type": "stream",
     "text": [
      "70/70 [==============================] - 0s 5ms/step - loss: 108.0216 - mae: 108.0216 - val_loss: 569.7256 - val_mae: 569.7256\n",
      "Epoch 65/100\n",
      "70/70 [==============================] - 0s 2ms/step - loss: 110.2716 - mae: 110.2716 - val_loss: 782.4759 - val_mae: 782.4759\n",
      "Epoch 66/100\n",
      "70/70 [==============================] - 0s 2ms/step - loss: 111.4064 - mae: 111.4064 - val_loss: 674.9920 - val_mae: 674.9920\n",
      "Epoch 67/100\n",
      "70/70 [==============================] - 0s 2ms/step - loss: 114.1350 - mae: 114.1350 - val_loss: 588.3494 - val_mae: 588.3494\n",
      "Epoch 68/100\n",
      "70/70 [==============================] - 0s 2ms/step - loss: 111.7369 - mae: 111.7369 - val_loss: 578.6490 - val_mae: 578.6490\n",
      "Epoch 69/100\n",
      "70/70 [==============================] - 0s 2ms/step - loss: 114.1871 - mae: 114.1871 - val_loss: 592.0038 - val_mae: 592.0038\n",
      "Epoch 70/100\n",
      "70/70 [==============================] - 0s 2ms/step - loss: 122.6858 - mae: 122.6858 - val_loss: 705.4669 - val_mae: 705.4669\n",
      "Epoch 71/100\n",
      "70/70 [==============================] - 0s 2ms/step - loss: 111.4275 - mae: 111.4275 - val_loss: 602.4803 - val_mae: 602.4803\n",
      "Epoch 72/100\n",
      "70/70 [==============================] - 0s 2ms/step - loss: 108.2613 - mae: 108.2613 - val_loss: 577.2927 - val_mae: 577.2927\n",
      "Epoch 73/100\n",
      "70/70 [==============================] - 0s 2ms/step - loss: 116.1356 - mae: 116.1356 - val_loss: 606.1494 - val_mae: 606.1494\n",
      "Epoch 74/100\n",
      "70/70 [==============================] - 0s 2ms/step - loss: 117.5177 - mae: 117.5177 - val_loss: 579.2776 - val_mae: 579.2776\n",
      "Epoch 75/100\n",
      "70/70 [==============================] - 0s 2ms/step - loss: 111.9763 - mae: 111.9763 - val_loss: 684.1000 - val_mae: 684.1000\n",
      "Epoch 76/100\n",
      "70/70 [==============================] - 0s 2ms/step - loss: 113.0892 - mae: 113.0892 - val_loss: 571.2360 - val_mae: 571.2360\n",
      "Epoch 77/100\n",
      "70/70 [==============================] - 0s 2ms/step - loss: 109.3036 - mae: 109.3036 - val_loss: 699.8169 - val_mae: 699.8169\n",
      "Epoch 78/100\n",
      "70/70 [==============================] - 0s 2ms/step - loss: 116.9785 - mae: 116.9785 - val_loss: 587.2138 - val_mae: 587.2138\n",
      "Epoch 79/100\n",
      "70/70 [==============================] - 0s 2ms/step - loss: 109.1206 - mae: 109.1206 - val_loss: 715.4757 - val_mae: 715.4757\n",
      "Epoch 80/100\n",
      "70/70 [==============================] - 0s 2ms/step - loss: 113.8247 - mae: 113.8247 - val_loss: 575.9317 - val_mae: 575.9317\n",
      "Epoch 81/100\n",
      "70/70 [==============================] - 0s 2ms/step - loss: 120.7115 - mae: 120.7115 - val_loss: 731.5306 - val_mae: 731.5306\n",
      "Epoch 82/100\n",
      "44/70 [=================>............] - ETA: 0s - loss: 123.2388 - mae: 123.2388INFO:tensorflow:Assets written to: model_experiments/model_1_dense/assets\n"
     ]
    },
    {
     "name": "stderr",
     "output_type": "stream",
     "text": [
      "INFO:tensorflow:Assets written to: model_experiments/model_1_dense/assets\n"
     ]
    },
    {
     "name": "stdout",
     "output_type": "stream",
     "text": [
      "70/70 [==============================] - 0s 5ms/step - loss: 119.8069 - mae: 119.8069 - val_loss: 569.1689 - val_mae: 569.1689\n",
      "Epoch 83/100\n",
      "70/70 [==============================] - 0s 2ms/step - loss: 112.6206 - mae: 112.6206 - val_loss: 630.1481 - val_mae: 630.1481\n",
      "Epoch 84/100\n",
      "70/70 [==============================] - 0s 2ms/step - loss: 112.0751 - mae: 112.0751 - val_loss: 611.7151 - val_mae: 611.7151\n",
      "Epoch 85/100\n",
      "70/70 [==============================] - 0s 2ms/step - loss: 111.3090 - mae: 111.3090 - val_loss: 577.9584 - val_mae: 577.9584\n",
      "Epoch 86/100\n",
      "70/70 [==============================] - 0s 2ms/step - loss: 108.2499 - mae: 108.2499 - val_loss: 580.2400 - val_mae: 580.2400\n",
      "Epoch 87/100\n",
      "70/70 [==============================] - 0s 2ms/step - loss: 109.5042 - mae: 109.5042 - val_loss: 704.2545 - val_mae: 704.2545\n",
      "Epoch 88/100\n",
      "70/70 [==============================] - 0s 2ms/step - loss: 114.6280 - mae: 114.6280 - val_loss: 611.9465 - val_mae: 611.9465\n",
      "Epoch 89/100\n",
      "70/70 [==============================] - 0s 2ms/step - loss: 110.1125 - mae: 110.1125 - val_loss: 630.6606 - val_mae: 630.6606\n",
      "Epoch 90/100\n",
      "70/70 [==============================] - 0s 2ms/step - loss: 107.7065 - mae: 107.7065 - val_loss: 597.9214 - val_mae: 597.9214\n",
      "Epoch 91/100\n",
      "70/70 [==============================] - 0s 2ms/step - loss: 107.2457 - mae: 107.2457 - val_loss: 863.8060 - val_mae: 863.8060\n",
      "Epoch 92/100\n",
      "70/70 [==============================] - 0s 2ms/step - loss: 115.8991 - mae: 115.8991 - val_loss: 577.3201 - val_mae: 577.3201\n",
      "Epoch 93/100\n",
      "70/70 [==============================] - 0s 2ms/step - loss: 109.8488 - mae: 109.8488 - val_loss: 593.9389 - val_mae: 593.9389\n",
      "Epoch 94/100\n",
      "70/70 [==============================] - 0s 2ms/step - loss: 108.3593 - mae: 108.3593 - val_loss: 580.5358 - val_mae: 580.5358\n",
      "Epoch 95/100\n",
      "70/70 [==============================] - 0s 2ms/step - loss: 115.4346 - mae: 115.4346 - val_loss: 642.2359 - val_mae: 642.2359\n",
      "Epoch 96/100\n",
      "70/70 [==============================] - 0s 2ms/step - loss: 123.9200 - mae: 123.9200 - val_loss: 869.5925 - val_mae: 869.5925\n",
      "Epoch 97/100\n",
      "70/70 [==============================] - 0s 2ms/step - loss: 115.5951 - mae: 115.5951 - val_loss: 575.2418 - val_mae: 575.2418\n",
      "Epoch 98/100\n",
      "70/70 [==============================] - 0s 2ms/step - loss: 112.0851 - mae: 112.0851 - val_loss: 815.7081 - val_mae: 815.7081\n",
      "Epoch 99/100\n",
      "70/70 [==============================] - 0s 2ms/step - loss: 114.2846 - mae: 114.2846 - val_loss: 573.6617 - val_mae: 573.6617\n",
      "Epoch 100/100\n",
      "70/70 [==============================] - 0s 2ms/step - loss: 109.8501 - mae: 109.8501 - val_loss: 649.0461 - val_mae: 649.0461\n"
     ]
    }
   ],
   "source": [
    "history_1 = model_1.fit(train_windows,\n",
    "                        train_labels,\n",
    "                        epochs=100,\n",
    "                        verbose=1,\n",
    "                        validation_data=(test_windows, test_labels),\n",
    "                        callbacks=[create_model_checkpoint(model_name=model_1.name)])"
   ]
  },
  {
   "cell_type": "code",
   "execution_count": 51,
   "id": "794c0bb4-0d6f-4c77-afe5-2721bf3cfcaa",
   "metadata": {},
   "outputs": [
    {
     "name": "stdout",
     "output_type": "stream",
     "text": [
      "18/18 [==============================] - 0s 1ms/step - loss: 649.0461 - mae: 649.0461\n"
     ]
    },
    {
     "data": {
      "text/plain": [
       "[649.046142578125, 649.046142578125]"
      ]
     },
     "execution_count": 51,
     "metadata": {},
     "output_type": "execute_result"
    }
   ],
   "source": [
    "# Evaluate model on test data\n",
    "model_1.evaluate(test_windows, test_labels)"
   ]
  },
  {
   "cell_type": "code",
   "execution_count": 52,
   "id": "7f55f6a0-5999-47b2-91a2-a073cc3a2bbe",
   "metadata": {},
   "outputs": [
    {
     "data": {
      "text/plain": [
       "<AxesSubplot:>"
      ]
     },
     "execution_count": 52,
     "metadata": {},
     "output_type": "execute_result"
    },
    {
     "data": {
      "image/png": "[encoded data removed]",
      "text/plain": [
       "<Figure size 720x504 with 1 Axes>"
      ]
     },
     "metadata": {
      "needs_background": "light"
     },
     "output_type": "display_data"
    }
   ],
   "source": [
    "pd.DataFrame(history_1.history).plot(figsize=(10, 7))"
   ]
  },
  {
   "cell_type": "code",
   "execution_count": 53,
   "id": "58da37ba-399e-4332-a49e-62a514e6d540",
   "metadata": {},
   "outputs": [
    {
     "name": "stdout",
     "output_type": "stream",
     "text": [
      "18/18 [==============================] - 0s 1ms/step - loss: 569.1689 - mae: 569.1689\n"
     ]
    },
    {
     "data": {
      "text/plain": [
       "[569.1689453125, 569.1689453125]"
      ]
     },
     "execution_count": 53,
     "metadata": {},
     "output_type": "execute_result"
    }
   ],
   "source": [
    "# Load in saved best performing model_1 and evaluate on test data\n",
    "model_1 = tf.keras.models.load_model(\"model_experiments/model_1_dense\")\n",
    "model_1.evaluate(test_windows, test_labels)"
   ]
  },
  {
   "cell_type": "code",
   "execution_count": 54,
   "id": "a5fdd12a-4765-4902-9b50-d715f60424b7",
   "metadata": {},
   "outputs": [],
   "source": [
    "def make_preds(model, input_data):\n",
    "    \"\"\"\n",
    "    Uses model to make predictions on input_data.\n",
    "\n",
    "    Parameters\n",
    "    ----------\n",
    "    model: trained model \n",
    "    input_data: windowed input data (same kind of data model was trained on)\n",
    "\n",
    "    Returns model predictions on input_data.\n",
    "    \"\"\"\n",
    "    forecast = model.predict(input_data)\n",
    "    return tf.squeeze(forecast) # return 1D array of predictions"
   ]
  },
  {
   "cell_type": "code",
   "execution_count": 55,
   "id": "d42074f8-0d4b-4408-9a20-a0231d2d9dd2",
   "metadata": {},
   "outputs": [
    {
     "data": {
      "text/plain": [
       "(551,\n",
       " <tf.Tensor: shape=(10,), dtype=float32, numpy=\n",
       " array([8730.911 , 8670.605 , 8513.254 , 8458.148 , 8523.    , 8252.551 ,\n",
       "        8112.0166, 8068.411 , 7680.6616, 7296.1685], dtype=float32)>)"
      ]
     },
     "execution_count": 55,
     "metadata": {},
     "output_type": "execute_result"
    }
   ],
   "source": [
    "# Make predictions using model_1 on the test dataset and view the results\n",
    "model_1_preds = make_preds(model_1, test_windows)\n",
    "len(model_1_preds), model_1_preds[:10]"
   ]
  },
  {
   "cell_type": "code",
   "execution_count": 56,
   "id": "d4c1fd8a-d15f-4a19-8701-96c44d47cf6e",
   "metadata": {},
   "outputs": [
    {
     "data": {
      "text/plain": [
       "{'mae': 569.16895,\n",
       " 'mse': 1168156.8,\n",
       " 'rmse': 1080.813,\n",
       " 'mape': 2.5240622,\n",
       " 'mase': 0.9933989}"
      ]
     },
     "execution_count": 56,
     "metadata": {},
     "output_type": "execute_result"
    }
   ],
   "source": [
    "# Evaluate preds\n",
    "model_1_results = evaluate_preds(y_true=tf.squeeze(test_labels), # reduce to right shape\n",
    "                                     y_pred=model_1_preds)\n",
    "model_1_results"
   ]
  },
  {
   "cell_type": "markdown",
   "id": "31da17c2-72ee-4711-bd57-fa8700d1ffe5",
   "metadata": {},
   "source": [
    "### Model 2: Conv1D"
   ]
  },
  {
   "cell_type": "code",
   "execution_count": 57,
   "id": "8be8a65a-7091-4d6f-97bc-7496ea844556",
   "metadata": {},
   "outputs": [
    {
     "name": "stdout",
     "output_type": "stream",
     "text": [
      "Epoch 1/100\n",
      "54/70 [======================>.......] - ETA: 0s - loss: 586.6011 - mae: 586.6011  INFO:tensorflow:Assets written to: model_experiments/model_2_Conv1D/assets\n"
     ]
    },
    {
     "name": "stderr",
     "output_type": "stream",
     "text": [
      "INFO:tensorflow:Assets written to: model_experiments/model_2_Conv1D/assets\n"
     ]
    },
    {
     "name": "stdout",
     "output_type": "stream",
     "text": [
      "70/70 [==============================] - 1s 11ms/step - loss: 498.5802 - mae: 498.5802 - val_loss: 1016.2603 - val_mae: 1016.2603\n",
      "Epoch 2/100\n",
      "55/70 [======================>.......] - ETA: 0s - loss: 171.5325 - mae: 171.5325INFO:tensorflow:Assets written to: model_experiments/model_2_Conv1D/assets\n"
     ]
    },
    {
     "name": "stderr",
     "output_type": "stream",
     "text": [
      "INFO:tensorflow:Assets written to: model_experiments/model_2_Conv1D/assets\n"
     ]
    },
    {
     "name": "stdout",
     "output_type": "stream",
     "text": [
      "70/70 [==============================] - 1s 8ms/step - loss: 175.0822 - mae: 175.0822 - val_loss: 923.4818 - val_mae: 923.4818\n",
      "Epoch 3/100\n",
      "70/70 [==============================] - 0s 3ms/step - loss: 165.9510 - mae: 165.9510 - val_loss: 1007.4684 - val_mae: 1007.4684\n",
      "Epoch 4/100\n",
      "59/70 [========================>.....] - ETA: 0s - loss: 165.2887 - mae: 165.2887INFO:tensorflow:Assets written to: model_experiments/model_2_Conv1D/assets\n"
     ]
    },
    {
     "name": "stderr",
     "output_type": "stream",
     "text": [
      "INFO:tensorflow:Assets written to: model_experiments/model_2_Conv1D/assets\n"
     ]
    },
    {
     "name": "stdout",
     "output_type": "stream",
     "text": [
      "70/70 [==============================] - 1s 8ms/step - loss: 160.9738 - mae: 160.9738 - val_loss: 821.1409 - val_mae: 821.1409\n",
      "Epoch 5/100\n",
      "70/70 [==============================] - 0s 2ms/step - loss: 154.2687 - mae: 154.2687 - val_loss: 893.6516 - val_mae: 893.6516\n",
      "Epoch 6/100\n",
      "57/70 [=======================>......] - ETA: 0s - loss: 149.9429 - mae: 149.9429INFO:tensorflow:Assets written to: model_experiments/model_2_Conv1D/assets\n"
     ]
    },
    {
     "name": "stderr",
     "output_type": "stream",
     "text": [
      "INFO:tensorflow:Assets written to: model_experiments/model_2_Conv1D/assets\n"
     ]
    },
    {
     "name": "stdout",
     "output_type": "stream",
     "text": [
      "70/70 [==============================] - 1s 7ms/step - loss: 147.0423 - mae: 147.0423 - val_loss: 752.0245 - val_mae: 752.0245\n",
      "Epoch 7/100\n",
      "70/70 [==============================] - 0s 2ms/step - loss: 134.9966 - mae: 134.9966 - val_loss: 760.9916 - val_mae: 760.9916\n",
      "Epoch 8/100\n",
      "60/70 [========================>.....] - ETA: 0s - loss: 130.0383 - mae: 130.0383INFO:tensorflow:Assets written to: model_experiments/model_2_Conv1D/assets\n"
     ]
    },
    {
     "name": "stderr",
     "output_type": "stream",
     "text": [
      "INFO:tensorflow:Assets written to: model_experiments/model_2_Conv1D/assets\n"
     ]
    },
    {
     "name": "stdout",
     "output_type": "stream",
     "text": [
      "70/70 [==============================] - 1s 7ms/step - loss: 130.3542 - mae: 130.3542 - val_loss: 701.8557 - val_mae: 701.8557\n",
      "Epoch 9/100\n",
      "55/70 [======================>.......] - ETA: 0s - loss: 131.4963 - mae: 131.4963INFO:tensorflow:Assets written to: model_experiments/model_2_Conv1D/assets\n"
     ]
    },
    {
     "name": "stderr",
     "output_type": "stream",
     "text": [
      "INFO:tensorflow:Assets written to: model_experiments/model_2_Conv1D/assets\n"
     ]
    },
    {
     "name": "stdout",
     "output_type": "stream",
     "text": [
      "70/70 [==============================] - 1s 8ms/step - loss: 129.4374 - mae: 129.4374 - val_loss: 674.8318 - val_mae: 674.8318\n",
      "Epoch 10/100\n",
      "70/70 [==============================] - 0s 2ms/step - loss: 129.7548 - mae: 129.7548 - val_loss: 692.0575 - val_mae: 692.0575\n",
      "Epoch 11/100\n",
      "62/70 [=========================>....] - ETA: 0s - loss: 128.0644 - mae: 128.0644INFO:tensorflow:Assets written to: model_experiments/model_2_Conv1D/assets\n"
     ]
    },
    {
     "name": "stderr",
     "output_type": "stream",
     "text": [
      "INFO:tensorflow:Assets written to: model_experiments/model_2_Conv1D/assets\n"
     ]
    },
    {
     "name": "stdout",
     "output_type": "stream",
     "text": [
      "70/70 [==============================] - 0s 7ms/step - loss: 129.6379 - mae: 129.6379 - val_loss: 659.4009 - val_mae: 659.4009\n",
      "Epoch 12/100\n",
      "70/70 [==============================] - 0s 2ms/step - loss: 130.6689 - mae: 130.6689 - val_loss: 677.9120 - val_mae: 677.9120\n",
      "Epoch 13/100\n",
      "70/70 [==============================] - 0s 2ms/step - loss: 120.5708 - mae: 120.5708 - val_loss: 665.0255 - val_mae: 665.0255\n",
      "Epoch 14/100\n",
      "57/70 [=======================>......] - ETA: 0s - loss: 126.2146 - mae: 126.2146INFO:tensorflow:Assets written to: model_experiments/model_2_Conv1D/assets\n"
     ]
    },
    {
     "name": "stderr",
     "output_type": "stream",
     "text": [
      "INFO:tensorflow:Assets written to: model_experiments/model_2_Conv1D/assets\n"
     ]
    },
    {
     "name": "stdout",
     "output_type": "stream",
     "text": [
      "70/70 [==============================] - 1s 8ms/step - loss: 121.9869 - mae: 121.9869 - val_loss: 620.4457 - val_mae: 620.4457\n",
      "Epoch 15/100\n",
      "70/70 [==============================] - 0s 2ms/step - loss: 129.4469 - mae: 129.4469 - val_loss: 850.4518 - val_mae: 850.4518\n",
      "Epoch 16/100\n",
      "70/70 [==============================] - 0s 2ms/step - loss: 125.1787 - mae: 125.1787 - val_loss: 748.5709 - val_mae: 748.5709\n",
      "Epoch 17/100\n",
      "70/70 [==============================] - 0s 2ms/step - loss: 118.9047 - mae: 118.9047 - val_loss: 621.1331 - val_mae: 621.1331\n",
      "Epoch 18/100\n",
      "70/70 [==============================] - 0s 2ms/step - loss: 121.0349 - mae: 121.0349 - val_loss: 627.3807 - val_mae: 627.3807\n",
      "Epoch 19/100\n",
      "70/70 [==============================] - 0s 2ms/step - loss: 123.1282 - mae: 123.1282 - val_loss: 860.3013 - val_mae: 860.3013\n",
      "Epoch 20/100\n",
      "70/70 [==============================] - 0s 2ms/step - loss: 128.1976 - mae: 128.1976 - val_loss: 756.0247 - val_mae: 756.0247\n",
      "Epoch 21/100\n",
      "57/70 [=======================>......] - ETA: 0s - loss: 120.6452 - mae: 120.6452INFO:tensorflow:Assets written to: model_experiments/model_2_Conv1D/assets\n"
     ]
    },
    {
     "name": "stderr",
     "output_type": "stream",
     "text": [
      "INFO:tensorflow:Assets written to: model_experiments/model_2_Conv1D/assets\n"
     ]
    },
    {
     "name": "stdout",
     "output_type": "stream",
     "text": [
      "70/70 [==============================] - 1s 7ms/step - loss: 118.8059 - mae: 118.8059 - val_loss: 617.5305 - val_mae: 617.5305\n",
      "Epoch 22/100\n",
      "70/70 [==============================] - 0s 3ms/step - loss: 113.9758 - mae: 113.9758 - val_loss: 704.2343 - val_mae: 704.2343\n",
      "Epoch 23/100\n",
      "56/70 [=======================>......] - ETA: 0s - loss: 125.9300 - mae: 125.9300INFO:tensorflow:Assets written to: model_experiments/model_2_Conv1D/assets\n"
     ]
    },
    {
     "name": "stderr",
     "output_type": "stream",
     "text": [
      "INFO:tensorflow:Assets written to: model_experiments/model_2_Conv1D/assets\n"
     ]
    },
    {
     "name": "stdout",
     "output_type": "stream",
     "text": [
      "70/70 [==============================] - 1s 8ms/step - loss: 125.3076 - mae: 125.3076 - val_loss: 596.8085 - val_mae: 596.8085\n",
      "Epoch 24/100\n",
      "70/70 [==============================] - 0s 2ms/step - loss: 123.2907 - mae: 123.2907 - val_loss: 614.3029 - val_mae: 614.3029\n",
      "Epoch 25/100\n",
      "64/70 [==========================>...] - ETA: 0s - loss: 119.2088 - mae: 119.2088INFO:tensorflow:Assets written to: model_experiments/model_2_Conv1D/assets\n"
     ]
    },
    {
     "name": "stderr",
     "output_type": "stream",
     "text": [
      "INFO:tensorflow:Assets written to: model_experiments/model_2_Conv1D/assets\n"
     ]
    },
    {
     "name": "stdout",
     "output_type": "stream",
     "text": [
      "70/70 [==============================] - 0s 7ms/step - loss: 117.9437 - mae: 117.9437 - val_loss: 587.4826 - val_mae: 587.4826\n",
      "Epoch 26/100\n",
      "70/70 [==============================] - 0s 2ms/step - loss: 118.5938 - mae: 118.5938 - val_loss: 706.6486 - val_mae: 706.6486\n",
      "Epoch 27/100\n",
      "70/70 [==============================] - 0s 2ms/step - loss: 122.7000 - mae: 122.7000 - val_loss: 601.7245 - val_mae: 601.7245\n",
      "Epoch 28/100\n",
      "63/70 [==========================>...] - ETA: 0s - loss: 120.8552 - mae: 120.8552INFO:tensorflow:Assets written to: model_experiments/model_2_Conv1D/assets\n"
     ]
    },
    {
     "name": "stderr",
     "output_type": "stream",
     "text": [
      "INFO:tensorflow:Assets written to: model_experiments/model_2_Conv1D/assets\n"
     ]
    },
    {
     "name": "stdout",
     "output_type": "stream",
     "text": [
      "70/70 [==============================] - 1s 9ms/step - loss: 118.2329 - mae: 118.2329 - val_loss: 585.6036 - val_mae: 585.6036\n",
      "Epoch 29/100\n",
      "70/70 [==============================] - 0s 2ms/step - loss: 119.6519 - mae: 119.6519 - val_loss: 750.2293 - val_mae: 750.2293\n",
      "Epoch 30/100\n",
      "61/70 [=========================>....] - ETA: 0s - loss: 121.4045 - mae: 121.4045INFO:tensorflow:Assets written to: model_experiments/model_2_Conv1D/assets\n"
     ]
    },
    {
     "name": "stderr",
     "output_type": "stream",
     "text": [
      "INFO:tensorflow:Assets written to: model_experiments/model_2_Conv1D/assets\n"
     ]
    },
    {
     "name": "stdout",
     "output_type": "stream",
     "text": [
      "70/70 [==============================] - 1s 9ms/step - loss: 118.5963 - mae: 118.5963 - val_loss: 582.7057 - val_mae: 582.7057\n",
      "Epoch 31/100\n",
      "55/70 [======================>.......] - ETA: 0s - loss: 123.0782 - mae: 123.0782INFO:tensorflow:Assets written to: model_experiments/model_2_Conv1D/assets\n"
     ]
    },
    {
     "name": "stderr",
     "output_type": "stream",
     "text": [
      "INFO:tensorflow:Assets written to: model_experiments/model_2_Conv1D/assets\n"
     ]
    },
    {
     "name": "stdout",
     "output_type": "stream",
     "text": [
      "70/70 [==============================] - 1s 7ms/step - loss: 117.0917 - mae: 117.0917 - val_loss: 581.7856 - val_mae: 581.7856\n",
      "Epoch 32/100\n",
      "70/70 [==============================] - 0s 2ms/step - loss: 111.5798 - mae: 111.5798 - val_loss: 653.0148 - val_mae: 653.0148\n",
      "Epoch 33/100\n",
      "70/70 [==============================] - 0s 2ms/step - loss: 123.8082 - mae: 123.8082 - val_loss: 640.9718 - val_mae: 640.9718\n",
      "Epoch 34/100\n",
      "70/70 [==============================] - 0s 2ms/step - loss: 114.9707 - mae: 114.9707 - val_loss: 634.2855 - val_mae: 634.2855\n",
      "Epoch 35/100\n",
      "70/70 [==============================] - 0s 2ms/step - loss: 116.8908 - mae: 116.8908 - val_loss: 594.4246 - val_mae: 594.4246\n",
      "Epoch 36/100\n",
      "70/70 [==============================] - 0s 2ms/step - loss: 115.2256 - mae: 115.2256 - val_loss: 776.5801 - val_mae: 776.5801\n",
      "Epoch 37/100\n",
      "70/70 [==============================] - 0s 2ms/step - loss: 114.5415 - mae: 114.5415 - val_loss: 615.5759 - val_mae: 615.5759\n",
      "Epoch 38/100\n",
      "70/70 [==============================] - 0s 2ms/step - loss: 113.6743 - mae: 113.6743 - val_loss: 627.6644 - val_mae: 627.6644\n",
      "Epoch 39/100\n",
      "70/70 [==============================] - 0s 2ms/step - loss: 112.0791 - mae: 112.0791 - val_loss: 585.3105 - val_mae: 585.3105\n",
      "Epoch 40/100\n",
      "64/70 [==========================>...] - ETA: 0s - loss: 111.7639 - mae: 111.7639INFO:tensorflow:Assets written to: model_experiments/model_2_Conv1D/assets\n"
     ]
    },
    {
     "name": "stderr",
     "output_type": "stream",
     "text": [
      "INFO:tensorflow:Assets written to: model_experiments/model_2_Conv1D/assets\n"
     ]
    },
    {
     "name": "stdout",
     "output_type": "stream",
     "text": [
      "70/70 [==============================] - 0s 7ms/step - loss: 113.6222 - mae: 113.6222 - val_loss: 580.6447 - val_mae: 580.6447\n",
      "Epoch 41/100\n",
      "70/70 [==============================] - 0s 2ms/step - loss: 111.5665 - mae: 111.5665 - val_loss: 596.0848 - val_mae: 596.0848\n",
      "Epoch 42/100\n",
      "70/70 [==============================] - 0s 2ms/step - loss: 117.3335 - mae: 117.3335 - val_loss: 607.4484 - val_mae: 607.4484\n",
      "Epoch 43/100\n",
      "70/70 [==============================] - 0s 2ms/step - loss: 109.5196 - mae: 109.5196 - val_loss: 582.1223 - val_mae: 582.1223\n",
      "Epoch 44/100\n",
      "70/70 [==============================] - 0s 3ms/step - loss: 118.0680 - mae: 118.0680 - val_loss: 716.9860 - val_mae: 716.9860\n",
      "Epoch 45/100\n",
      "70/70 [==============================] - 0s 2ms/step - loss: 116.3432 - mae: 116.3432 - val_loss: 592.2442 - val_mae: 592.2442\n",
      "Epoch 46/100\n",
      "70/70 [==============================] - 0s 2ms/step - loss: 112.5501 - mae: 112.5501 - val_loss: 589.4237 - val_mae: 589.4237\n",
      "Epoch 47/100\n",
      "56/70 [=======================>......] - ETA: 0s - loss: 113.2236 - mae: 113.2236INFO:tensorflow:Assets written to: model_experiments/model_2_Conv1D/assets\n"
     ]
    },
    {
     "name": "stderr",
     "output_type": "stream",
     "text": [
      "INFO:tensorflow:Assets written to: model_experiments/model_2_Conv1D/assets\n"
     ]
    },
    {
     "name": "stdout",
     "output_type": "stream",
     "text": [
      "70/70 [==============================] - 1s 7ms/step - loss: 109.4527 - mae: 109.4527 - val_loss: 576.5160 - val_mae: 576.5160\n",
      "Epoch 48/100\n",
      "70/70 [==============================] - 0s 2ms/step - loss: 116.9491 - mae: 116.9491 - val_loss: 693.1686 - val_mae: 693.1686\n",
      "Epoch 49/100\n",
      "70/70 [==============================] - 0s 2ms/step - loss: 114.5008 - mae: 114.5008 - val_loss: 633.4564 - val_mae: 633.4564\n",
      "Epoch 50/100\n",
      "70/70 [==============================] - 0s 2ms/step - loss: 114.5110 - mae: 114.5110 - val_loss: 699.5571 - val_mae: 699.5571\n",
      "Epoch 51/100\n",
      "70/70 [==============================] - 0s 2ms/step - loss: 111.8733 - mae: 111.8733 - val_loss: 636.2451 - val_mae: 636.2451\n",
      "Epoch 52/100\n",
      "70/70 [==============================] - 0s 2ms/step - loss: 114.2518 - mae: 114.2518 - val_loss: 649.7776 - val_mae: 649.7776\n",
      "Epoch 53/100\n",
      "70/70 [==============================] - 0s 2ms/step - loss: 120.0235 - mae: 120.0235 - val_loss: 662.1032 - val_mae: 662.1032\n",
      "Epoch 54/100\n",
      "60/70 [========================>.....] - ETA: 0s - loss: 115.0026 - mae: 115.0026INFO:tensorflow:Assets written to: model_experiments/model_2_Conv1D/assets\n"
     ]
    },
    {
     "name": "stderr",
     "output_type": "stream",
     "text": [
      "INFO:tensorflow:Assets written to: model_experiments/model_2_Conv1D/assets\n"
     ]
    },
    {
     "name": "stdout",
     "output_type": "stream",
     "text": [
      "70/70 [==============================] - 1s 7ms/step - loss: 115.4358 - mae: 115.4358 - val_loss: 571.6324 - val_mae: 571.6324\n",
      "Epoch 55/100\n",
      "70/70 [==============================] - 0s 2ms/step - loss: 112.3367 - mae: 112.3367 - val_loss: 573.2380 - val_mae: 573.2380\n",
      "Epoch 56/100\n",
      "70/70 [==============================] - 0s 2ms/step - loss: 118.6434 - mae: 118.6434 - val_loss: 615.3746 - val_mae: 615.3746\n",
      "Epoch 57/100\n",
      "70/70 [==============================] - 0s 2ms/step - loss: 110.5841 - mae: 110.5841 - val_loss: 606.5143 - val_mae: 606.5143\n",
      "Epoch 58/100\n",
      "70/70 [==============================] - 0s 2ms/step - loss: 117.0054 - mae: 117.0054 - val_loss: 602.6879 - val_mae: 602.6879\n",
      "Epoch 59/100\n",
      "70/70 [==============================] - 0s 3ms/step - loss: 114.7835 - mae: 114.7835 - val_loss: 589.3839 - val_mae: 589.3839\n",
      "Epoch 60/100\n",
      "70/70 [==============================] - 0s 3ms/step - loss: 113.8273 - mae: 113.8273 - val_loss: 607.4486 - val_mae: 607.4486\n",
      "Epoch 61/100\n",
      "70/70 [==============================] - 0s 2ms/step - loss: 119.2397 - mae: 119.2397 - val_loss: 616.2054 - val_mae: 616.2054\n",
      "Epoch 62/100\n",
      "70/70 [==============================] - 0s 3ms/step - loss: 112.0227 - mae: 112.0227 - val_loss: 571.6839 - val_mae: 571.6839\n",
      "Epoch 63/100\n",
      "70/70 [==============================] - 0s 2ms/step - loss: 107.1790 - mae: 107.1790 - val_loss: 659.8209 - val_mae: 659.8209\n",
      "Epoch 64/100\n",
      "70/70 [==============================] - 0s 2ms/step - loss: 113.6823 - mae: 113.6823 - val_loss: 578.9299 - val_mae: 578.9299\n",
      "Epoch 65/100\n",
      "70/70 [==============================] - 0s 3ms/step - loss: 112.3732 - mae: 112.3732 - val_loss: 791.8242 - val_mae: 791.8242\n",
      "Epoch 66/100\n",
      "70/70 [==============================] - 0s 2ms/step - loss: 112.2410 - mae: 112.2410 - val_loss: 588.6877 - val_mae: 588.6877\n",
      "Epoch 67/100\n",
      "70/70 [==============================] - 0s 2ms/step - loss: 118.0853 - mae: 118.0853 - val_loss: 580.8087 - val_mae: 580.8087\n",
      "Epoch 68/100\n",
      "59/70 [========================>.....] - ETA: 0s - loss: 110.4550 - mae: 110.4550INFO:tensorflow:Assets written to: model_experiments/model_2_Conv1D/assets\n"
     ]
    },
    {
     "name": "stderr",
     "output_type": "stream",
     "text": [
      "INFO:tensorflow:Assets written to: model_experiments/model_2_Conv1D/assets\n"
     ]
    },
    {
     "name": "stdout",
     "output_type": "stream",
     "text": [
      "70/70 [==============================] - 1s 8ms/step - loss: 110.3237 - mae: 110.3237 - val_loss: 567.1567 - val_mae: 567.1567\n",
      "Epoch 69/100\n",
      "70/70 [==============================] - 0s 2ms/step - loss: 113.8641 - mae: 113.8641 - val_loss: 632.4775 - val_mae: 632.4775\n",
      "Epoch 70/100\n",
      "70/70 [==============================] - 0s 2ms/step - loss: 123.8711 - mae: 123.8711 - val_loss: 613.1041 - val_mae: 613.1041\n",
      "Epoch 71/100\n",
      "70/70 [==============================] - 0s 2ms/step - loss: 110.3880 - mae: 110.3880 - val_loss: 661.2249 - val_mae: 661.2249\n",
      "Epoch 72/100\n",
      "70/70 [==============================] - 0s 2ms/step - loss: 107.5926 - mae: 107.5926 - val_loss: 581.5438 - val_mae: 581.5438\n",
      "Epoch 73/100\n",
      "70/70 [==============================] - 0s 2ms/step - loss: 119.3622 - mae: 119.3622 - val_loss: 640.8325 - val_mae: 640.8325\n",
      "Epoch 74/100\n",
      "70/70 [==============================] - 0s 2ms/step - loss: 115.2913 - mae: 115.2913 - val_loss: 589.9178 - val_mae: 589.9178\n",
      "Epoch 75/100\n",
      "70/70 [==============================] - 0s 2ms/step - loss: 111.3201 - mae: 111.3201 - val_loss: 645.5846 - val_mae: 645.5846\n",
      "Epoch 76/100\n",
      "70/70 [==============================] - 0s 2ms/step - loss: 114.7433 - mae: 114.7433 - val_loss: 580.5143 - val_mae: 580.5143\n",
      "Epoch 77/100\n",
      "70/70 [==============================] - 0s 2ms/step - loss: 109.1009 - mae: 109.1009 - val_loss: 736.7943 - val_mae: 736.7943\n",
      "Epoch 78/100\n",
      "70/70 [==============================] - 0s 2ms/step - loss: 115.4155 - mae: 115.4155 - val_loss: 569.6367 - val_mae: 569.6367\n",
      "Epoch 79/100\n",
      "70/70 [==============================] - 0s 2ms/step - loss: 109.9595 - mae: 109.9595 - val_loss: 683.2250 - val_mae: 683.2250\n",
      "Epoch 80/100\n",
      "70/70 [==============================] - 0s 2ms/step - loss: 113.3429 - mae: 113.3429 - val_loss: 576.6443 - val_mae: 576.6443\n",
      "Epoch 81/100\n",
      "70/70 [==============================] - 0s 2ms/step - loss: 117.7645 - mae: 117.7645 - val_loss: 712.5607 - val_mae: 712.5607\n",
      "Epoch 82/100\n",
      "59/70 [========================>.....] - ETA: 0s - loss: 119.6209 - mae: 119.6209INFO:tensorflow:Assets written to: model_experiments/model_2_Conv1D/assets\n"
     ]
    },
    {
     "name": "stderr",
     "output_type": "stream",
     "text": [
      "INFO:tensorflow:Assets written to: model_experiments/model_2_Conv1D/assets\n"
     ]
    },
    {
     "name": "stdout",
     "output_type": "stream",
     "text": [
      "70/70 [==============================] - 1s 7ms/step - loss: 119.2956 - mae: 119.2956 - val_loss: 567.1501 - val_mae: 567.1501\n",
      "Epoch 83/100\n",
      "70/70 [==============================] - 0s 2ms/step - loss: 112.0784 - mae: 112.0784 - val_loss: 660.2622 - val_mae: 660.2622\n",
      "Epoch 84/100\n",
      "70/70 [==============================] - 0s 2ms/step - loss: 113.0111 - mae: 113.0111 - val_loss: 613.1071 - val_mae: 613.1071\n",
      "Epoch 85/100\n",
      "70/70 [==============================] - 0s 3ms/step - loss: 111.3998 - mae: 111.3998 - val_loss: 572.8730 - val_mae: 572.8730\n",
      "Epoch 86/100\n",
      "70/70 [==============================] - 0s 2ms/step - loss: 107.7746 - mae: 107.7746 - val_loss: 619.5070 - val_mae: 619.5070\n",
      "Epoch 87/100\n",
      "70/70 [==============================] - 0s 2ms/step - loss: 111.8919 - mae: 111.8919 - val_loss: 655.6433 - val_mae: 655.6433\n",
      "Epoch 88/100\n",
      "70/70 [==============================] - 0s 2ms/step - loss: 112.8543 - mae: 112.8543 - val_loss: 571.5901 - val_mae: 571.5901\n",
      "Epoch 89/100\n",
      "62/70 [=========================>....] - ETA: 0s - loss: 108.8468 - mae: 108.8468INFO:tensorflow:Assets written to: model_experiments/model_2_Conv1D/assets\n"
     ]
    },
    {
     "name": "stderr",
     "output_type": "stream",
     "text": [
      "INFO:tensorflow:Assets written to: model_experiments/model_2_Conv1D/assets\n"
     ]
    },
    {
     "name": "stdout",
     "output_type": "stream",
     "text": [
      "70/70 [==============================] - 1s 8ms/step - loss: 109.4055 - mae: 109.4055 - val_loss: 566.5204 - val_mae: 566.5204\n",
      "Epoch 90/100\n",
      "70/70 [==============================] - 0s 2ms/step - loss: 107.8768 - mae: 107.8768 - val_loss: 595.1240 - val_mae: 595.1240\n",
      "Epoch 91/100\n",
      "70/70 [==============================] - 0s 3ms/step - loss: 107.3025 - mae: 107.3025 - val_loss: 838.9830 - val_mae: 838.9830\n",
      "Epoch 92/100\n",
      "70/70 [==============================] - 0s 3ms/step - loss: 117.2081 - mae: 117.2081 - val_loss: 597.8840 - val_mae: 597.8840\n",
      "Epoch 93/100\n",
      "70/70 [==============================] - 0s 3ms/step - loss: 111.7916 - mae: 111.7916 - val_loss: 577.8279 - val_mae: 577.8279\n",
      "Epoch 94/100\n",
      "70/70 [==============================] - 0s 2ms/step - loss: 107.8368 - mae: 107.8368 - val_loss: 587.6602 - val_mae: 587.6602\n",
      "Epoch 95/100\n",
      "70/70 [==============================] - 0s 2ms/step - loss: 120.3744 - mae: 120.3744 - val_loss: 572.6644 - val_mae: 572.6644\n",
      "Epoch 96/100\n",
      "70/70 [==============================] - 0s 2ms/step - loss: 117.8593 - mae: 117.8593 - val_loss: 747.5881 - val_mae: 747.5881\n",
      "Epoch 97/100\n",
      "70/70 [==============================] - 0s 2ms/step - loss: 117.3872 - mae: 117.3872 - val_loss: 604.4038 - val_mae: 604.4038\n",
      "Epoch 98/100\n",
      "70/70 [==============================] - 0s 2ms/step - loss: 112.2153 - mae: 112.2153 - val_loss: 760.6091 - val_mae: 760.6091\n",
      "Epoch 99/100\n",
      "70/70 [==============================] - 0s 2ms/step - loss: 112.4643 - mae: 112.4643 - val_loss: 571.9242 - val_mae: 571.9242\n",
      "Epoch 100/100\n",
      "70/70 [==============================] - 0s 2ms/step - loss: 112.3906 - mae: 112.3906 - val_loss: 622.2292 - val_mae: 622.2292\n"
     ]
    }
   ],
   "source": [
    "import tensorflow as tf\n",
    "from tensorflow.keras import layers\n",
    "from tensorflow.keras.models import Sequential\n",
    "from tensorflow.keras.losses import mae\n",
    "from tensorflow.keras.optimizers import Adam\n",
    "\n",
    "WINDOW = 7\n",
    "HORIZON = 1\n",
    "\n",
    "tf.random.set_seed(42)\n",
    "\n",
    "model_2 = Sequential([\n",
    "    layers.Lambda(lambda x: tf.expand_dims(x, axis=1)), # resize the inputs to adjust for window size / Conv1D 3D input requirements\n",
    "    layers.Conv1D(128, kernel_size=5, padding=\"causal\", activation=\"relu\"),\n",
    "    layers.Dense(HORIZON, activation=\"linear\") \n",
    "], name=\"model_2_Conv1D\")\n",
    "\n",
    "model_2.compile(loss=mae,\n",
    "                optimizer=Adam(),\n",
    "                metrics=[\"mae\"])\n",
    "\n",
    "history_2 = model_2.fit(train_windows,\n",
    "                        train_labels,\n",
    "                        epochs=100,\n",
    "                        verbose=1,\n",
    "                        validation_data=(test_windows, test_labels),\n",
    "                        callbacks=[create_model_checkpoint(model_name=model_2.name)])"
   ]
  },
  {
   "cell_type": "code",
   "execution_count": 58,
   "id": "1c6ac26d-e858-47e0-9199-13cf65fb5ca5",
   "metadata": {},
   "outputs": [
    {
     "data": {
      "text/plain": [
       "{'name': 'model_2_Conv1D',\n",
       " 'layers': [{'class_name': 'InputLayer',\n",
       "   'config': {'batch_input_shape': (None, 7),\n",
       "    'dtype': 'float32',\n",
       "    'sparse': False,\n",
       "    'ragged': False,\n",
       "    'name': 'lambda_2_input'}},\n",
       "  {'class_name': 'Lambda',\n",
       "   'config': {'name': 'lambda_2',\n",
       "    'trainable': True,\n",
       "    'dtype': 'float32',\n",
       "    'function': ('4wEAAAAAAAAAAAAAAAEAAAAEAAAAQwAAAHMOAAAAdABqAXwAZAFkAo0CUwApA07pAQAAACkB2gRh\\neGlzKQLaAnRm2gtleHBhbmRfZGltcykB2gF4qQByBgAAAPofL3RtcC9pcHlrZXJuZWxfODI4MDUv\\nNjk5MjQ4Ny5wedoIPGxhbWJkYT4NAAAA8wAAAAA=\\n',\n",
       "     None,\n",
       "     None),\n",
       "    'function_type': 'lambda',\n",
       "    'module': '__main__',\n",
       "    'output_shape': None,\n",
       "    'output_shape_type': 'raw',\n",
       "    'output_shape_module': None,\n",
       "    'arguments': {}}},\n",
       "  {'class_name': 'Conv1D',\n",
       "   'config': {'name': 'conv1d_1',\n",
       "    'trainable': True,\n",
       "    'dtype': 'float32',\n",
       "    'filters': 128,\n",
       "    'kernel_size': (5,),\n",
       "    'strides': (1,),\n",
       "    'padding': 'causal',\n",
       "    'data_format': 'channels_last',\n",
       "    'dilation_rate': (1,),\n",
       "    'groups': 1,\n",
       "    'activation': 'relu',\n",
       "    'use_bias': True,\n",
       "    'kernel_initializer': {'class_name': 'GlorotUniform',\n",
       "     'config': {'seed': None}},\n",
       "    'bias_initializer': {'class_name': 'Zeros', 'config': {}},\n",
       "    'kernel_regularizer': None,\n",
       "    'bias_regularizer': None,\n",
       "    'activity_regularizer': None,\n",
       "    'kernel_constraint': None,\n",
       "    'bias_constraint': None}},\n",
       "  {'class_name': 'Dense',\n",
       "   'config': {'name': 'dense_6',\n",
       "    'trainable': True,\n",
       "    'dtype': 'float32',\n",
       "    'units': 1,\n",
       "    'activation': 'linear',\n",
       "    'use_bias': True,\n",
       "    'kernel_initializer': {'class_name': 'GlorotUniform',\n",
       "     'config': {'seed': None}},\n",
       "    'bias_initializer': {'class_name': 'Zeros', 'config': {}},\n",
       "    'kernel_regularizer': None,\n",
       "    'bias_regularizer': None,\n",
       "    'activity_regularizer': None,\n",
       "    'kernel_constraint': None,\n",
       "    'bias_constraint': None}}]}"
      ]
     },
     "execution_count": 58,
     "metadata": {},
     "output_type": "execute_result"
    }
   ],
   "source": [
    "model_2.get_config()"
   ]
  },
  {
   "cell_type": "code",
   "execution_count": 59,
   "id": "ce4c225c-671f-4f40-92ff-521784ba3aca",
   "metadata": {},
   "outputs": [
    {
     "name": "stdout",
     "output_type": "stream",
     "text": [
      "Model: \"model_2_Conv1D\"\n",
      "_________________________________________________________________\n",
      " Layer (type)                Output Shape              Param #   \n",
      "=================================================================\n",
      " lambda_2 (Lambda)           (None, 1, 7)              0         \n",
      "                                                                 \n",
      " conv1d_1 (Conv1D)           (None, 1, 128)            4608      \n",
      "                                                                 \n",
      " dense_6 (Dense)             (None, 1, 1)              129       \n",
      "                                                                 \n",
      "=================================================================\n",
      "Total params: 4,737\n",
      "Trainable params: 4,737\n",
      "Non-trainable params: 0\n",
      "_________________________________________________________________\n"
     ]
    }
   ],
   "source": [
    "model_2.summary()"
   ]
  },
  {
   "cell_type": "code",
   "execution_count": 60,
   "id": "2d83d5af-88f7-4af6-b0e2-08fd7ff38854",
   "metadata": {},
   "outputs": [
    {
     "name": "stdout",
     "output_type": "stream",
     "text": [
      "18/18 [==============================] - 0s 2ms/step - loss: 622.2292 - mae: 622.2292\n",
      "18/18 [==============================] - 0s 2ms/step - loss: 566.5204 - mae: 566.5204\n"
     ]
    },
    {
     "data": {
      "text/plain": [
       "{'mae': 566.52045,\n",
       " 'mse': 1161522.0,\n",
       " 'rmse': 1077.7393,\n",
       " 'mape': 2.5242834,\n",
       " 'mase': 0.9887763}"
      ]
     },
     "execution_count": 60,
     "metadata": {},
     "output_type": "execute_result"
    },
    {
     "data": {
      "image/png": "[encoded data removed]",
      "text/plain": [
       "<Figure size 720x504 with 1 Axes>"
      ]
     },
     "metadata": {
      "needs_background": "light"
     },
     "output_type": "display_data"
    }
   ],
   "source": [
    "# Evaluate model on test data\n",
    "model_2.evaluate(test_windows, test_labels)\n",
    "\n",
    "pd.DataFrame(history_2.history).plot(figsize=(10, 7))\n",
    "\n",
    "# Load in saved best performing model_1 and evaluate on test data\n",
    "model_2 = tf.keras.models.load_model(\"model_experiments/\" + model_2.name)\n",
    "model_2.evaluate(test_windows, test_labels)\n",
    "\n",
    "# Make predictions using model_1 on the test dataset and view the results\n",
    "model_2_preds = make_preds(model_2, test_windows)\n",
    "\n",
    "\n",
    "# Evaluate preds\n",
    "model_2_results = evaluate_preds(y_true=tf.squeeze(test_labels),\n",
    "                                 y_pred=model_2_preds)\n",
    "model_2_results"
   ]
  },
  {
   "cell_type": "markdown",
   "id": "e943d6fc-9398-4826-aa6d-4bd11a40b792",
   "metadata": {},
   "source": [
    "### Model 3: RNN (LSTM)"
   ]
  },
  {
   "cell_type": "code",
   "execution_count": 61,
   "id": "3f81f336-7c14-451f-b630-4abaa7c210de",
   "metadata": {},
   "outputs": [
    {
     "name": "stdout",
     "output_type": "stream",
     "text": [
      "WARNING:tensorflow:Layer lstm_1 will not use cuDNN kernels since it doesn't meet the criteria. It will use a generic GPU kernel as fallback when running on GPU.\n"
     ]
    },
    {
     "name": "stderr",
     "output_type": "stream",
     "text": [
      "WARNING:tensorflow:Layer lstm_1 will not use cuDNN kernels since it doesn't meet the criteria. It will use a generic GPU kernel as fallback when running on GPU.\n"
     ]
    },
    {
     "name": "stdout",
     "output_type": "stream",
     "text": [
      "Epoch 1/100\n",
      "63/70 [==========================>...] - ETA: 0s - loss: 991.4950 - mae: 991.4950  INFO:tensorflow:Assets written to: model_experiments/model_3_lstm/assets\n"
     ]
    },
    {
     "name": "stderr",
     "output_type": "stream",
     "text": [
      "INFO:tensorflow:Assets written to: model_experiments/model_3_lstm/assets\n",
      "WARNING:absl:<keras.layers.recurrent.LSTMCell object at 0x7fc03c6d9fa0> has the same name 'LSTMCell' as a built-in Keras object. Consider renaming <class 'keras.layers.recurrent.LSTMCell'> to avoid naming conflicts when loading with `tf.keras.models.load_model`. If renaming is not possible, pass the object in the `custom_objects` parameter of the load function.\n"
     ]
    },
    {
     "name": "stdout",
     "output_type": "stream",
     "text": [
      "70/70 [==============================] - 2s 21ms/step - loss: 915.2845 - mae: 915.2845 - val_loss: 1038.3741 - val_mae: 1038.3741\n",
      "Epoch 2/100\n",
      "55/70 [======================>.......] - ETA: 0s - loss: 172.8376 - mae: 172.8376INFO:tensorflow:Assets written to: model_experiments/model_3_lstm/assets\n"
     ]
    },
    {
     "name": "stderr",
     "output_type": "stream",
     "text": [
      "INFO:tensorflow:Assets written to: model_experiments/model_3_lstm/assets\n",
      "WARNING:absl:<keras.layers.recurrent.LSTMCell object at 0x7fc03c6d9fa0> has the same name 'LSTMCell' as a built-in Keras object. Consider renaming <class 'keras.layers.recurrent.LSTMCell'> to avoid naming conflicts when loading with `tf.keras.models.load_model`. If renaming is not possible, pass the object in the `custom_objects` parameter of the load function.\n"
     ]
    },
    {
     "name": "stdout",
     "output_type": "stream",
     "text": [
      "70/70 [==============================] - 1s 18ms/step - loss: 175.4903 - mae: 175.4903 - val_loss: 951.7239 - val_mae: 951.7239\n",
      "Epoch 3/100\n",
      "70/70 [==============================] - 0s 4ms/step - loss: 169.0302 - mae: 169.0302 - val_loss: 966.1183 - val_mae: 966.1183\n",
      "Epoch 4/100\n",
      "69/70 [============================>.] - ETA: 0s - loss: 167.0732 - mae: 167.0732INFO:tensorflow:Assets written to: model_experiments/model_3_lstm/assets\n"
     ]
    },
    {
     "name": "stderr",
     "output_type": "stream",
     "text": [
      "INFO:tensorflow:Assets written to: model_experiments/model_3_lstm/assets\n",
      "WARNING:absl:<keras.layers.recurrent.LSTMCell object at 0x7fc03c6d9fa0> has the same name 'LSTMCell' as a built-in Keras object. Consider renaming <class 'keras.layers.recurrent.LSTMCell'> to avoid naming conflicts when loading with `tf.keras.models.load_model`. If renaming is not possible, pass the object in the `custom_objects` parameter of the load function.\n"
     ]
    },
    {
     "name": "stdout",
     "output_type": "stream",
     "text": [
      "70/70 [==============================] - 1s 18ms/step - loss: 166.4377 - mae: 166.4377 - val_loss: 921.1736 - val_mae: 921.1736\n",
      "Epoch 5/100\n",
      "63/70 [==========================>...] - ETA: 0s - loss: 156.4700 - mae: 156.4700INFO:tensorflow:Assets written to: model_experiments/model_3_lstm/assets\n"
     ]
    },
    {
     "name": "stderr",
     "output_type": "stream",
     "text": [
      "INFO:tensorflow:Assets written to: model_experiments/model_3_lstm/assets\n",
      "WARNING:absl:<keras.layers.recurrent.LSTMCell object at 0x7fc03c6d9fa0> has the same name 'LSTMCell' as a built-in Keras object. Consider renaming <class 'keras.layers.recurrent.LSTMCell'> to avoid naming conflicts when loading with `tf.keras.models.load_model`. If renaming is not possible, pass the object in the `custom_objects` parameter of the load function.\n"
     ]
    },
    {
     "name": "stdout",
     "output_type": "stream",
     "text": [
      "70/70 [==============================] - 1s 18ms/step - loss: 157.3706 - mae: 157.3706 - val_loss: 835.3214 - val_mae: 835.3214\n",
      "Epoch 6/100\n",
      "62/70 [=========================>....] - ETA: 0s - loss: 152.7187 - mae: 152.7187INFO:tensorflow:Assets written to: model_experiments/model_3_lstm/assets\n"
     ]
    },
    {
     "name": "stderr",
     "output_type": "stream",
     "text": [
      "INFO:tensorflow:Assets written to: model_experiments/model_3_lstm/assets\n",
      "WARNING:absl:<keras.layers.recurrent.LSTMCell object at 0x7fc03c6d9fa0> has the same name 'LSTMCell' as a built-in Keras object. Consider renaming <class 'keras.layers.recurrent.LSTMCell'> to avoid naming conflicts when loading with `tf.keras.models.load_model`. If renaming is not possible, pass the object in the `custom_objects` parameter of the load function.\n"
     ]
    },
    {
     "name": "stdout",
     "output_type": "stream",
     "text": [
      "70/70 [==============================] - 1s 20ms/step - loss: 149.7184 - mae: 149.7184 - val_loss: 815.7233 - val_mae: 815.7233\n",
      "Epoch 7/100\n",
      "62/70 [=========================>....] - ETA: 0s - loss: 145.8226 - mae: 145.8226INFO:tensorflow:Assets written to: model_experiments/model_3_lstm/assets\n"
     ]
    },
    {
     "name": "stderr",
     "output_type": "stream",
     "text": [
      "INFO:tensorflow:Assets written to: model_experiments/model_3_lstm/assets\n",
      "WARNING:absl:<keras.layers.recurrent.LSTMCell object at 0x7fc03c6d9fa0> has the same name 'LSTMCell' as a built-in Keras object. Consider renaming <class 'keras.layers.recurrent.LSTMCell'> to avoid naming conflicts when loading with `tf.keras.models.load_model`. If renaming is not possible, pass the object in the `custom_objects` parameter of the load function.\n"
     ]
    },
    {
     "name": "stdout",
     "output_type": "stream",
     "text": [
      "70/70 [==============================] - 1s 17ms/step - loss: 147.0569 - mae: 147.0569 - val_loss: 781.0246 - val_mae: 781.0246\n",
      "Epoch 8/100\n",
      "54/70 [======================>.......] - ETA: 0s - loss: 141.3375 - mae: 141.3375INFO:tensorflow:Assets written to: model_experiments/model_3_lstm/assets\n"
     ]
    },
    {
     "name": "stderr",
     "output_type": "stream",
     "text": [
      "INFO:tensorflow:Assets written to: model_experiments/model_3_lstm/assets\n",
      "WARNING:absl:<keras.layers.recurrent.LSTMCell object at 0x7fc03c6d9fa0> has the same name 'LSTMCell' as a built-in Keras object. Consider renaming <class 'keras.layers.recurrent.LSTMCell'> to avoid naming conflicts when loading with `tf.keras.models.load_model`. If renaming is not possible, pass the object in the `custom_objects` parameter of the load function.\n"
     ]
    },
    {
     "name": "stdout",
     "output_type": "stream",
     "text": [
      "70/70 [==============================] - 1s 17ms/step - loss: 141.7138 - mae: 141.7138 - val_loss: 759.9946 - val_mae: 759.9946\n",
      "Epoch 9/100\n",
      "57/70 [=======================>......] - ETA: 0s - loss: 139.8923 - mae: 139.8923INFO:tensorflow:Assets written to: model_experiments/model_3_lstm/assets\n"
     ]
    },
    {
     "name": "stderr",
     "output_type": "stream",
     "text": [
      "INFO:tensorflow:Assets written to: model_experiments/model_3_lstm/assets\n",
      "WARNING:absl:<keras.layers.recurrent.LSTMCell object at 0x7fc03c6d9fa0> has the same name 'LSTMCell' as a built-in Keras object. Consider renaming <class 'keras.layers.recurrent.LSTMCell'> to avoid naming conflicts when loading with `tf.keras.models.load_model`. If renaming is not possible, pass the object in the `custom_objects` parameter of the load function.\n"
     ]
    },
    {
     "name": "stdout",
     "output_type": "stream",
     "text": [
      "70/70 [==============================] - 1s 19ms/step - loss: 137.0310 - mae: 137.0310 - val_loss: 743.9283 - val_mae: 743.9283\n",
      "Epoch 10/100\n",
      "70/70 [==============================] - 0s 3ms/step - loss: 135.3138 - mae: 135.3138 - val_loss: 797.2188 - val_mae: 797.2188\n",
      "Epoch 11/100\n",
      "61/70 [=========================>....] - ETA: 0s - loss: 127.4791 - mae: 127.4791INFO:tensorflow:Assets written to: model_experiments/model_3_lstm/assets\n"
     ]
    },
    {
     "name": "stderr",
     "output_type": "stream",
     "text": [
      "INFO:tensorflow:Assets written to: model_experiments/model_3_lstm/assets\n",
      "WARNING:absl:<keras.layers.recurrent.LSTMCell object at 0x7fc03c6d9fa0> has the same name 'LSTMCell' as a built-in Keras object. Consider renaming <class 'keras.layers.recurrent.LSTMCell'> to avoid naming conflicts when loading with `tf.keras.models.load_model`. If renaming is not possible, pass the object in the `custom_objects` parameter of the load function.\n"
     ]
    },
    {
     "name": "stdout",
     "output_type": "stream",
     "text": [
      "70/70 [==============================] - 1s 19ms/step - loss: 129.7454 - mae: 129.7454 - val_loss: 700.1882 - val_mae: 700.1882\n",
      "Epoch 12/100\n",
      "70/70 [==============================] - 0s 3ms/step - loss: 133.9356 - mae: 133.9356 - val_loss: 722.5849 - val_mae: 722.5849\n",
      "Epoch 13/100\n",
      "59/70 [========================>.....] - ETA: 0s - loss: 124.6806 - mae: 124.6806INFO:tensorflow:Assets written to: model_experiments/model_3_lstm/assets\n"
     ]
    },
    {
     "name": "stderr",
     "output_type": "stream",
     "text": [
      "INFO:tensorflow:Assets written to: model_experiments/model_3_lstm/assets\n",
      "WARNING:absl:<keras.layers.recurrent.LSTMCell object at 0x7fc03c6d9fa0> has the same name 'LSTMCell' as a built-in Keras object. Consider renaming <class 'keras.layers.recurrent.LSTMCell'> to avoid naming conflicts when loading with `tf.keras.models.load_model`. If renaming is not possible, pass the object in the `custom_objects` parameter of the load function.\n"
     ]
    },
    {
     "name": "stdout",
     "output_type": "stream",
     "text": [
      "70/70 [==============================] - 1s 17ms/step - loss: 123.8215 - mae: 123.8215 - val_loss: 677.9662 - val_mae: 677.9662\n",
      "Epoch 14/100\n",
      "57/70 [=======================>......] - ETA: 0s - loss: 129.0729 - mae: 129.0729INFO:tensorflow:Assets written to: model_experiments/model_3_lstm/assets\n"
     ]
    },
    {
     "name": "stderr",
     "output_type": "stream",
     "text": [
      "INFO:tensorflow:Assets written to: model_experiments/model_3_lstm/assets\n",
      "WARNING:absl:<keras.layers.recurrent.LSTMCell object at 0x7fc03c6d9fa0> has the same name 'LSTMCell' as a built-in Keras object. Consider renaming <class 'keras.layers.recurrent.LSTMCell'> to avoid naming conflicts when loading with `tf.keras.models.load_model`. If renaming is not possible, pass the object in the `custom_objects` parameter of the load function.\n"
     ]
    },
    {
     "name": "stdout",
     "output_type": "stream",
     "text": [
      "70/70 [==============================] - 1s 18ms/step - loss: 123.4802 - mae: 123.4802 - val_loss: 670.3968 - val_mae: 670.3968\n",
      "Epoch 15/100\n",
      "70/70 [==============================] - 0s 3ms/step - loss: 128.0287 - mae: 128.0287 - val_loss: 785.0383 - val_mae: 785.0383\n",
      "Epoch 16/100\n",
      "57/70 [=======================>......] - ETA: 0s - loss: 128.5395 - mae: 128.5395INFO:tensorflow:Assets written to: model_experiments/model_3_lstm/assets\n"
     ]
    },
    {
     "name": "stderr",
     "output_type": "stream",
     "text": [
      "INFO:tensorflow:Assets written to: model_experiments/model_3_lstm/assets\n",
      "WARNING:absl:<keras.layers.recurrent.LSTMCell object at 0x7fc03c6d9fa0> has the same name 'LSTMCell' as a built-in Keras object. Consider renaming <class 'keras.layers.recurrent.LSTMCell'> to avoid naming conflicts when loading with `tf.keras.models.load_model`. If renaming is not possible, pass the object in the `custom_objects` parameter of the load function.\n"
     ]
    },
    {
     "name": "stdout",
     "output_type": "stream",
     "text": [
      "70/70 [==============================] - 1s 20ms/step - loss: 125.2342 - mae: 125.2342 - val_loss: 649.7768 - val_mae: 649.7768\n",
      "Epoch 17/100\n",
      "70/70 [==============================] - 0s 3ms/step - loss: 122.5622 - mae: 122.5622 - val_loss: 665.1839 - val_mae: 665.1839\n",
      "Epoch 18/100\n",
      "70/70 [==============================] - 0s 3ms/step - loss: 119.1595 - mae: 119.1595 - val_loss: 651.1225 - val_mae: 651.1225\n",
      "Epoch 19/100\n",
      "70/70 [==============================] - 0s 3ms/step - loss: 119.2102 - mae: 119.2102 - val_loss: 804.3262 - val_mae: 804.3262\n",
      "Epoch 20/100\n",
      "70/70 [==============================] - 0s 4ms/step - loss: 122.1999 - mae: 122.1999 - val_loss: 739.5931 - val_mae: 739.5931\n",
      "Epoch 21/100\n",
      "70/70 [==============================] - 0s 3ms/step - loss: 119.1777 - mae: 119.1777 - val_loss: 672.0864 - val_mae: 672.0864\n",
      "Epoch 22/100\n",
      "70/70 [==============================] - 0s 3ms/step - loss: 123.2945 - mae: 123.2945 - val_loss: 676.6440 - val_mae: 676.6440\n",
      "Epoch 23/100\n",
      "70/70 [==============================] - 0s 3ms/step - loss: 121.4824 - mae: 121.4824 - val_loss: 682.4512 - val_mae: 682.4512\n",
      "Epoch 24/100\n",
      "61/70 [=========================>....] - ETA: 0s - loss: 122.8195 - mae: 122.8195INFO:tensorflow:Assets written to: model_experiments/model_3_lstm/assets\n"
     ]
    },
    {
     "name": "stderr",
     "output_type": "stream",
     "text": [
      "INFO:tensorflow:Assets written to: model_experiments/model_3_lstm/assets\n",
      "WARNING:absl:<keras.layers.recurrent.LSTMCell object at 0x7fc03c6d9fa0> has the same name 'LSTMCell' as a built-in Keras object. Consider renaming <class 'keras.layers.recurrent.LSTMCell'> to avoid naming conflicts when loading with `tf.keras.models.load_model`. If renaming is not possible, pass the object in the `custom_objects` parameter of the load function.\n"
     ]
    },
    {
     "name": "stdout",
     "output_type": "stream",
     "text": [
      "70/70 [==============================] - 1s 17ms/step - loss: 120.6902 - mae: 120.6902 - val_loss: 645.5636 - val_mae: 645.5636\n",
      "Epoch 25/100\n",
      "61/70 [=========================>....] - ETA: 0s - loss: 123.0864 - mae: 123.0864INFO:tensorflow:Assets written to: model_experiments/model_3_lstm/assets\n"
     ]
    },
    {
     "name": "stderr",
     "output_type": "stream",
     "text": [
      "INFO:tensorflow:Assets written to: model_experiments/model_3_lstm/assets\n",
      "WARNING:absl:<keras.layers.recurrent.LSTMCell object at 0x7fc03c6d9fa0> has the same name 'LSTMCell' as a built-in Keras object. Consider renaming <class 'keras.layers.recurrent.LSTMCell'> to avoid naming conflicts when loading with `tf.keras.models.load_model`. If renaming is not possible, pass the object in the `custom_objects` parameter of the load function.\n"
     ]
    },
    {
     "name": "stdout",
     "output_type": "stream",
     "text": [
      "70/70 [==============================] - 1s 17ms/step - loss: 120.7988 - mae: 120.7988 - val_loss: 639.7347 - val_mae: 639.7347\n",
      "Epoch 26/100\n",
      "57/70 [=======================>......] - ETA: 0s - loss: 121.6758 - mae: 121.6758INFO:tensorflow:Assets written to: model_experiments/model_3_lstm/assets\n"
     ]
    },
    {
     "name": "stderr",
     "output_type": "stream",
     "text": [
      "INFO:tensorflow:Assets written to: model_experiments/model_3_lstm/assets\n",
      "WARNING:absl:<keras.layers.recurrent.LSTMCell object at 0x7fc03c6d9fa0> has the same name 'LSTMCell' as a built-in Keras object. Consider renaming <class 'keras.layers.recurrent.LSTMCell'> to avoid naming conflicts when loading with `tf.keras.models.load_model`. If renaming is not possible, pass the object in the `custom_objects` parameter of the load function.\n"
     ]
    },
    {
     "name": "stdout",
     "output_type": "stream",
     "text": [
      "70/70 [==============================] - 1s 16ms/step - loss: 118.2300 - mae: 118.2300 - val_loss: 614.1951 - val_mae: 614.1951\n",
      "Epoch 27/100\n",
      "70/70 [==============================] - 0s 3ms/step - loss: 117.6545 - mae: 117.6545 - val_loss: 634.3546 - val_mae: 634.3546\n",
      "Epoch 28/100\n",
      "70/70 [==============================] - 0s 3ms/step - loss: 119.8561 - mae: 119.8561 - val_loss: 736.7931 - val_mae: 736.7931\n",
      "Epoch 29/100\n",
      "59/70 [========================>.....] - ETA: 0s - loss: 123.8289 - mae: 123.8289INFO:tensorflow:Assets written to: model_experiments/model_3_lstm/assets\n"
     ]
    },
    {
     "name": "stderr",
     "output_type": "stream",
     "text": [
      "INFO:tensorflow:Assets written to: model_experiments/model_3_lstm/assets\n",
      "WARNING:absl:<keras.layers.recurrent.LSTMCell object at 0x7fc03c6d9fa0> has the same name 'LSTMCell' as a built-in Keras object. Consider renaming <class 'keras.layers.recurrent.LSTMCell'> to avoid naming conflicts when loading with `tf.keras.models.load_model`. If renaming is not possible, pass the object in the `custom_objects` parameter of the load function.\n"
     ]
    },
    {
     "name": "stdout",
     "output_type": "stream",
     "text": [
      "70/70 [==============================] - 1s 16ms/step - loss: 122.9626 - mae: 122.9626 - val_loss: 610.2136 - val_mae: 610.2136\n",
      "Epoch 30/100\n",
      "59/70 [========================>.....] - ETA: 0s - loss: 117.6439 - mae: 117.6439INFO:tensorflow:Assets written to: model_experiments/model_3_lstm/assets\n"
     ]
    },
    {
     "name": "stderr",
     "output_type": "stream",
     "text": [
      "INFO:tensorflow:Assets written to: model_experiments/model_3_lstm/assets\n",
      "WARNING:absl:<keras.layers.recurrent.LSTMCell object at 0x7fc03c6d9fa0> has the same name 'LSTMCell' as a built-in Keras object. Consider renaming <class 'keras.layers.recurrent.LSTMCell'> to avoid naming conflicts when loading with `tf.keras.models.load_model`. If renaming is not possible, pass the object in the `custom_objects` parameter of the load function.\n"
     ]
    },
    {
     "name": "stdout",
     "output_type": "stream",
     "text": [
      "70/70 [==============================] - 1s 20ms/step - loss: 114.3158 - mae: 114.3158 - val_loss: 606.2077 - val_mae: 606.2077\n",
      "Epoch 31/100\n",
      "57/70 [=======================>......] - ETA: 0s - loss: 125.3809 - mae: 125.3809INFO:tensorflow:Assets written to: model_experiments/model_3_lstm/assets\n"
     ]
    },
    {
     "name": "stderr",
     "output_type": "stream",
     "text": [
      "INFO:tensorflow:Assets written to: model_experiments/model_3_lstm/assets\n",
      "WARNING:absl:<keras.layers.recurrent.LSTMCell object at 0x7fc03c6d9fa0> has the same name 'LSTMCell' as a built-in Keras object. Consider renaming <class 'keras.layers.recurrent.LSTMCell'> to avoid naming conflicts when loading with `tf.keras.models.load_model`. If renaming is not possible, pass the object in the `custom_objects` parameter of the load function.\n"
     ]
    },
    {
     "name": "stdout",
     "output_type": "stream",
     "text": [
      "70/70 [==============================] - 1s 17ms/step - loss: 122.3151 - mae: 122.3151 - val_loss: 604.9834 - val_mae: 604.9834\n",
      "Epoch 32/100\n",
      "70/70 [==============================] - 0s 3ms/step - loss: 117.5142 - mae: 117.5142 - val_loss: 686.9069 - val_mae: 686.9069\n",
      "Epoch 33/100\n",
      "62/70 [=========================>....] - ETA: 0s - loss: 122.6489 - mae: 122.6489INFO:tensorflow:Assets written to: model_experiments/model_3_lstm/assets\n"
     ]
    },
    {
     "name": "stderr",
     "output_type": "stream",
     "text": [
      "INFO:tensorflow:Assets written to: model_experiments/model_3_lstm/assets\n",
      "WARNING:absl:<keras.layers.recurrent.LSTMCell object at 0x7fc03c6d9fa0> has the same name 'LSTMCell' as a built-in Keras object. Consider renaming <class 'keras.layers.recurrent.LSTMCell'> to avoid naming conflicts when loading with `tf.keras.models.load_model`. If renaming is not possible, pass the object in the `custom_objects` parameter of the load function.\n"
     ]
    },
    {
     "name": "stdout",
     "output_type": "stream",
     "text": [
      "70/70 [==============================] - 1s 16ms/step - loss: 122.9197 - mae: 122.9197 - val_loss: 604.9653 - val_mae: 604.9653\n",
      "Epoch 34/100\n",
      "70/70 [==============================] - 0s 3ms/step - loss: 113.9575 - mae: 113.9575 - val_loss: 623.4155 - val_mae: 623.4155\n",
      "Epoch 35/100\n",
      "60/70 [========================>.....] - ETA: 0s - loss: 117.3084 - mae: 117.3084INFO:tensorflow:Assets written to: model_experiments/model_3_lstm/assets\n"
     ]
    },
    {
     "name": "stderr",
     "output_type": "stream",
     "text": [
      "INFO:tensorflow:Assets written to: model_experiments/model_3_lstm/assets\n",
      "WARNING:absl:<keras.layers.recurrent.LSTMCell object at 0x7fc03c6d9fa0> has the same name 'LSTMCell' as a built-in Keras object. Consider renaming <class 'keras.layers.recurrent.LSTMCell'> to avoid naming conflicts when loading with `tf.keras.models.load_model`. If renaming is not possible, pass the object in the `custom_objects` parameter of the load function.\n"
     ]
    },
    {
     "name": "stdout",
     "output_type": "stream",
     "text": [
      "70/70 [==============================] - 1s 19ms/step - loss: 114.1924 - mae: 114.1924 - val_loss: 601.8385 - val_mae: 601.8385\n",
      "Epoch 36/100\n",
      "70/70 [==============================] - 0s 3ms/step - loss: 113.6969 - mae: 113.6969 - val_loss: 621.8578 - val_mae: 621.8578\n",
      "Epoch 37/100\n",
      "70/70 [==============================] - 0s 4ms/step - loss: 118.2482 - mae: 118.2482 - val_loss: 618.0723 - val_mae: 618.0723\n",
      "Epoch 38/100\n",
      "70/70 [==============================] - 0s 4ms/step - loss: 114.8914 - mae: 114.8914 - val_loss: 613.6548 - val_mae: 613.6548\n",
      "Epoch 39/100\n",
      "70/70 [==============================] - 0s 3ms/step - loss: 111.9288 - mae: 111.9288 - val_loss: 650.5990 - val_mae: 650.5990\n",
      "Epoch 40/100\n",
      "70/70 [==============================] - 0s 3ms/step - loss: 116.6428 - mae: 116.6428 - val_loss: 610.7955 - val_mae: 610.7955\n",
      "Epoch 41/100\n",
      "70/70 [==============================] - 0s 3ms/step - loss: 114.4739 - mae: 114.4739 - val_loss: 610.0930 - val_mae: 610.0930\n",
      "Epoch 42/100\n",
      "70/70 [==============================] - 0s 4ms/step - loss: 114.1020 - mae: 114.1020 - val_loss: 612.4737 - val_mae: 612.4737\n",
      "Epoch 43/100\n",
      "70/70 [==============================] - 0s 4ms/step - loss: 111.0508 - mae: 111.0508 - val_loss: 641.8297 - val_mae: 641.8297\n",
      "Epoch 44/100\n",
      "70/70 [==============================] - 0s 3ms/step - loss: 119.8926 - mae: 119.8926 - val_loss: 613.9703 - val_mae: 613.9703\n",
      "Epoch 45/100\n",
      "70/70 [==============================] - 0s 3ms/step - loss: 117.1225 - mae: 117.1225 - val_loss: 620.8145 - val_mae: 620.8145\n",
      "Epoch 46/100\n",
      "57/70 [=======================>......] - ETA: 0s - loss: 114.8766 - mae: 114.8766INFO:tensorflow:Assets written to: model_experiments/model_3_lstm/assets\n"
     ]
    },
    {
     "name": "stderr",
     "output_type": "stream",
     "text": [
      "INFO:tensorflow:Assets written to: model_experiments/model_3_lstm/assets\n",
      "WARNING:absl:<keras.layers.recurrent.LSTMCell object at 0x7fc03c6d9fa0> has the same name 'LSTMCell' as a built-in Keras object. Consider renaming <class 'keras.layers.recurrent.LSTMCell'> to avoid naming conflicts when loading with `tf.keras.models.load_model`. If renaming is not possible, pass the object in the `custom_objects` parameter of the load function.\n"
     ]
    },
    {
     "name": "stdout",
     "output_type": "stream",
     "text": [
      "70/70 [==============================] - 1s 19ms/step - loss: 111.0554 - mae: 111.0554 - val_loss: 593.1511 - val_mae: 593.1511\n",
      "Epoch 47/100\n",
      "70/70 [==============================] - 0s 4ms/step - loss: 110.0593 - mae: 110.0593 - val_loss: 593.8218 - val_mae: 593.8218\n",
      "Epoch 48/100\n",
      "55/70 [======================>.......] - ETA: 0s - loss: 113.9525 - mae: 113.9525INFO:tensorflow:Assets written to: model_experiments/model_3_lstm/assets\n"
     ]
    },
    {
     "name": "stderr",
     "output_type": "stream",
     "text": [
      "INFO:tensorflow:Assets written to: model_experiments/model_3_lstm/assets\n",
      "WARNING:absl:<keras.layers.recurrent.LSTMCell object at 0x7fc03c6d9fa0> has the same name 'LSTMCell' as a built-in Keras object. Consider renaming <class 'keras.layers.recurrent.LSTMCell'> to avoid naming conflicts when loading with `tf.keras.models.load_model`. If renaming is not possible, pass the object in the `custom_objects` parameter of the load function.\n"
     ]
    },
    {
     "name": "stdout",
     "output_type": "stream",
     "text": [
      "70/70 [==============================] - 1s 17ms/step - loss: 114.1134 - mae: 114.1134 - val_loss: 588.7889 - val_mae: 588.7889\n",
      "Epoch 49/100\n",
      "70/70 [==============================] - 0s 3ms/step - loss: 111.1898 - mae: 111.1898 - val_loss: 793.1544 - val_mae: 793.1544\n",
      "Epoch 50/100\n",
      "70/70 [==============================] - 0s 3ms/step - loss: 112.4312 - mae: 112.4312 - val_loss: 702.7578 - val_mae: 702.7578\n",
      "Epoch 51/100\n",
      "58/70 [=======================>......] - ETA: 0s - loss: 116.3390 - mae: 116.3390INFO:tensorflow:Assets written to: model_experiments/model_3_lstm/assets\n"
     ]
    },
    {
     "name": "stderr",
     "output_type": "stream",
     "text": [
      "INFO:tensorflow:Assets written to: model_experiments/model_3_lstm/assets\n",
      "WARNING:absl:<keras.layers.recurrent.LSTMCell object at 0x7fc03c6d9fa0> has the same name 'LSTMCell' as a built-in Keras object. Consider renaming <class 'keras.layers.recurrent.LSTMCell'> to avoid naming conflicts when loading with `tf.keras.models.load_model`. If renaming is not possible, pass the object in the `custom_objects` parameter of the load function.\n"
     ]
    },
    {
     "name": "stdout",
     "output_type": "stream",
     "text": [
      "70/70 [==============================] - 1s 17ms/step - loss: 112.2666 - mae: 112.2666 - val_loss: 585.6334 - val_mae: 585.6334\n",
      "Epoch 52/100\n",
      "70/70 [==============================] - 0s 3ms/step - loss: 109.5772 - mae: 109.5772 - val_loss: 680.7981 - val_mae: 680.7981\n",
      "Epoch 53/100\n",
      "70/70 [==============================] - 0s 3ms/step - loss: 112.5508 - mae: 112.5508 - val_loss: 605.1490 - val_mae: 605.1490\n",
      "Epoch 54/100\n",
      "70/70 [==============================] - ETA: 0s - loss: 110.7559 - mae: 110.7559INFO:tensorflow:Assets written to: model_experiments/model_3_lstm/assets\n"
     ]
    },
    {
     "name": "stderr",
     "output_type": "stream",
     "text": [
      "INFO:tensorflow:Assets written to: model_experiments/model_3_lstm/assets\n",
      "WARNING:absl:<keras.layers.recurrent.LSTMCell object at 0x7fc03c6d9fa0> has the same name 'LSTMCell' as a built-in Keras object. Consider renaming <class 'keras.layers.recurrent.LSTMCell'> to avoid naming conflicts when loading with `tf.keras.models.load_model`. If renaming is not possible, pass the object in the `custom_objects` parameter of the load function.\n"
     ]
    },
    {
     "name": "stdout",
     "output_type": "stream",
     "text": [
      "70/70 [==============================] - 1s 20ms/step - loss: 110.7559 - mae: 110.7559 - val_loss: 583.7853 - val_mae: 583.7853\n",
      "Epoch 55/100\n",
      "70/70 [==============================] - 0s 3ms/step - loss: 110.7276 - mae: 110.7276 - val_loss: 586.5670 - val_mae: 586.5670\n",
      "Epoch 56/100\n",
      "70/70 [==============================] - 0s 3ms/step - loss: 118.4091 - mae: 118.4091 - val_loss: 665.6033 - val_mae: 665.6033\n",
      "Epoch 57/100\n",
      "70/70 [==============================] - 0s 3ms/step - loss: 114.2841 - mae: 114.2841 - val_loss: 613.6499 - val_mae: 613.6499\n",
      "Epoch 58/100\n",
      "70/70 [==============================] - 0s 3ms/step - loss: 110.5785 - mae: 110.5785 - val_loss: 601.5654 - val_mae: 601.5654\n",
      "Epoch 59/100\n",
      "60/70 [========================>.....] - ETA: 0s - loss: 110.5692 - mae: 110.5692INFO:tensorflow:Assets written to: model_experiments/model_3_lstm/assets\n"
     ]
    },
    {
     "name": "stderr",
     "output_type": "stream",
     "text": [
      "INFO:tensorflow:Assets written to: model_experiments/model_3_lstm/assets\n",
      "WARNING:absl:<keras.layers.recurrent.LSTMCell object at 0x7fc03c6d9fa0> has the same name 'LSTMCell' as a built-in Keras object. Consider renaming <class 'keras.layers.recurrent.LSTMCell'> to avoid naming conflicts when loading with `tf.keras.models.load_model`. If renaming is not possible, pass the object in the `custom_objects` parameter of the load function.\n"
     ]
    },
    {
     "name": "stdout",
     "output_type": "stream",
     "text": [
      "70/70 [==============================] - 1s 16ms/step - loss: 109.2605 - mae: 109.2605 - val_loss: 583.7628 - val_mae: 583.7628\n",
      "Epoch 60/100\n",
      "70/70 [==============================] - 0s 3ms/step - loss: 110.1012 - mae: 110.1012 - val_loss: 610.6796 - val_mae: 610.6796\n",
      "Epoch 61/100\n",
      "70/70 [==============================] - 0s 3ms/step - loss: 112.1189 - mae: 112.1189 - val_loss: 708.6553 - val_mae: 708.6553\n",
      "Epoch 62/100\n",
      "70/70 [==============================] - 0s 3ms/step - loss: 108.7829 - mae: 108.7829 - val_loss: 614.2608 - val_mae: 614.2608\n",
      "Epoch 63/100\n",
      "70/70 [==============================] - 0s 3ms/step - loss: 108.8758 - mae: 108.8758 - val_loss: 590.1066 - val_mae: 590.1066\n",
      "Epoch 64/100\n",
      "64/70 [==========================>...] - ETA: 0s - loss: 109.9209 - mae: 109.9209INFO:tensorflow:Assets written to: model_experiments/model_3_lstm/assets\n"
     ]
    },
    {
     "name": "stderr",
     "output_type": "stream",
     "text": [
      "INFO:tensorflow:Assets written to: model_experiments/model_3_lstm/assets\n",
      "WARNING:absl:<keras.layers.recurrent.LSTMCell object at 0x7fc03c6d9fa0> has the same name 'LSTMCell' as a built-in Keras object. Consider renaming <class 'keras.layers.recurrent.LSTMCell'> to avoid naming conflicts when loading with `tf.keras.models.load_model`. If renaming is not possible, pass the object in the `custom_objects` parameter of the load function.\n"
     ]
    },
    {
     "name": "stdout",
     "output_type": "stream",
     "text": [
      "70/70 [==============================] - 1s 16ms/step - loss: 110.0243 - mae: 110.0243 - val_loss: 580.2365 - val_mae: 580.2365\n",
      "Epoch 65/100\n",
      "70/70 [==============================] - 0s 3ms/step - loss: 110.7056 - mae: 110.7056 - val_loss: 632.5356 - val_mae: 632.5356\n",
      "Epoch 66/100\n",
      "70/70 [==============================] - 0s 3ms/step - loss: 108.8722 - mae: 108.8722 - val_loss: 644.0596 - val_mae: 644.0596\n",
      "Epoch 67/100\n",
      "66/70 [===========================>..] - ETA: 0s - loss: 110.3689 - mae: 110.3689INFO:tensorflow:Assets written to: model_experiments/model_3_lstm/assets\n"
     ]
    },
    {
     "name": "stderr",
     "output_type": "stream",
     "text": [
      "INFO:tensorflow:Assets written to: model_experiments/model_3_lstm/assets\n",
      "WARNING:absl:<keras.layers.recurrent.LSTMCell object at 0x7fc03c6d9fa0> has the same name 'LSTMCell' as a built-in Keras object. Consider renaming <class 'keras.layers.recurrent.LSTMCell'> to avoid naming conflicts when loading with `tf.keras.models.load_model`. If renaming is not possible, pass the object in the `custom_objects` parameter of the load function.\n"
     ]
    },
    {
     "name": "stdout",
     "output_type": "stream",
     "text": [
      "70/70 [==============================] - 1s 16ms/step - loss: 113.7845 - mae: 113.7845 - val_loss: 578.5281 - val_mae: 578.5281\n",
      "Epoch 68/100\n",
      "70/70 [==============================] - 0s 3ms/step - loss: 110.9618 - mae: 110.9618 - val_loss: 625.6916 - val_mae: 625.6916\n",
      "Epoch 69/100\n",
      "70/70 [==============================] - 0s 3ms/step - loss: 117.7873 - mae: 117.7873 - val_loss: 591.7465 - val_mae: 591.7465\n",
      "Epoch 70/100\n",
      "70/70 [==============================] - 0s 3ms/step - loss: 114.5534 - mae: 114.5534 - val_loss: 658.2577 - val_mae: 658.2577\n",
      "Epoch 71/100\n",
      "70/70 [==============================] - 0s 3ms/step - loss: 111.2343 - mae: 111.2343 - val_loss: 641.1189 - val_mae: 641.1189\n",
      "Epoch 72/100\n",
      "70/70 [==============================] - 0s 3ms/step - loss: 112.6839 - mae: 112.6839 - val_loss: 689.6494 - val_mae: 689.6494\n",
      "Epoch 73/100\n",
      "70/70 [==============================] - 0s 3ms/step - loss: 114.4499 - mae: 114.4499 - val_loss: 600.0333 - val_mae: 600.0333\n",
      "Epoch 74/100\n",
      "70/70 [==============================] - 0s 3ms/step - loss: 110.2400 - mae: 110.2400 - val_loss: 594.2876 - val_mae: 594.2876\n",
      "Epoch 75/100\n",
      "67/70 [===========================>..] - ETA: 0s - loss: 114.7989 - mae: 114.7989INFO:tensorflow:Assets written to: model_experiments/model_3_lstm/assets\n"
     ]
    },
    {
     "name": "stderr",
     "output_type": "stream",
     "text": [
      "INFO:tensorflow:Assets written to: model_experiments/model_3_lstm/assets\n",
      "WARNING:absl:<keras.layers.recurrent.LSTMCell object at 0x7fc03c6d9fa0> has the same name 'LSTMCell' as a built-in Keras object. Consider renaming <class 'keras.layers.recurrent.LSTMCell'> to avoid naming conflicts when loading with `tf.keras.models.load_model`. If renaming is not possible, pass the object in the `custom_objects` parameter of the load function.\n"
     ]
    },
    {
     "name": "stdout",
     "output_type": "stream",
     "text": [
      "70/70 [==============================] - 1s 19ms/step - loss: 113.7162 - mae: 113.7162 - val_loss: 575.7781 - val_mae: 575.7781\n",
      "Epoch 76/100\n",
      "70/70 [==============================] - 0s 3ms/step - loss: 109.8759 - mae: 109.8759 - val_loss: 580.8073 - val_mae: 580.8073\n",
      "Epoch 77/100\n",
      "70/70 [==============================] - 0s 3ms/step - loss: 109.3983 - mae: 109.3983 - val_loss: 623.4296 - val_mae: 623.4296\n",
      "Epoch 78/100\n",
      "68/70 [============================>.] - ETA: 0s - loss: 112.8599 - mae: 112.8599INFO:tensorflow:Assets written to: model_experiments/model_3_lstm/assets\n"
     ]
    },
    {
     "name": "stderr",
     "output_type": "stream",
     "text": [
      "INFO:tensorflow:Assets written to: model_experiments/model_3_lstm/assets\n",
      "WARNING:absl:<keras.layers.recurrent.LSTMCell object at 0x7fc03c6d9fa0> has the same name 'LSTMCell' as a built-in Keras object. Consider renaming <class 'keras.layers.recurrent.LSTMCell'> to avoid naming conflicts when loading with `tf.keras.models.load_model`. If renaming is not possible, pass the object in the `custom_objects` parameter of the load function.\n"
     ]
    },
    {
     "name": "stdout",
     "output_type": "stream",
     "text": [
      "70/70 [==============================] - 1s 16ms/step - loss: 111.6940 - mae: 111.6940 - val_loss: 575.1329 - val_mae: 575.1329\n",
      "Epoch 79/100\n",
      "70/70 [==============================] - 0s 4ms/step - loss: 108.2176 - mae: 108.2176 - val_loss: 619.8290 - val_mae: 619.8290\n",
      "Epoch 80/100\n",
      "70/70 [==============================] - 0s 4ms/step - loss: 113.8670 - mae: 113.8670 - val_loss: 621.7864 - val_mae: 621.7864\n",
      "Epoch 81/100\n",
      "70/70 [==============================] - 0s 4ms/step - loss: 116.9506 - mae: 116.9506 - val_loss: 597.6683 - val_mae: 597.6683\n",
      "Epoch 82/100\n",
      "70/70 [==============================] - 0s 4ms/step - loss: 114.3020 - mae: 114.3020 - val_loss: 578.1902 - val_mae: 578.1902\n",
      "Epoch 83/100\n",
      "70/70 [==============================] - 0s 4ms/step - loss: 110.1479 - mae: 110.1479 - val_loss: 575.7518 - val_mae: 575.7518\n",
      "Epoch 84/100\n",
      "70/70 [==============================] - 0s 4ms/step - loss: 109.9293 - mae: 109.9293 - val_loss: 681.3928 - val_mae: 681.3928\n",
      "Epoch 85/100\n",
      "70/70 [==============================] - 0s 3ms/step - loss: 110.9671 - mae: 110.9671 - val_loss: 599.5472 - val_mae: 599.5472\n",
      "Epoch 86/100\n",
      "70/70 [==============================] - 0s 3ms/step - loss: 110.2870 - mae: 110.2870 - val_loss: 597.7220 - val_mae: 597.7220\n",
      "Epoch 87/100\n",
      "70/70 [==============================] - 0s 3ms/step - loss: 109.5805 - mae: 109.5805 - val_loss: 611.8477 - val_mae: 611.8477\n",
      "Epoch 88/100\n",
      "70/70 [==============================] - 0s 4ms/step - loss: 110.0870 - mae: 110.0870 - val_loss: 577.3284 - val_mae: 577.3284\n",
      "Epoch 89/100\n",
      "70/70 [==============================] - 0s 3ms/step - loss: 107.7925 - mae: 107.7925 - val_loss: 580.3062 - val_mae: 580.3062\n",
      "Epoch 90/100\n",
      "70/70 [==============================] - 0s 3ms/step - loss: 110.0647 - mae: 110.0647 - val_loss: 577.1297 - val_mae: 577.1297\n",
      "Epoch 91/100\n",
      "70/70 [==============================] - 0s 3ms/step - loss: 107.8796 - mae: 107.8796 - val_loss: 650.1098 - val_mae: 650.1098\n",
      "Epoch 92/100\n",
      "70/70 [==============================] - 0s 3ms/step - loss: 111.7196 - mae: 111.7196 - val_loss: 609.5760 - val_mae: 609.5760\n",
      "Epoch 93/100\n",
      "70/70 [==============================] - 0s 4ms/step - loss: 109.9012 - mae: 109.9012 - val_loss: 668.6436 - val_mae: 668.6436\n",
      "Epoch 94/100\n",
      "70/70 [==============================] - 0s 3ms/step - loss: 107.0010 - mae: 107.0010 - val_loss: 620.1150 - val_mae: 620.1150\n",
      "Epoch 95/100\n",
      "70/70 [==============================] - 0s 3ms/step - loss: 117.3254 - mae: 117.3254 - val_loss: 581.2631 - val_mae: 581.2631\n",
      "Epoch 96/100\n",
      "70/70 [==============================] - 0s 4ms/step - loss: 113.3602 - mae: 113.3602 - val_loss: 770.7357 - val_mae: 770.7357\n",
      "Epoch 97/100\n",
      "70/70 [==============================] - 0s 4ms/step - loss: 111.3888 - mae: 111.3888 - val_loss: 601.6813 - val_mae: 601.6813\n",
      "Epoch 98/100\n",
      "70/70 [==============================] - 0s 3ms/step - loss: 111.4682 - mae: 111.4682 - val_loss: 763.2888 - val_mae: 763.2888\n",
      "Epoch 99/100\n",
      "70/70 [==============================] - 0s 4ms/step - loss: 111.4222 - mae: 111.4222 - val_loss: 575.8727 - val_mae: 575.8727\n",
      "Epoch 100/100\n",
      "70/70 [==============================] - 0s 3ms/step - loss: 109.5802 - mae: 109.5802 - val_loss: 580.4523 - val_mae: 580.4523\n"
     ]
    }
   ],
   "source": [
    "import tensorflow as tf\n",
    "from tensorflow.keras import layers\n",
    "from tensorflow.keras.models import Sequential\n",
    "from tensorflow.keras.losses import mae\n",
    "from tensorflow.keras.optimizers import Adam\n",
    "\n",
    "WINDOW_SIZE = 7\n",
    "HORIZON = 1\n",
    "\n",
    "tf.random.set_seed(42)\n",
    "\n",
    "inputs = layers.Input(shape=(WINDOW_SIZE,))\n",
    "x = layers.Lambda(lambda x: tf.expand_dims(x, axis=1))(inputs)\n",
    "x = layers.LSTM(128, activation=\"relu\")(x)\n",
    "outputs = layers.Dense(HORIZON, activation=\"linear\")(x)\n",
    "model_3 = tf.keras.Model(inputs, outputs, name=\"model_3_lstm\")\n",
    "\n",
    "model_3.compile(loss=mae,\n",
    "                optimizer=Adam(),\n",
    "                metrics=[\"mae\"])\n",
    "\n",
    "history_3 = model_3.fit(train_windows,\n",
    "                        train_labels,\n",
    "                        epochs=100,\n",
    "                        verbose=1,\n",
    "                        validation_data=(test_windows, test_labels),\n",
    "                        callbacks=[create_model_checkpoint(model_name=model_3.name)])"
   ]
  },
  {
   "cell_type": "code",
   "execution_count": 62,
   "id": "ee61adb0-a7fd-4f0d-9ff9-df7138197f8f",
   "metadata": {},
   "outputs": [
    {
     "name": "stdout",
     "output_type": "stream",
     "text": [
      "18/18 [==============================] - 0s 1ms/step - loss: 580.4523 - mae: 580.4523\n",
      "WARNING:tensorflow:Layer lstm_1 will not use cuDNN kernels since it doesn't meet the criteria. It will use a generic GPU kernel as fallback when running on GPU.\n"
     ]
    },
    {
     "name": "stderr",
     "output_type": "stream",
     "text": [
      "WARNING:tensorflow:Layer lstm_1 will not use cuDNN kernels since it doesn't meet the criteria. It will use a generic GPU kernel as fallback when running on GPU.\n"
     ]
    },
    {
     "name": "stdout",
     "output_type": "stream",
     "text": [
      "18/18 [==============================] - 0s 2ms/step - loss: 575.1329 - mae: 575.1329\n"
     ]
    },
    {
     "data": {
      "text/plain": [
       "{'mae': 575.1329,\n",
       " 'mse': 1186363.0,\n",
       " 'rmse': 1089.2029,\n",
       " 'mape': 2.583867,\n",
       " 'mase': 1.003808}"
      ]
     },
     "execution_count": 62,
     "metadata": {},
     "output_type": "execute_result"
    },
    {
     "data": {
      "image/png": "[encoded data removed]",
      "text/plain": [
       "<Figure size 720x504 with 1 Axes>"
      ]
     },
     "metadata": {
      "needs_background": "light"
     },
     "output_type": "display_data"
    }
   ],
   "source": [
    "# Evaluate model on test data\n",
    "model_3.evaluate(test_windows, test_labels)\n",
    "\n",
    "pd.DataFrame(history_3.history).plot(figsize=(10, 7))\n",
    "\n",
    "# Load in saved best performing model_1 and evaluate on test data\n",
    "model_3 = tf.keras.models.load_model(\"model_experiments/\" + model_3.name)\n",
    "model_3.evaluate(test_windows, test_labels)\n",
    "\n",
    "# Make predictions using model_1 on the test dataset and view the results\n",
    "model_3_preds = make_preds(model_3, test_windows)\n",
    "\n",
    "\n",
    "# Evaluate preds\n",
    "model_3_results = evaluate_preds(y_true=tf.squeeze(test_labels),\n",
    "                                 y_pred=model_3_preds)\n",
    "model_3_results"
   ]
  },
  {
   "cell_type": "code",
   "execution_count": null,
   "id": "1d132cd3-8f15-403f-bbe0-7d53b7c4c8c8",
   "metadata": {},
   "outputs": [],
   "source": []
  }
 ],
 "metadata": {
  "kernelspec": {
   "display_name": "Python 3",
   "language": "python",
   "name": "python3"
  },
  "language_info": {
   "codemirror_mode": {
    "name": "ipython",
    "version": 3
   },
   "file_extension": ".py",
   "mimetype": "text/x-python",
   "name": "python",
   "nbconvert_exporter": "python",
   "pygments_lexer": "ipython3",
   "version": "3.8.10"
  }
 },
 "nbformat": 4,
 "nbformat_minor": 5
}
